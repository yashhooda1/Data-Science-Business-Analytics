{
  "cells": [
    {
      "cell_type": "markdown",
      "id": "93839bb1",
      "metadata": {
        "id": "93839bb1"
      },
      "source": [
        "<center><p float=\"center\">\n",
        "  <img src=\"https://upload.wikimedia.org/wikipedia/commons/e/e9/4_RGB_McCombs_School_Brand_Branded.png\" width=\"300\" height=\"100\"/>\n",
        "  <img src=\"https://mma.prnewswire.com/media/1458111/Great_Learning_Logo.jpg?p=facebook\" width=\"200\" height=\"100\"/>\n",
        "</p></center>\n",
        "\n",
        "<h1><center><font size=8>Data Science and Business Analytics</center></font></h1>\n",
        "<h1><center>Python Foundations - Week 1</center></h1>\n",
        "<center>Variables, Datatypes, Data Structures, Conditional Statements, Loops, Functions</center>\n",
        "\n"
      ]
    },
    {
      "cell_type": "markdown",
      "id": "48d8e2ce",
      "metadata": {
        "id": "48d8e2ce"
      },
      "source": [
        "<center><img src=\"https://images.unsplash.com/photo-1620714223084-8fcacc6dfd8d?ixlib=rb-1.2.1&ixid=MnwxMjA3fDB8MHxwaG90by1wYWdlfHx8fGVufDB8fHx8&auto=format&fit=crop&w=871&q=80\" width=\"1000\" height=\"600\"></center>\n",
        "\n",
        "<b><h2><center>Cred-Pay Case Study</center></h2></b>"
      ]
    },
    {
      "cell_type": "markdown",
      "id": "e2999ae7",
      "metadata": {
        "id": "e2999ae7"
      },
      "source": [
        "## **Problem Definition**\n"
      ]
    },
    {
      "cell_type": "markdown",
      "source": [
        "### **Business Context**\n",
        "\n",
        "**Cred-Pay** is a consultation firm that partners with banks and checks if their customers are eligible for a credit card. They are a startup just at the roots of starting their business. They have partnered with a few banks and are currently collecting data for credit card applications.\n",
        "\n",
        "\n",
        "### **Objective**\n",
        "You have been hired as a Data Scientist to handle and organize the data. You are responsible to organise the data so that, it will be easily accessible and help the company predict, if the application can be accepted for a credit card or not.\n",
        "\n",
        "#### **Solution Approach**\n",
        "You have tried to understand how the credit card works and what all factors come into play. You can organize the data so that the company can help banks to provide credit cards to the customers. You have considered some features related to credit card applications. Some of them are Customer ID, Credit score, age of customer, debt status, and the number of existing credit cards.\n",
        "\n",
        "Following is the data that you have extracted and listed down, Let's try to build it into data that can be easily accessible and we can gain some insights from it.\n",
        "\n",
        "| cid | credit_score | age_of_customer | debt_status| no_of_existing_credit_cards|\n",
        "| --- | --- | --- | --- | --- |\n",
        "| cid-0001 | 650 | 25 | in-debt | 3 |\n",
        "| cid-0002 | 723 | 28 | no debt | 2 |\n",
        "| cid-0003 | 581 | 38 | no-debt | 4 |\n",
        "| cid-0004 | 462 | 41 | in-debt | 1 |\n",
        "| cid-0005 | 773 | 62 | no-debt | 2 |"
      ],
      "metadata": {
        "id": "gcI6j9lirU6C"
      },
      "id": "gcI6j9lirU6C"
    },
    {
      "cell_type": "markdown",
      "source": [
        "\n",
        "## **1.0 Organizing data in appropriate format**"
      ],
      "metadata": {
        "id": "-9OUyN9DrjdB"
      },
      "id": "-9OUyN9DrjdB"
    },
    {
      "cell_type": "markdown",
      "source": [
        "### **1.1 Storing customer details as variables**"
      ],
      "metadata": {
        "id": "_SPphsqhTxlA"
      },
      "id": "_SPphsqhTxlA"
    },
    {
      "cell_type": "markdown",
      "id": "5da097d4",
      "metadata": {
        "id": "5da097d4"
      },
      "source": [
        "Let's start with storing the information in the form of variables and try to work with them."
      ]
    },
    {
      "cell_type": "markdown",
      "id": "dc678e8b",
      "metadata": {
        "id": "dc678e8b"
      },
      "source": [
        "Let's try to create a variable to store a feature **customerid**"
      ]
    },
    {
      "cell_type": "code",
      "execution_count": 1,
      "id": "2215c68b",
      "metadata": {
        "id": "2215c68b",
        "colab": {
          "base_uri": "https://localhost:8080/"
        },
        "outputId": "3a4b9a55-6653-48e0-8bae-c33323181f2d"
      },
      "outputs": [
        {
          "output_type": "stream",
          "name": "stdout",
          "text": [
            "The Customer ID of the first customer is cid-0001\n"
          ]
        }
      ],
      "source": [
        "cid = 'cid-0001' #  a variable is created with name cid and a value is stored as cid-0001 in the variable\n",
        "print('The Customer ID of the first customer is',cid) #to display the value of the variable or a statement"
      ]
    },
    {
      "cell_type": "markdown",
      "id": "ec2734a0",
      "metadata": {
        "id": "ec2734a0"
      },
      "source": [
        "Well this works, let's save other customer id's in the same manner."
      ]
    },
    {
      "cell_type": "code",
      "execution_count": 2,
      "id": "f8c6f435",
      "metadata": {
        "id": "f8c6f435"
      },
      "outputs": [],
      "source": [
        "# Creating multiple variables to store unique customer id\n",
        "cid1 = 'cid-0001'\n",
        "cid2 = 'cid-0002'\n",
        "cid3 = 'cid-0003'\n",
        "cid4 = 'cid-0004'\n",
        "cid5 = 'cid-0005'"
      ]
    },
    {
      "cell_type": "markdown",
      "source": [
        "**What are Variables ?**\n",
        "\n",
        ">Variables are used to store any type of data.\n",
        "* A variable name must start with a letter or the underscore character\n",
        "* A variable name cannot start with a number\n",
        "* A variable name can only contain alpha-numeric characters and underscores (A-z, 0-9, and _)\n",
        "* Variable names are case-sensitive (age, Age and AGE are three different variables)"
      ],
      "metadata": {
        "id": "dwNUl6xw3gdd"
      },
      "id": "dwNUl6xw3gdd"
    },
    {
      "cell_type": "markdown",
      "id": "777754eb",
      "metadata": {
        "id": "777754eb"
      },
      "source": [
        "But if we proceed this way we will have to create multiple variables to store a single feature **(this is not an ideal way to store or access data)**"
      ]
    },
    {
      "cell_type": "markdown",
      "id": "188b945b",
      "metadata": {
        "id": "188b945b"
      },
      "source": [
        "\n",
        "What if we try to store this data as a list ?"
      ]
    },
    {
      "cell_type": "markdown",
      "source": [
        "### **1.2 Organizing and querying the data**"
      ],
      "metadata": {
        "id": "zRDU7pK8sAo_"
      },
      "id": "zRDU7pK8sAo_"
    },
    {
      "cell_type": "markdown",
      "source": [
        "**What is a List?**\n",
        "> A list in Python is an ordered group of items or elements which are stored in a single variable.\n",
        "\n",
        "**How do we define a list?**\n",
        "> Lists are created using square brackets, and the elements are separated by commas.\n",
        "```\n",
        "list_name = [element1, element2,...., element_n]\n",
        "```\n",
        "\n",
        "\n",
        "\n",
        "\n",
        "\n"
      ],
      "metadata": {
        "id": "oySqLO9P4Lc5"
      },
      "id": "oySqLO9P4Lc5"
    },
    {
      "cell_type": "code",
      "execution_count": 3,
      "id": "14cf3556",
      "metadata": {
        "colab": {
          "base_uri": "https://localhost:8080/"
        },
        "id": "14cf3556",
        "outputId": "1986d193-e23e-4c3c-9243-ec9bc59569f2"
      },
      "outputs": [
        {
          "output_type": "stream",
          "name": "stdout",
          "text": [
            "Customer ID: ['cid-0001', 'cid-0002', 'cid-0003', 'cid-0004', 'cid-0005']\n"
          ]
        }
      ],
      "source": [
        "cid = ['cid-0001', 'cid-0002', 'cid-0003', 'cid-0004', 'cid-0005'] # elements of lists are seperated by comma\n",
        "\n",
        "## Let's print the list to see if this works\n",
        "print(\"Customer ID:\",cid)"
      ]
    },
    {
      "cell_type": "markdown",
      "id": "9fcc996b",
      "metadata": {
        "id": "9fcc996b"
      },
      "source": [
        "* These work well and now we can store similar features by creating only single data element\n",
        "* Let's create lists for Credit Score, Age of the Customer, Debt Status, and the number of active Credit Cards a customer uses."
      ]
    },
    {
      "cell_type": "code",
      "execution_count": 4,
      "id": "43637179",
      "metadata": {
        "id": "43637179"
      },
      "outputs": [],
      "source": [
        "credit_score = [650, 723, 581, 462, 773]   # list for storing credit score\n",
        "age_of_customer = [25, 28, 38, 41, 62]     # list for storing age of the customer\n",
        "debt_status = ['no-debt', 'no-debt', 'no-debt', 'in-debt', 'no-debt']  # list to store the debt status\n",
        "no_of_existing_credit_cards = [3, 2, 4, 1, 2] # list to store the number of existing credit cards"
      ]
    },
    {
      "cell_type": "code",
      "execution_count": 5,
      "id": "6d69e79c",
      "metadata": {
        "colab": {
          "base_uri": "https://localhost:8080/"
        },
        "id": "6d69e79c",
        "outputId": "d46d3617-cada-48fb-d970-9b501f8791fd"
      },
      "outputs": [
        {
          "output_type": "stream",
          "name": "stdout",
          "text": [
            "Customer ID: ['cid-0001', 'cid-0002', 'cid-0003', 'cid-0004', 'cid-0005']\n",
            "Credit Score: [650, 723, 581, 462, 773]\n",
            "Age of Customer: [25, 28, 38, 41, 62]\n",
            "Debt Status: ['no-debt', 'no-debt', 'no-debt', 'in-debt', 'no-debt']\n",
            "Number of existing Credit Cards: [3, 2, 4, 1, 2]\n"
          ]
        }
      ],
      "source": [
        "#Let's print all the features stored as list\n",
        "print(\"Customer ID:\", cid)\n",
        "print(\"Credit Score:\", credit_score)\n",
        "print(\"Age of Customer:\", age_of_customer)\n",
        "print(\"Debt Status:\", debt_status)\n",
        "print(\"Number of existing Credit Cards:\", no_of_existing_credit_cards)"
      ]
    },
    {
      "cell_type": "markdown",
      "id": "c61011a0",
      "metadata": {
        "id": "c61011a0"
      },
      "source": [
        "Great! now as the lists are created, let's try to fetch some data.\n",
        "\n",
        "Let's say we want to get all the details of the customer whose id is \"cid-0002\""
      ]
    },
    {
      "cell_type": "markdown",
      "source": [
        "**How are Lists indexed?**\n",
        "> List items are ordered and their indexing starts from 0 from beginning.\n",
        "Let's say the elements stored in the index are a, b, c and d. Then the index will be as follows.\n",
        "\n",
        "![index.png](data:image/png;base64,iVBORw0KGgoAAAANSUhEUgAAAlYAAABXCAYAAADGZguTAAAAAXNSR0IArs4c6QAAAARnQU1BAACxjwv8YQUAAAAJcEhZcwAADsMAAA7DAcdvqGQAAAAhdEVYdENyZWF0aW9uIFRpbWUAMjAyMjowMToxOSAxNDoxOTozMSYVA4sAACKjSURBVHhe7d0NXFRl3jfwX7KI4QdUGm9GQUdYUAm1URIUwlSiyJd0sYfwJl2fm0yL3PqE7W2W5WqZPUprtbimseutkTb7xIqK0hKiEiTo6IgQKgRMgQw3I/LywA0i9lznnGtgBpF8mXLO8P9+PlPXuc5h5py5POf8z/U29x09evQnEEIIIYSQuyYGVhrDn/kiIXdva3QqzvzQxJeIXE0c6ULlaAeoHO0DlaN89OP/J4QQQgghd4kCK0IIIYQQK6HAihBCCCHESiiwIoQQQgixEgqsCCGEEEKshAIrQgghhBArocCKEEIIIcRKugKrukqkR6eKcxBtjc6GroLnmzPfZkslWni2vNRB23mcF2HgufeG2b78kt+nXZSbjWs+hg8CXMS5Zia+oMFlnk1sX9OF/fh0ZRjmCGU30geR0XHYnVvD1xJ5aEBV1nZsfMFUji54LHwO/vThfpQ38k2IzLQi/30fWV5Tb1JjVYfcfZWQ/7/Hdlw5WoqyOr5IyC+iFQXb3sDuWr5IZKMqNRa/C49BoiYfVWJODcpzd+GD6BAs23YWV8U8YttqkLkyBHN+H48v0kzlCFy+cAz7EmIQOScOmZU8k8jG1dMfIzFRng84N28KPFGIvBNtfEGG6o3QbsrEnm116OBZEjcE7J2HF8XXaCh5LiF3SrgAJHx4li8R2WhjN951/El4dgJSCptwpqwQb88WMmqQv2E9DvVUc09sytXcT/CeRi+mH4hMlMrxhyYc3/sWJgiZFbvw3l+/As1ZLh9NBR8hfuk6FPBluemlj1UbSnaWoqqVL8qKsO85yNPKODAk8tB2FrvWyfcC0KdVs4tbxFMInKTCon9fDC9XlvcbFUJZnuQrfHOWmgRtXdn3BfhtaCA8WPp3MbwcGZfgxYgWg2Tg8u5/4Sw1Cdq+Rj2+SXwav5vzBr6RcQtA128FCv1wXtSijK8wUUSFYkGkGxyEBfNtpgRgySuecBbSXEtROU4dKkeZtgktcMKQgOEYP2sMxvk78S3MtcOQXgxt5iXof2yDq9oL6vl+GHn5DD77uFrcwntFBCJCuv627cdqFKaV4aLOiCv1Qg77DH8lRkf8FuMmu7Al5ibHIQhaPw8BvkK/pmzkiTl+iBRqrSpKoVlVBCPLUSyejqhZg8S1JsYDR6FJbmCpQQjeOB3qUVI+OtpQlXEBOn4MGOwC1WR2HAu84DGYb9Mrs30x/z67fc/PLh2Emn1FOJVdw45b+F5H4OHo0fAd4ShsYaHtfDnyDvAyULrBL8wPQVNacXzFTcrtVo/BoEfaKzpIz4XDEL41EL5uQrod+qRMpGVIQaxqaTj0OzL6zG9anf80DAvX5fMlbnYSvv5rFB7gi3LVV3+brColBnNe2S+mn/lbJVY9Znk9kJu++xtzNTj8gg9Wpwnpp7AhLxlPDhNXyJL9l6N5eQEPPPYE/L5mDzfCgsyuqT3XWI13h4rfVI2aIpz72erw6zAeOgHN+gIUikGVoA1XtOU4vj4dKSndm+NaUJKYiZSd5dLNnGnUsW3XnkCerl1c7q6j5CLSXstH3lFTUCVgn1GkR17CEaTta+j2Gbdh1FCM5sGS8XitGGB1aUBljhBUMeO94G0KqloboPsgC6lmx4D6JugzCpC6PBvakutS3t1iAU3WG0eQcUAIqoQM4XstRcZrWhR363nfmKPFnrVmZWCoQ3FyDjQflffcX+52jkHJnuSXuvOFauQcNorfd8e5i8jiQZUQtIWGmYfadq5iFxLFoModizYmIEzKJTJ2tfor7NslBVWY9Bbmh8o7qOrTqo8hk9+k2UUeD4gPgkQOPKISsePjP+Ihviw3PQdWAz0RtNSL12rUIXevvveO7BVlOL6rRryZK6NCEJs8Dy8mz0LUUqlmxKDJx6mirpt0GwsMcrKlm7FzqBoLk4T+TnPxbPwgNGVbhjWSBpxLKhZH8DmHBuDZ3byP1O5QBPFAx7D3EsSaQzdPROyNQPgUMZsRalek7QN8edYNBsE7ggcNFZWoNA8kS2o6R0iqQoaC1zLDeKQAuWJToxuC1syS9mfHdMwIFerN6liwdwFVPceIt6eCBTBTpmCJ+J2GI1x8f0ENLhaZje9rYvu5m4/4G+yO4PV8n7ZNgR/bn56+1ds9BtcwPwTz77DlQDHOna9BXmIp/0xPhMd4dn4/9k+PfW/HiU9TDyxKxNIZt1RFSWxYQYILgoKexqenWZkGv4ZP/vYaxnZVmBM5uabH4fdXI5MvIioIflSWNq//sMVYtbcUBzcvhtdAnilDN+1j5RzggxBTcKIr7qUj+3VUnSjl0xb4IGiuAk5Cu6GDIxRhXuymLmiD9kQt+6+gHQZduXQzhgJBC1QYIn6B/eA62Q/q6eKKbgZBvVEKjpbEDYdTfQOqTuqRu01nVpvWhKa7GP3nGqDi+9oA3WnTG7Fj05bxfWXrA3htTLsR3+/n28xl++zPm+RcBsEvTCWl6y/i+wIrRFaDWTAT7Q5n8Tt1hu/j3lI+U9XQ1QGu7WINCnlNnscCf6h9+T6xIEtoNryhHumOjoGVQ6w/7/DPAu61J6DjTbK+i/zgO1Rc0SdUpazGn7JYYujzWBv/BFykbCJbNagq5Unm8qVjOJx6ljo8y5EQVK0Mw+oUU/+4QLz6v5+ic9TmuSPsrUQ8E2xqGZGvXjqvs5t4tJqFE4LeOrK3ovF7U9BVitRFfL4k8ZUNLV+Dkw38ItUC40kxwQzFEItheY5Qjr9JI3hrE8pStNiz/ACSVhxFaoIOuhxTs6MVuCig4kFdy7/YRVaIJ9rrUHmUH9t0d3iYzszLzTCYmiMP5OCTzuNlr7UX+Qqg7Ecr7N1YZ8taIBcnsZNmd00/XuIpwHOU5SXEYZQbusIx7k6PYZQPpi22rFN3Dn0IISH21QR4OTVGmj+l20uozUD1fiS+KzQXuePJdX/EI9TEYLN6LUcL7KK+RRhNVouDW6LwQEU+9r39CF5KpCkXbMEtl2PzBeyzCKqACW99gEX+fIHcU7d+PspbL4EVoxyBoGh+16gvRY7mEq91MteKlnM82Rt2E78mJjrE9O1pgO7dI0jXVIr9jISO7sErpiBqa7hZk9/dcoQqlNfs1OtRefE6Os7XQCvuqxMCQt2lzvGCprbOuVJ603L9jnt93Vx/h679MHPt+s1qFJmBjrihVvUujkExeaRFoKacMOjGGjG7VYPM91/F4VphaPcGxM2W/9MVkfQXT6wB8Ih8Cy+FilkoeF8DXS+nFrEhQlD1xmz8yTyois/Ejufk2lOHyFXvgRVbrYjwg9rUkf1EdQ83Ywc4mDp0i6PspCa7G1+mOaMcgNvtjiL0cyqRkorIUCxcNQHqEHco3MSxij1yuHHA3M9y8B/OR/y1ofhCHSoLeNvAYG+o/M2+Kkf2vfAkokJ7OFb+ivz1qjJ+06+XDgTN7WjmyU53fAwtKEnWWYy6LEssRElfmRzz8jEc5hfuyymxnbM8TwyK7erPkRaLx4S8D7uNFiQyMQBOndXEFbhMEwzLgB6HLYIqdwT+JwuqXg5Ef55DyK/lZwIrZoACAZ0d2XvigqHjeRK1uGI+Us2gRypvXtqZYro6OUMxmSfZ9sauFiymHYZz0lQL5lr+u76zyc/VY6A09YOgvQm1J3jaghOc72hY7SB4hkijgFr+dQbZ2WISitnulhOJegyGJ0+iuMmiY39jZg5vUkuHlgeDvwaXEcN5CqissOwZ0lFRd+P0E3d4DI3Zhcjg37nSX8H/XVQjI+lnBjjIzAPzksWhzd1fz43jGxBZuGk5TgLKNbFYFjMHv5/mgg+yzfs5tKKt8x8zjSazBb2Vo1Be5xP/w6z5TwiqPsfHcRRU2Zrey9F+/HxgxTgFjOnqyH6DflCqTZ2jjcj7Uo8rQvVIRxvK0op5DZcb1JNMVydHtr0pUDPi1D/59sLPz2QW4PhRcYUF538b3BnYlWX/CKOwfXsb9F8WQydl96IFjUJzXsd1dNxCy5xispfUr6ye/x0UGD+525BrRzeo5vMaonPFyMtskppI66uh+wcff+frA9VNRyFan9OE4QjgNYFVXxZBV8I7ndfX4NTeizf2RbuTY2CBcnYiD3xHjUbwaw9jmmmUok6Hrw/xaSns2bAobO7hwnAmL6lrugVhzhUhjz0tE9vl4TOWPSgcQ0EFsDvhY+SLz34NKP98Hf7CH6rGxs+DupfKYGIDKjRIfL+rdnjsyxRUkXvrlgIrcdRXZ0f2Gzn4j0FElBQ4tWTrsCc2FVtj0pEuzm/kBNVyddekmoyTMOKQ35A7t48+hD3/aIUqtLOBqouvO9SmG7yuCBph+0XpSNvXDFel6arXjmtmvUxd3U1VVg3IWy3szwHoepo1tDvlcPiZj0xUe8Ljht+96QeP+YEIEvepDSU7jiBJqOFZni+NzBvsjhkv+HQ1tf0aHFkAuNxLqlljwVTumkNSrdPyEyhmge2N+3K7x9AAXaJpgtBBCFgyBsoBTvBe+BB8eUBn2FXQ8493E2KD+k9agdf/81Fp0sHT67BMLTTreiJylfQzN8LPo2x4jm7Qtq4gdZ00iSR3/sMwBJma6DtfMTh8Y2MIIb+IWwysGKUKQd1Gg3XpB2VkKJasmYBxU9z4KDZhVnQVgtfMwOzp3Qe6OsM3LgyRMSooxUiAbRvih4i3piJI3dU5ytXVlB4E9RszET7XHUPEm7gw+7gXprH3fvYV083fiDKzeZ2cQyay9/fk27PlEQpca76V6Q8c4RHQFUL6hQ3veW6mAW4IWBuBeUu84O3L69MGu8Bjuj/mbZwCv66WuV+Ns3oCZm8KgDrARarhE2ZejwlB1B+87voYjIcKkMubBZ3njsPDY/k/HbdhCFpkmsm9DrlJXSMKCbFtAzAh7iC+2JuAZ2ZLP4ki8Ji0GHHbT+GfW+Q9l07fcBZn07s6qxNiC7p+0sZGNGbn4zPe3CT9BI2YJDIi1JQJzWNE3oQnfSpH+aNytA9UjvJx6zVWVmTcl847R7PXxnJcMVUkNRlR8i9Tfa0XFPeg1ocQQggh5E7dk8BKoR7T9QO/ugLsMU0qujQHeWJzkxN8V/hARdXwhBBCCJGRexJYYZQX5m0MwbTwYfAw9e0RiP17fDBjzQyE29lM3oQQQgixfzbXx4rIH/Wxsg/Up8M+UDnaBypH+bg3NVaEEEIIIXZIrLGaPt184iZCCCGEEHInqCmQWJ3QFPjThef5EpGr+8Zsp3K0A1SO9oHKUT6oKZAQQgghxEoosCKEEEIIsRIKrAghhBBCrIQCK0IIIYQQK6HAihBCCCHESiiwIoQQQgixEgqsCCGEEEKs5B7NY1UHbXQ28vhS74YhfGsgfN2EtPnf+SFy72goxTSxJTSPlX2wu3lzDKVY8OgRpAjpiJmo/tCnT1w/aP4j+9C3yrEG745JxZtiejJyL0zEVDEtD1RjJRcdbdBrymHki4QQQgixPRRYyUDbj5U4vjYdaSntuMbzCCGEEGJ7bCCwEpr05uHFm75MzYB9VR0KX9OisIQvEkIIIcRm2VWNVduP1dBuy8Zn0aliP5/P1uigPdmENr5e0oaSLdL6rVsq0djchLIUHVJe4X+zsQDFZe3ili1F5Ti+MUPa9pVsZB0woqVDXGWp23uI26ZU40ozX99J6CPGt4m+CENHG6oOmH02219dkdnellxk+eZ90YqRIv5tPkrqeFa9EYVJ+V2fLb5PPo6n32RfyZ0zXkLi2gwEP75d7O8gvLyfycBLuy+xsuTbENn4nys1SFidCm+hLEM0mL22CN9e4SuJLBjyivDSy7wM+fm48mA96vl6Yvtay8rxrvl5uKkUxY18pUzZTWDVqC1A2mv5yDtaB1OZNJbokZdwBHsSWQDF8ywY9Mh64wjSNXoYDFJWo64cWatPIGvHCWjWF6BQ1yKtMNShODkHmr1GWNxDa2tY8GX5HuK2mnzsideipJbn3aAGeRuykJps9tlsf3PXZyGv6LqU8XNqK5GxKgfHM6q7PptpLKlG4U62rxuoT5bVVJUiZt5BvLSnHN/qeR5Tzv69JL5zEBNfL4dZERBbpy9CzJxUrPyyBuXCsrEeh/bkIHjOEXxeJW5BbFoHvv2EnXeLc5CYzsuQEc7HhHgNJq2m81EOWnVnMPPJDLxpfh5+egQPLj2BNHELebKBwMpUC9PzKz3Hsr6pR0010O2QTiTn0AA8u1toQpyLJaukUYMt2VpkH+UBkrkKI6qU/ojcIWw/C5FRpjZHFhhl1sNj6UzECs2R2wIxbrC0puWAHvrOx6F26PefkZrpBnsifMtcsfly2dYpCPBlefUs8EnS9xzUsc+44uaHhUndP7sNWl2dFLz5jmbrQhEk5gtMzaZS86ghuxAl4r4MQsAbs8TPfjGZvddid3HrlqICnDsp1b6Ru3EVh3awG64QpaonI/PE8+LonJ++exbJC6QtDKmlOEI3ZPkorgEWRKD6O6EclyD39ZHSCEFjKeJ3/EA1HjauVVeAuA8uidd85byZKCsQzklWji9L177yL3OwOYeqkW2bEYnvncS3YtodcX9ZiP8Rrqsno/Cpqonny5Nd1Fg1astRKF4JFQha4AlXRyHdD85qFcZPFtLsATX9Ug+1N05sex8oXYS0I5TjpZNSNN4PQWEubAtmsDt+GyrmMh3oMFUoGS6hMEMK/Dz+lx98ldLX6eDmDr/Hh4lpsCeosgopaWkYQhaqMGSgkGafPd0L3mI+U9varfmyJ21oqTZt1Qrj9w1obGVJB/Zes6ZIQRZ7zZgsfhnkrvTHrLU8mPpiIoI76vHt8VIkrD/OnrT4Jux5q/ymtZPE5igm4p04Fkw5sLRDf0xd8jBW+kmrDHt+RK7MmyLsWwdyM07ijJj2QsKrPvASL9SsHJ+diDgxvwUJGVUUINuy4ktI1vH0oonYHO6CAULadTBi4x7GLHGFPNlBYHUdTVXs6VNkRJZZX6Ot0Rlg55+kggUeN5xlbnB9gCe7GzUQYswj6geH+3kSdZ3v01H7/2BqFarawfti8ddnidV8TQNqDT2FSYPhYt4p32UAXHny1jhBqebBGwuy9Htz8NmSdOz5uAjFuia00cOalV3Ft7tzMPvx7bg/RIPgpUewcs8PnU0QRGYeHoIHxZuxiQLBM3iSleqZH3iS2KArOJPDk6zcvMwnI3Mdib8ID0DCa+1IdpUltsqgN/LgGIhUK6SgykSlwEz+oCNHNhBY9T4qMCLE4urXg3a03FJNgVlN0624nwVTPGmJBUk8aGlrvKF3eo86biXIcewn1Y7dBueQiYhaMswsIGvDlZxSZG08gqS4HGSl191CzRf5eVdxaC0Lpt4pwiEWSSt9fRC/IRy5h5cg82W+CZG/zsrdFtC8JrasA63FPEnk61pvN0ZnDFPxpAzZQY1VP/QXm/IEwiztPQdov8S0DQ4DumJs7xURPXym9Pr54LA3LLy76WOXIxQRgXg2eRYWrg/EjLkqePg6S6vqjSjemY093Tvbk9tn+AFJe3gfvYiZyD04E5sXeGGqd390VmQSO8Kenu/mlCW/MHZNVPAkka/f9Fx1IWlBtdkgIbmxg8DKEUNGmc6yatRWmVVLtRuRa2qe21IpPIdalZPHIHjwdFlFk1kAcx1VyaZmQbOpEe7IALiO5cmbcWDfge8w+MWoMW99OF7cEYhxfFXLvjpQ15+7ZGiSfgZFMMYFXjwJNOG7UzxJ5CX9EnItplaox+nOshyOiZ0dHontGYKp83kSVfjO4gZsRMJ8aeqF+0LOyLoDtL1TqhSYyNMpOiOELsKd9EYckXGtpA0EVr2PChRePzcy0NXfE6ZaQ53mAh+11w5jRimkvnFOGBfqDl6XYz3KoRit5ukDxTilk/azrawMugNiEs7hKoy0Wk1ZC1qEY2u/zoK4BuhW8e9ouRbFFV2j/9out3YFkeOdrH/cfY3SBZE8ieRSpAijIDqu4ozmJN7s7OtB5OU84t47z+fLuYpizWm8w8tSuWwkgqnGyoY5IDh8Mr8pX8KbiaZy7EB5agE28xvy1KUjZPX7cn2OnxfipvH07jNYmdEkBVeN9UhKPIVD4gp5soMaK0apQugKTymAKLmItOVCwHEIml1Sp3bl3IcRFPBLjI5zhl9sAHzFpro6aDemi4FO0uoiqVO7rw/Co9xvu++UJSe4jDS9gx7pwrEtOoWyukEYH+sHD+Gz6yuRtepQZyCatKoAZeL2bgiKGnGbneLJDZQjEbuQh6fGIiwIYU/DD+7EpDWluF/V2Q6NK83U6Cobfu7wyjmOBycLtRs78SArS3HeI9VYJP77cMuOtMTmDFBPQOKrw8UpMgyppnJMgvcfpXJUBk1GQhS1F9o2F8S8GoJZYjHVIPGlPbhfqGmcrMFzehdZB8X2EVgxriEBWLgpEEHTFRjC+yS5+g6DesVMzI5R3GVw04uhnghPmImIKBU8RvBPUbrBey7bn1X+8Oi6794x5awQhM917wyQXH2Ba83suc13NOZtDGXBm1nfKsZ5hALe4RMwb1soAnztpojvIWG6hSjkvjYWU3nVqJd6LN75SxROfxHCh3cDybk1ltXZxHap/JGcOgebF7AAS8xwwayF03D6/05DpPkoM2KjHDB12Ryc2cXOvwhTGQrnpRfi3mT5f5+IqVRVb/MG+Pkjzfw8VAzGrOdm4rsdUzBb3EKe7jt69OhPGsOf+SIhd0+oNROGOxN5E/qpUDnKH5WjfaBylA+qziCEEEIIsRIKrAghhBBCrIQCK0IIIYQQK6HAihBCCCHESiiwIoQQQgixEnFU4PTp0/kiIYQQQgi5UzTdArE6YbqFMz808SUiVxNHulA52gEqR/tA5Sgf1BRICCGEEGIlFFgRQgghhFgJBVaEEEIIIVZCgRUhhBBCiJVQYEUIIYQQYiUUWBFCCCGEWAkFVoQQQgghVmIXgZUhJVWcO2lrdD5K6nim1dVBK36G8LoIA88lfUkrytM34U/zx4lzykwMeBgr3tiO/Fq+mshPxS6sEMqSvT49zfOIPNTm4/CHcVgW7iOdjyPH4fcvxOOL3Bq+AZGFazXI/3s8VpjKcVoYVm7QoLyRr5chqrEi5Ja0ouDD2Yh8fh32ndZLWbUX8M3ueCyLiMXhSimLyIkeh7eswzd8icjH1YKP2HkXhtUJu5B/wRRI6VGQth0bo0OwLDEfV3kusWHN+fj0aR8se3s7vjGVY0U+MrfFInJOHDKrpSy5ocCKkFtRtB0JCflickJ8Jo7/0IQzuUl4cijLqNVg9bsaXBbXElm4pkfm2/+B1SlUuyE/ehxKeIPXFAfiuf8qFWckP1NSiA2R7iyvBvnvv44vioT1xJZVpf0fJIo1xQ9h0d+kcjy+9zWMFbIqduG9XcdkGSBTYEXILTifrUGBmHoK0VGBcBGSnlFY/MJDYi7SNMiukJLEtl0+vQsbnx6HlX+XAmUiM3XnUXbtUQSOYUFUxDLMnyEEU4yTCk8uXialkY9D357laWKbGtjD6BjMD30UXjOexzOPSeXoEhyBMDHFztXEfJznaTmx68Cqq+9VKrQlQEtRKbLWZEh5r2Qj64ARLR18YzMdl6qh3ZaNz4Ttlh9BWnIlrjTzlTfRUlSO45uOYKf4eenYs6kAhUVtfC3XakTuctM+HWX7dJ2vAIyHsnl+KnYmG9HDbpF7Rs8CK36RHqqG1zApKRj70OM89RXOlzbwNLFZpzfhsflx+EJ8Sg7EI4/xwJjIh9sTeDX5ID7JKMWZ7VHw4NndnW/udv0lNmYQJkS9i7dZWab812KLcuwsOX8n9OdJOekzNVb6vTnQrC9CcUmLlGGoQ3Eyy/uHZRDTUXIRqa/mI+9oHcS+c/VN0B/QYs/GInZ77cl1FhSdYO/NAiltE6R3b8MVLQu01qcjJaWu6/0HKBAU5wNncaEBeV/+KH2GQY+8XbzX/ajRiFiggIO0RGxCDYzZPBmogtD618nhfp4AzlZQlZVsDH0UzyWnYNU8Fc8g8teKguxUnman6lBek0Xk41oDzn/+Cf4pLrjjyZeekZoFZabPBFaGqgEI2jQLL+6dh9i1flDy/JZ9NTC08wUW7JzbVcxH/LlhXHw4lrHtX0yaiRnK5p5HAlaU4fiuGjGgUkaFIDaZbZ88C1FLPcUAyqDJx6mirpoph/GjMSPcSVrQFUN3kgV4O3U8aHNDUOwYKAeIC8RW1BpQxpO9oSdkOXBCWHwyUrIOIi50EOhUsx9NJz9GQoKp+e8hPPIQBc2yUqnBSm9PLFwl9FdVYf7mNKydLc/guM8EVt6LxsFvhKOYdhqrwvgpYpJpRksTT1bU4mIJT0eMRshkZ6nmaKAL/Bb4saLu7jqqTpTygMsHQXMVcBL+wMERijAv+In5bdCeqO2q2oQjVFETMW6wkG5DYUI2snTiChaY+UPtS93ebM61VhphZC8m/QGbX34KXq58mdiFppOb8NKCdbwfJPDAojWY788XiDz8tx6ZPCnUPp5N34VsmY627jN38aH/xmuJRI5wtmjPkbQYGmDkaW/fwZbNccrB8BjF051a0fi9KWQqReoiU/8p4ZUNLV+Dkw0wxW4iF3cELfXiTYKcrx+mzXWjJkBb9JsBsmznJ6QvaMpeZxFUYejzWBv/hDTAhMiH/wppdKfuIOIm1aD864+wcl6sLKdc6KPVI/3Mu8Z06eity/gADDS1H3ZqRcs5nuxNPXCNJ02c/IfDbzhfYBTjFRgiVagRWzNUCW+e7M3YgebBOyHklyYGVTGbzIKqKGxITcAjbnyZyIcTb5h3exSL4/8gpWs10GT13LvZllG7kzmH3uqLWtF8QycrBzh01mL5IVLoj9Xja3Rnny7JdRj2F0J7iS8yxpQCnDrf1ReL2BJ3KEJ5Ml8P84nWrzazqJl7aNQNVZqEkF/I1dObLIOqUYuxOTUJT3ryZSJb/QeKfWVE+bXym2uOAiszzspBUPB0WUm95ZQHhnpU3TDoywVDx/Mku91eMQ+8DHqkmqZPSLH8nZ2O8xdwPEUamu/sr+BBVwO0W4pR1SouEJuigncg70RZq0O5WdV02YVjPPUExvoM4mlCyC+qej/WLjVr/hOCqs8TEUZBlXw0H0NizBwsi34Yj8XsQhXPFpg/sMpxdCcFVuZGDcd4NU+nX0TOyRYpuGpuQvGXxT1Mt9APSvVo3lfKiLwv9dJ8Vx1tKEtjQZKY7wb1JLN66Va23ZaLvC/XMIQsn4pp0Xx9fSkykmvMOroTWzHhsT/wYb/7sVeTL/WZq92PfX/lo5CiFiOMKqwI+RW0Iv/vr+JwZ9XxU9hAQZX8DBwLb9djyM+9gMvZ65CYopcGCdV+hR0JH4mbCGU7f4b8RndSYGXBGaOjJ0Al1kLWoTAhA58ItU6xR5BlGNitOU/i4D8GEVFSYNSSrcOeWLZ9TDrSM4TwyAmq5WqoO2+47dAnn4KOB+PecePgO7QfFLMnIMhXymvJOIM8bef8D8RW+D+P1+MDxWRBQhimiT/CHIMvhIu70K/jlaeosywhv4bq/dBsM28e2o/VwdIPaVu8PqSZ9W2bO558IxnzxftjDQ6/Mg5B4nX1af6D6IF4LnkrnjSbkFkuKLDqxmGUF2ZvDEHwdDeII7IHu0A1NwALV/n3MN2CoB+UkaFYsmYCxk3hf8MCqiH+KgSvmYHZ07tut23aYmSJARejViM4lI8LdBwE9WLT3FptKNxRgDLL1kNyzw3AhJcz8fXedzF/Ev+XMHQMHlmUgE/SqV8HIb+WpqI8s2H5RNY8n8LbB09hc/xi6SeKBKbrqjZTnGtOju47evToTxrDn/kiIXdP6FcmDJsl8iY89VM5yh+Vo32gcpQPqrEihBBCCLESCqwIIYQQQqwC+P/ZT3QTl6M9bAAAAABJRU5ErkJggg==)\n"
      ],
      "metadata": {
        "id": "SBaYCN1-Bqpd"
      },
      "id": "SBaYCN1-Bqpd"
    },
    {
      "cell_type": "code",
      "execution_count": 6,
      "id": "99950d86",
      "metadata": {
        "colab": {
          "base_uri": "https://localhost:8080/"
        },
        "id": "99950d86",
        "outputId": "9aee6a25-3b7e-4bd0-a8c3-440138a3d1ad"
      },
      "outputs": [
        {
          "output_type": "stream",
          "name": "stdout",
          "text": [
            "1\n"
          ]
        }
      ],
      "source": [
        "## To get data of cid-0002 we need to first find the index of the same.\n",
        "pos = cid.index('cid-0002') # index() is used to fetch the index of the value mentioned\n",
        "print(pos)                  # Printing the index of 'cid-0002'"
      ]
    },
    {
      "cell_type": "code",
      "execution_count": 7,
      "id": "998ad772",
      "metadata": {
        "colab": {
          "base_uri": "https://localhost:8080/"
        },
        "id": "998ad772",
        "outputId": "d3a84c05-f247-4d74-f5b4-3ecd311f43b9"
      },
      "outputs": [
        {
          "output_type": "stream",
          "name": "stdout",
          "text": [
            "cid-0002\n",
            "723\n",
            "28\n",
            "no-debt\n",
            "2\n"
          ]
        }
      ],
      "source": [
        "## Now that we know the index, let's call the value stored at the index for all the lists.\n",
        "print(cid[pos])\n",
        "print(credit_score[pos])\n",
        "print(age_of_customer[pos])\n",
        "print(debt_status[pos])\n",
        "print(no_of_existing_credit_cards[pos])"
      ]
    },
    {
      "cell_type": "markdown",
      "id": "fc6a3136",
      "metadata": {
        "id": "fc6a3136"
      },
      "source": [
        "Well, this is amazing, we can fetch the data in a much more organised manner.\n",
        "\n",
        "We just received information that the debt status for cid-0001 needs to be changed as the customer is in debt now. Let's update the same in the list.\n",
        "\n"
      ]
    },
    {
      "cell_type": "code",
      "execution_count": 8,
      "id": "a96e7594",
      "metadata": {
        "id": "a96e7594"
      },
      "outputs": [],
      "source": [
        "#Let's first find the index of cid-0001\n",
        "pos = cid.index('cid-0001')     #saving the index of cid-001 in pos"
      ]
    },
    {
      "cell_type": "code",
      "execution_count": 9,
      "id": "c621ed6e",
      "metadata": {
        "id": "c621ed6e"
      },
      "outputs": [],
      "source": [
        "#Let's assign the updated status\n",
        "debt_status[pos] = 'in-debt'    #updating debt_status for the index variable pos"
      ]
    },
    {
      "cell_type": "code",
      "execution_count": 10,
      "id": "8537e3d3",
      "metadata": {
        "colab": {
          "base_uri": "https://localhost:8080/"
        },
        "id": "8537e3d3",
        "outputId": "8b1f44b6-039a-4abb-9b37-8889a777c823"
      },
      "outputs": [
        {
          "output_type": "execute_result",
          "data": {
            "text/plain": [
              "['in-debt', 'no-debt', 'no-debt', 'in-debt', 'no-debt']"
            ]
          },
          "metadata": {},
          "execution_count": 10
        }
      ],
      "source": [
        "debt_status                     #printing the list of debt status"
      ]
    },
    {
      "cell_type": "markdown",
      "id": "bb7f5c27",
      "metadata": {
        "id": "bb7f5c27"
      },
      "source": [
        "Great! We can see that data updation is easy to do with lists.\n",
        "\n"
      ]
    },
    {
      "cell_type": "markdown",
      "source": [
        "### **1.3 Updating customer data based on conditions**"
      ],
      "metadata": {
        "id": "ImkZyJS8shg7"
      },
      "id": "ImkZyJS8shg7"
    },
    {
      "cell_type": "markdown",
      "id": "224e4aed",
      "metadata": {
        "id": "224e4aed"
      },
      "source": [
        "We recently got an update from Cred-Pay that we need to update the credit score of all users.\n",
        "The Credit score is calculated based on 4 factors,\n",
        "\n",
        "1.   Payment History(High impact)\n",
        "2.   Credit Utilisation Ratio(High impact)\n",
        "3.   Age of the Credit(Medium impact)\n",
        "4.   Total Accounts(Low impact)\n",
        "\n",
        "Since Payment History has a huge impact on the Credit Score we have to update the score based on the user's history of on-time payment.\n",
        "\n",
        "For this, first, we have to create a list called **prec_on_time**, which stores the percentage of on-time payments done by the user. If a user's prec_on_time is **greater than 0.7**, then we have to increase their credit score by **2%**.\n",
        "\n",
        "Let's also print the customerid for those, whose credit score will be updated. Let's try this out."
      ]
    },
    {
      "cell_type": "code",
      "execution_count": 11,
      "id": "b5034e39",
      "metadata": {
        "id": "b5034e39"
      },
      "outputs": [],
      "source": [
        "# Let's first create the list prec_on_time\n",
        "# Assume that the below random numbers is the on-time payment percentage\n",
        "prec_on_time = [0.62, 0.78, 0.20, 0.32, 0.85]"
      ]
    },
    {
      "cell_type": "markdown",
      "source": [
        "Now, since we want to increase the credit score by 2%, we will first check if the prec_on_time value is greater than 0.7. We can do this with the help of conditional statements."
      ],
      "metadata": {
        "id": "8uNA48YpOmp7"
      },
      "id": "8uNA48YpOmp7"
    },
    {
      "cell_type": "markdown",
      "source": [
        "**What are Conditional Statements?**\n",
        "\n",
        "> Conditional statements are an important part of decision-making in Python. Results are generated for the satisfied condition.\n",
        "\n",
        "**If Else Conditional Statement**\n",
        "\n",
        "> The if-else statement in Python is used for decision-making. The general syntax of an if-else statement is:\n",
        "```\n",
        " if (test expression):\n",
        "    Body of if\n",
        " else:\n",
        "    Body of else\n",
        " ```\n",
        ">It contains a body of code which runs only when the condition given in the if statement is true. If the condition is false, then the optional else statement runs which contains some code for the else condition.\n"
      ],
      "metadata": {
        "id": "825ckbTqPh_x"
      },
      "id": "825ckbTqPh_x"
    },
    {
      "cell_type": "code",
      "execution_count": 12,
      "id": "5282c7b9",
      "metadata": {
        "colab": {
          "base_uri": "https://localhost:8080/"
        },
        "id": "5282c7b9",
        "outputId": "968ad7de-1d4c-4212-ba15-da13ae44e784"
      },
      "outputs": [
        {
          "output_type": "stream",
          "name": "stdout",
          "text": [
            "Credit Score is same for cid-0001\n",
            "Credit Score updated for cid-0002\n",
            "Credit Score is same for cid-0003\n",
            "Credit Score is same for cid-0004\n",
            "Credit Score updated for cid-0005\n"
          ]
        }
      ],
      "source": [
        "if prec_on_time[0] > 0.7:\n",
        "    credit_score[0] = round(credit_score[0] * 1.02)   #adding 2% will be equal to 1+0.02 = 1.02\n",
        "    print('Credit Score updated for cid-0001')\n",
        "else:\n",
        "    print('Credit Score is same for cid-0001')\n",
        "\n",
        "if prec_on_time[1]>0.7:\n",
        "    credit_score[1] = round(credit_score[1] * 1.02)\n",
        "    print('Credit Score updated for cid-0002')\n",
        "else:\n",
        "    print('Credit Score is same for cid-0002')\n",
        "\n",
        "if prec_on_time[2]>0.7:\n",
        "    credit_score[2] = round(credit_score[2] * 1.02)\n",
        "    print('Credit Score updated for cid-0003')\n",
        "else:\n",
        "    print('Credit Score is same for cid-0003')\n",
        "\n",
        "if prec_on_time[3]>0.7:\n",
        "    credit_score[3] = round(credit_score[3] * 1.02)\n",
        "    print('Credit Score updated for cid-0004')\n",
        "else:\n",
        "    print('Credit Score is same for cid-0004')\n",
        "\n",
        "if prec_on_time[4]>0.7:\n",
        "    credit_score[4] = round(credit_score[4] * 1.02)\n",
        "    print('Credit Score updated for cid-0005')\n",
        "else:\n",
        "    print('Credit Score is same for cid-0005')"
      ]
    },
    {
      "cell_type": "code",
      "execution_count": 13,
      "id": "58894f42",
      "metadata": {
        "colab": {
          "base_uri": "https://localhost:8080/"
        },
        "id": "58894f42",
        "outputId": "b11341b4-1be1-42eb-c696-091b67501026"
      },
      "outputs": [
        {
          "output_type": "execute_result",
          "data": {
            "text/plain": [
              "[650, 737, 581, 462, 788]"
            ]
          },
          "metadata": {},
          "execution_count": 13
        }
      ],
      "source": [
        "credit_score"
      ]
    },
    {
      "cell_type": "markdown",
      "id": "98bba087",
      "metadata": {
        "id": "98bba087"
      },
      "source": [
        "Great we can see the credit score is updated for cid-0002 and cid-0005. This worked since we had only 5 users but it will be very time consuming and repetitive if we have many users. We should find a better way of coding that allows us to iterate through the list more easily.\n",
        "\n",
        "Let's say, we have to reduce the credit score for those users whose prec_on_time is less than 40% by 2%\n",
        "\n",
        "\n",
        "\n"
      ]
    },
    {
      "cell_type": "markdown",
      "source": [
        "To avoid repetition of code we will use Looping Statements\n",
        "\n",
        "**What are Looping Statements?**\n",
        "\n",
        "> Loops are used in Python to iterate over a sequence.\n",
        "\n",
        "**What are the different types of loops in Python?**\n",
        "\n",
        "*   For Loop\n",
        "*   While Loop\n",
        "\n",
        "**For Loop**\n",
        "\n",
        "The syntax of the 'for loop' is:\n",
        "\n",
        "```\n",
        "for iterator_var in sequence:\n",
        "    statements(s)\n",
        "```\n",
        "**While Loop**\n",
        "The syntax of the 'for loop' is:\n",
        "```\n",
        "while condition:\n",
        "    statement(s)\n",
        "```\n",
        "\n",
        "We will use for loop in this case"
      ],
      "metadata": {
        "id": "6KErMSXxT7WB"
      },
      "id": "6KErMSXxT7WB"
    },
    {
      "cell_type": "code",
      "execution_count": 14,
      "id": "0af3fe65",
      "metadata": {
        "colab": {
          "base_uri": "https://localhost:8080/"
        },
        "id": "0af3fe65",
        "outputId": "9380dd00-adb0-41ee-aa3c-9c085534abf8"
      },
      "outputs": [
        {
          "output_type": "stream",
          "name": "stdout",
          "text": [
            "Credit Score is same for cid-0001\n",
            "Credit Score is same for cid-0002\n",
            "Credit Score updated for cid-0003\n",
            "Credit Score updated for cid-0004\n",
            "Credit Score is same for cid-0005\n"
          ]
        }
      ],
      "source": [
        "for i in range(0,5):\n",
        "    if prec_on_time[i] <0.4:\n",
        "        credit_score[i] = round(credit_score[i] * .98)   #subtracting 2% will be equal to 1-0.02 = 0.98\n",
        "        print('Credit Score updated for',cid[i])\n",
        "    else:\n",
        "        print('Credit Score is same for',cid[i])"
      ]
    },
    {
      "cell_type": "markdown",
      "id": "07bfe1fa",
      "metadata": {
        "id": "07bfe1fa"
      },
      "source": [
        "Amazing we are now able to run loops and even check conditions with minimal amount of code.\n",
        "\n",
        "Let's try playing with the data a few more times.\n",
        "\n",
        "**Let's find out how many people have credit score greater than 700?**"
      ]
    },
    {
      "cell_type": "code",
      "execution_count": 15,
      "id": "16d5c3b7",
      "metadata": {
        "colab": {
          "base_uri": "https://localhost:8080/"
        },
        "id": "16d5c3b7",
        "outputId": "b8bcdecd-543c-448f-9334-cdb83d031c60"
      },
      "outputs": [
        {
          "output_type": "stream",
          "name": "stdout",
          "text": [
            "Number of people having credit score greater than 700: 2\n"
          ]
        }
      ],
      "source": [
        "# Initialize counter to increment the customer count\n",
        "count = 0\n",
        "\n",
        "for i in range(0,len(cid)):\n",
        "    if credit_score[i]>700:\n",
        "        count +=1 # Incrementing count counter by 1 when the credit score is greater than 700\n",
        "\n",
        "print('Number of people having credit score greater than 700:',count)"
      ]
    },
    {
      "cell_type": "markdown",
      "id": "ab5afb8f",
      "metadata": {
        "id": "ab5afb8f"
      },
      "source": [
        "**Can we check How many people have more than 2 credit cards?**"
      ]
    },
    {
      "cell_type": "code",
      "execution_count": 16,
      "id": "a6850d61",
      "metadata": {
        "colab": {
          "base_uri": "https://localhost:8080/"
        },
        "id": "a6850d61",
        "outputId": "8eabc14d-5fa9-4f61-ca6f-e214b1c1cd3d"
      },
      "outputs": [
        {
          "output_type": "stream",
          "name": "stdout",
          "text": [
            "Number of people having more than 2 credit cards: 2\n"
          ]
        }
      ],
      "source": [
        "# Initialize counter to increment the customer count\n",
        "count = 0\n",
        "\n",
        "for i in range(0,len(cid)):\n",
        "     if no_of_existing_credit_cards[i]>2:\n",
        "        count +=1 # Incrementing count counter by 1 when number of credit cards are greater than 2\n",
        "print('Number of people having more than 2 credit cards:',count)"
      ]
    },
    {
      "cell_type": "markdown",
      "id": "459d82d6",
      "metadata": {
        "id": "459d82d6"
      },
      "source": [
        "**Can we count how many people are in debt and how many are in not debt ?**"
      ]
    },
    {
      "cell_type": "code",
      "execution_count": 17,
      "id": "1b902042",
      "metadata": {
        "colab": {
          "base_uri": "https://localhost:8080/"
        },
        "id": "1b902042",
        "outputId": "79d5e7e8-a5da-4470-86ae-1483817fbdd2"
      },
      "outputs": [
        {
          "output_type": "stream",
          "name": "stdout",
          "text": [
            "Number of people in debt : 2\n",
            "Number of people with no debt  3\n"
          ]
        }
      ],
      "source": [
        "# Initialize counters to increment in-debt and not in debt customer counts\n",
        "indebt = 0\n",
        "nodebt = 0\n",
        "\n",
        "for i in range(0,len(cid)):\n",
        "    if debt_status[i]=='in-debt':\n",
        "        indebt+=1   # Incrementing indebt counter by 1 when the customer is in debt\n",
        "    else:\n",
        "        nodebt+=1   # Incrementing nodebt counter by 1 when the customer is not in debt\n",
        "# Printing the number of people in-debt and not in debt\n",
        "print('Number of people in debt :',indebt)\n",
        "print('Number of people with no debt ',nodebt)"
      ]
    },
    {
      "cell_type": "markdown",
      "id": "df1adae4",
      "metadata": {
        "id": "df1adae4"
      },
      "source": [
        "**Let's try to print all the information of customer whose customer id = cid-0002**"
      ]
    },
    {
      "cell_type": "code",
      "execution_count": 18,
      "id": "598d1074",
      "metadata": {
        "id": "598d1074",
        "outputId": "239cbab4-bf7b-4ee0-f151-3ca8fa74700e",
        "colab": {
          "base_uri": "https://localhost:8080/"
        }
      },
      "outputs": [
        {
          "output_type": "stream",
          "name": "stdout",
          "text": [
            "---------------------------------------------------------------------\n",
            "Customer ID: cid-0002\n",
            "Credit Score: 737\n",
            "Age of the Customer: 28\n",
            "Debt Status: no-debt\n",
            "Number of existing Credit Cards: 2\n"
          ]
        }
      ],
      "source": [
        "for i in range(0,len(cid)):\n",
        "    if cid[i] == 'cid-0002':\n",
        "        print('---------------------------------------------------------------------')\n",
        "        print( 'Customer ID:',cid[i])\n",
        "        print( 'Credit Score:',credit_score[i])\n",
        "        print( 'Age of the Customer:',age_of_customer[i])\n",
        "        print( 'Debt Status:',debt_status[i])\n",
        "        print( 'Number of existing Credit Cards:',no_of_existing_credit_cards[i])\n"
      ]
    },
    {
      "cell_type": "markdown",
      "source": [
        "### **1.4 Modular way of updating data**"
      ],
      "metadata": {
        "id": "9pHb4HGks3xe"
      },
      "id": "9pHb4HGks3xe"
    },
    {
      "cell_type": "markdown",
      "id": "955a90c8",
      "metadata": {
        "id": "955a90c8"
      },
      "source": [
        "Awesome! But if we have to check for any other user we will have to write the above code again, that will not be a very ideal way to write code.\n",
        "\n",
        "We should try using a function."
      ]
    },
    {
      "cell_type": "markdown",
      "source": [
        "**What is a Function in Python?**\n",
        "\n",
        ">In Python, a function is a block of instructions that performs a specific task.\n",
        "\n",
        "**Why to use Functions?**\n",
        ">Functions break the program into modular chunks which can be reused later. Functions are used to make the program more organized and manageable.\n",
        "\n",
        "**How do we create a Function?**\n",
        "\n",
        "The syntax for the function is:\n",
        "```\n",
        "def function_name(parameters):\n",
        "\tstatement(s)\n",
        "  return statement\n",
        "```\n",
        "An optional return statement is used to return value(s) from the function.\n",
        "\n",
        "**What are parameters in Functions?**\n",
        ">Parameters are variables through which we pass values to a function. Parameters are optional for function definition."
      ],
      "metadata": {
        "id": "bJ90XVZUWm9n"
      },
      "id": "bJ90XVZUWm9n"
    },
    {
      "cell_type": "code",
      "execution_count": 19,
      "id": "8d40885b",
      "metadata": {
        "id": "8d40885b"
      },
      "outputs": [],
      "source": [
        "def customer_info(c_id): # def(keyword) is used to define a function followed by the function name and parameters\n",
        "    for i in range(0,len(cid)): # setting up a for loop to iterate through all the customer id's\n",
        "        if cid[i] == c_id:\n",
        "            print('---------------------------------------------------------------------')\n",
        "            print( 'Customer ID:',cid[i])\n",
        "            print( 'Credit Score:',credit_score[i])\n",
        "            print( 'Age of the Customer:',age_of_customer[i])\n",
        "            print( 'Debt Status:',debt_status[i])\n",
        "            print( 'Number of existing Credit Cards:',no_of_existing_credit_cards[i])\n"
      ]
    },
    {
      "cell_type": "markdown",
      "source": [
        "**Print the details of Customer whose id is 'cid-0001'**"
      ],
      "metadata": {
        "id": "p3I4gSmVYlx9"
      },
      "id": "p3I4gSmVYlx9"
    },
    {
      "cell_type": "code",
      "execution_count": 20,
      "id": "f7853e97",
      "metadata": {
        "colab": {
          "base_uri": "https://localhost:8080/"
        },
        "id": "f7853e97",
        "outputId": "f8ed25ed-bb65-4823-ce62-36631e0bcad8"
      },
      "outputs": [
        {
          "output_type": "stream",
          "name": "stdout",
          "text": [
            "---------------------------------------------------------------------\n",
            "Customer ID: cid-0001\n",
            "Credit Score: 650\n",
            "Age of the Customer: 25\n",
            "Debt Status: in-debt\n",
            "Number of existing Credit Cards: 3\n"
          ]
        }
      ],
      "source": [
        "customer_info('cid-0001') # Calling the above defined function"
      ]
    },
    {
      "cell_type": "markdown",
      "source": [
        "**Print the details of Customer whose id is 'cid-0002'**"
      ],
      "metadata": {
        "id": "fFlU0UYMY7BW"
      },
      "id": "fFlU0UYMY7BW"
    },
    {
      "cell_type": "code",
      "execution_count": 21,
      "id": "9cf033f1",
      "metadata": {
        "colab": {
          "base_uri": "https://localhost:8080/"
        },
        "id": "9cf033f1",
        "outputId": "c85b7fe9-dcbe-4bd3-f766-cce0fce569af"
      },
      "outputs": [
        {
          "output_type": "stream",
          "name": "stdout",
          "text": [
            "---------------------------------------------------------------------\n",
            "Customer ID: cid-0003\n",
            "Credit Score: 569\n",
            "Age of the Customer: 38\n",
            "Debt Status: no-debt\n",
            "Number of existing Credit Cards: 4\n"
          ]
        }
      ],
      "source": [
        "customer_info('cid-0003')"
      ]
    },
    {
      "cell_type": "markdown",
      "source": [
        "### **1.5 Combining all the data into a single data element**"
      ],
      "metadata": {
        "id": "AmA1peEttBpC"
      },
      "id": "AmA1peEttBpC"
    },
    {
      "cell_type": "markdown",
      "id": "a0ab3747",
      "metadata": {
        "id": "a0ab3747"
      },
      "source": [
        "Amazing! Now we are able to fetch data with a single command.\n",
        "\n",
        "But as you can see the data is currently segregated into different lists. We are just calling all the lists to fetch the data. In other words, all the lists are independent and we are fetching data by matching the index. We need to club the data into one single structure.\n",
        "\n",
        "Let's try to combine these into a dictionaries."
      ]
    },
    {
      "cell_type": "markdown",
      "source": [
        "**What is a Dictionary?**\n",
        ">Dictionaries are used to store data values in key:value pairs.\n",
        "\n",
        "**What's so special about Dictionary?**\n",
        ">Dictionary items are ordered, changeable, and does not allow duplicates.\n",
        "\n",
        "**How to declare a Dictionary?**\n",
        ">Syntax for the dictionary is:\n",
        "> ```\n",
        " dictionary = {'key1':value1,'key2':value2,...,'key_n':value_n}\n",
        "```\n",
        "\n"
      ],
      "metadata": {
        "id": "yovDgwfjZB2E"
      },
      "id": "yovDgwfjZB2E"
    },
    {
      "cell_type": "code",
      "execution_count": 22,
      "id": "b495314e",
      "metadata": {
        "id": "b495314e"
      },
      "outputs": [],
      "source": [
        "# dictionary is created with key and value pairs\n",
        "df1 = {\n",
        "    'cust_id': cid,\n",
        "    'cred_score': credit_score,\n",
        "    'age': age_of_customer,\n",
        "    'debt_status':debt_status,\n",
        "    'curr_cred_cards':no_of_existing_credit_cards\n",
        "}"
      ]
    },
    {
      "cell_type": "code",
      "execution_count": 23,
      "id": "99e68c59",
      "metadata": {
        "colab": {
          "base_uri": "https://localhost:8080/"
        },
        "id": "99e68c59",
        "outputId": "76877888-001f-4629-f730-73ddee70880d"
      },
      "outputs": [
        {
          "output_type": "execute_result",
          "data": {
            "text/plain": [
              "{'cust_id': ['cid-0001', 'cid-0002', 'cid-0003', 'cid-0004', 'cid-0005'],\n",
              " 'cred_score': [650, 737, 569, 453, 788],\n",
              " 'age': [25, 28, 38, 41, 62],\n",
              " 'debt_status': ['in-debt', 'no-debt', 'no-debt', 'in-debt', 'no-debt'],\n",
              " 'curr_cred_cards': [3, 2, 4, 1, 2]}"
            ]
          },
          "metadata": {},
          "execution_count": 23
        }
      ],
      "source": [
        "df1 # printing the dictionary"
      ]
    },
    {
      "cell_type": "markdown",
      "source": [
        "**How to access any value from dictionary?**\n",
        ">Any value of Dictionary can be accessed by calling the key value\n",
        "```\n",
        "dictionary['key']\n",
        "```\n"
      ],
      "metadata": {
        "id": "9yMccGNuazRo"
      },
      "id": "9yMccGNuazRo"
    },
    {
      "cell_type": "code",
      "source": [
        "df1['cust_id'] # fetch all the values under the key 'cust_id'"
      ],
      "metadata": {
        "colab": {
          "base_uri": "https://localhost:8080/"
        },
        "id": "rOGV9YH6aiOq",
        "outputId": "cdb72b05-28f8-4245-e80a-97df76e598b0"
      },
      "id": "rOGV9YH6aiOq",
      "execution_count": 24,
      "outputs": [
        {
          "output_type": "execute_result",
          "data": {
            "text/plain": [
              "['cid-0001', 'cid-0002', 'cid-0003', 'cid-0004', 'cid-0005']"
            ]
          },
          "metadata": {},
          "execution_count": 24
        }
      ]
    },
    {
      "cell_type": "code",
      "execution_count": 25,
      "id": "7cb995c0",
      "metadata": {
        "colab": {
          "base_uri": "https://localhost:8080/",
          "height": 36
        },
        "id": "7cb995c0",
        "outputId": "4d3f2804-3ad0-4fe3-e92d-7937553ec09b"
      },
      "outputs": [
        {
          "output_type": "execute_result",
          "data": {
            "text/plain": [
              "'cid-0003'"
            ],
            "application/vnd.google.colaboratory.intrinsic+json": {
              "type": "string"
            }
          },
          "metadata": {},
          "execution_count": 25
        }
      ],
      "source": [
        "df1['cust_id'][2] # to fetch the 3rd element in the list 'cust_id'"
      ]
    },
    {
      "cell_type": "raw",
      "id": "f7bc2968",
      "metadata": {
        "id": "f7bc2968"
      },
      "source": [
        "**Let's get all the information for the Customer whose id is 'cid-0004'**\n",
        "\n",
        "We can do this by iterating the index for a fixed list index. We can achieve that with **items()** method.\n"
      ]
    },
    {
      "cell_type": "code",
      "execution_count": 26,
      "id": "6d678f75",
      "metadata": {
        "colab": {
          "base_uri": "https://localhost:8080/"
        },
        "id": "6d678f75",
        "outputId": "34fe9fb4-b157-4f96-965f-91292772f879"
      },
      "outputs": [
        {
          "output_type": "stream",
          "name": "stdout",
          "text": [
            "cust_id cid-0004\n",
            "cred_score 453\n",
            "age 41\n",
            "debt_status in-debt\n",
            "curr_cred_cards 1\n"
          ]
        }
      ],
      "source": [
        "for key, value in df1.items():  # Iterating through all the keys of dictionary, with values index as constant\n",
        "    print(key ,value[3])"
      ]
    },
    {
      "cell_type": "markdown",
      "id": "be023f6a",
      "metadata": {
        "id": "be023f6a"
      },
      "source": [
        "Dictionaries are working well for fetching the existing data, but conditional data pulling will be difficult to achieve in this case.\n",
        "\n",
        "If only we had a better way to organize data where it will be organized, systematic, and easy to perform all the operations that we did above.\n",
        "\n",
        "We can do that by using some libraries which can do all these operations with a single piece of code. Libraries in python contain precompiled codes that can be used for defined operations. They make python programming simpler, as you don't have to create the same functions again and again when you work on a new project. These libraries are readily available and can be called upon by importing the library to the notebook.\n",
        "\n",
        "So in this case we will create a dataframe, But for that, we need to import pandas (a library used for data analysis and manipulation)"
      ]
    },
    {
      "cell_type": "markdown",
      "source": [
        "## **2.0 Getting data into a convenient structure**"
      ],
      "metadata": {
        "id": "n4CcdAfutIZM"
      },
      "id": "n4CcdAfutIZM"
    },
    {
      "cell_type": "markdown",
      "source": [
        "**What is the Pandas Library?**\n",
        "\n",
        "Pandas is an open-source Python Library providing high-performance data manipulation and analysis tools using its powerful data structures. It is fast, flexible, and expressive data structure designed to make working with 'numerical' or 'categorical' data both easy and intuitive. It aims to be the fundamental high-level building block for doing practical, real world data analysis in Python.\n",
        "\n",
        "**Why do we use Pandas?**\n",
        "- Used for analyzing, cleaning, exploring, and manipulating data.\n",
        "\n",
        "- Pandas allows us to analyze big data and make conclusions.\n",
        "\n",
        "- It is an important library in data science to get insights from data\n",
        "<img src=\"https://www.w3resource.com/w3r_images/pandas-data-structure.svg\" />"
      ],
      "metadata": {
        "id": "SQZtnRavoLej"
      },
      "id": "SQZtnRavoLej"
    },
    {
      "cell_type": "markdown",
      "source": [
        "### **2.1 Converting the dictionary into a pandas dataframe**"
      ],
      "metadata": {
        "id": "mBoLkFT7tY-6"
      },
      "id": "mBoLkFT7tY-6"
    },
    {
      "cell_type": "markdown",
      "metadata": {
        "id": "9tRIjr4im6uI"
      },
      "source": [
        "Let us start by importing the required libraries"
      ],
      "id": "9tRIjr4im6uI"
    },
    {
      "cell_type": "code",
      "source": [
        "# Installing the libraries with the specified version.\n",
        "!pip install pandas==1.5.3 -q --user"
      ],
      "metadata": {
        "id": "PXBkr210XS8F"
      },
      "execution_count": 27,
      "outputs": [],
      "id": "PXBkr210XS8F"
    },
    {
      "cell_type": "markdown",
      "source": [
        "**Note**: *After running the above cell, kindly restart the notebook kernel and run all cells sequentially from the start again.*"
      ],
      "metadata": {
        "id": "Opd_TKlOzL11"
      },
      "id": "Opd_TKlOzL11"
    },
    {
      "cell_type": "code",
      "execution_count": 28,
      "id": "ac69a207",
      "metadata": {
        "id": "ac69a207"
      },
      "outputs": [],
      "source": [
        "# import is used to call upon any library that is installed in the system.\n",
        "import pandas as pd  # anything after 'as' will become an alias for the library name"
      ]
    },
    {
      "cell_type": "markdown",
      "id": "6458f419",
      "metadata": {
        "id": "6458f419"
      },
      "source": [
        " Let's create a dataframe from the existing dictionary"
      ]
    },
    {
      "cell_type": "code",
      "execution_count": 29,
      "id": "2046a0f3",
      "metadata": {
        "id": "2046a0f3"
      },
      "outputs": [],
      "source": [
        "# Dataframe can be created by using the function pd.Dataframe\n",
        "df = pd.DataFrame(df1)"
      ]
    },
    {
      "cell_type": "code",
      "execution_count": 30,
      "id": "8eed2ecb",
      "metadata": {
        "id": "8eed2ecb",
        "outputId": "cdc7e312-e5e9-4f44-c526-cfa1b0f02694",
        "colab": {
          "base_uri": "https://localhost:8080/",
          "height": 206
        }
      },
      "outputs": [
        {
          "output_type": "execute_result",
          "data": {
            "text/plain": [
              "    cust_id  cred_score  age debt_status  curr_cred_cards\n",
              "0  cid-0001         650   25     in-debt                3\n",
              "1  cid-0002         737   28     no-debt                2\n",
              "2  cid-0003         569   38     no-debt                4\n",
              "3  cid-0004         453   41     in-debt                1\n",
              "4  cid-0005         788   62     no-debt                2"
            ],
            "text/html": [
              "\n",
              "  <div id=\"df-2ec8bd05-c52e-4880-91fc-5f28bdc8ee26\" class=\"colab-df-container\">\n",
              "    <div>\n",
              "<style scoped>\n",
              "    .dataframe tbody tr th:only-of-type {\n",
              "        vertical-align: middle;\n",
              "    }\n",
              "\n",
              "    .dataframe tbody tr th {\n",
              "        vertical-align: top;\n",
              "    }\n",
              "\n",
              "    .dataframe thead th {\n",
              "        text-align: right;\n",
              "    }\n",
              "</style>\n",
              "<table border=\"1\" class=\"dataframe\">\n",
              "  <thead>\n",
              "    <tr style=\"text-align: right;\">\n",
              "      <th></th>\n",
              "      <th>cust_id</th>\n",
              "      <th>cred_score</th>\n",
              "      <th>age</th>\n",
              "      <th>debt_status</th>\n",
              "      <th>curr_cred_cards</th>\n",
              "    </tr>\n",
              "  </thead>\n",
              "  <tbody>\n",
              "    <tr>\n",
              "      <th>0</th>\n",
              "      <td>cid-0001</td>\n",
              "      <td>650</td>\n",
              "      <td>25</td>\n",
              "      <td>in-debt</td>\n",
              "      <td>3</td>\n",
              "    </tr>\n",
              "    <tr>\n",
              "      <th>1</th>\n",
              "      <td>cid-0002</td>\n",
              "      <td>737</td>\n",
              "      <td>28</td>\n",
              "      <td>no-debt</td>\n",
              "      <td>2</td>\n",
              "    </tr>\n",
              "    <tr>\n",
              "      <th>2</th>\n",
              "      <td>cid-0003</td>\n",
              "      <td>569</td>\n",
              "      <td>38</td>\n",
              "      <td>no-debt</td>\n",
              "      <td>4</td>\n",
              "    </tr>\n",
              "    <tr>\n",
              "      <th>3</th>\n",
              "      <td>cid-0004</td>\n",
              "      <td>453</td>\n",
              "      <td>41</td>\n",
              "      <td>in-debt</td>\n",
              "      <td>1</td>\n",
              "    </tr>\n",
              "    <tr>\n",
              "      <th>4</th>\n",
              "      <td>cid-0005</td>\n",
              "      <td>788</td>\n",
              "      <td>62</td>\n",
              "      <td>no-debt</td>\n",
              "      <td>2</td>\n",
              "    </tr>\n",
              "  </tbody>\n",
              "</table>\n",
              "</div>\n",
              "    <div class=\"colab-df-buttons\">\n",
              "\n",
              "  <div class=\"colab-df-container\">\n",
              "    <button class=\"colab-df-convert\" onclick=\"convertToInteractive('df-2ec8bd05-c52e-4880-91fc-5f28bdc8ee26')\"\n",
              "            title=\"Convert this dataframe to an interactive table.\"\n",
              "            style=\"display:none;\">\n",
              "\n",
              "  <svg xmlns=\"http://www.w3.org/2000/svg\" height=\"24px\" viewBox=\"0 -960 960 960\">\n",
              "    <path d=\"M120-120v-720h720v720H120Zm60-500h600v-160H180v160Zm220 220h160v-160H400v160Zm0 220h160v-160H400v160ZM180-400h160v-160H180v160Zm440 0h160v-160H620v160ZM180-180h160v-160H180v160Zm440 0h160v-160H620v160Z\"/>\n",
              "  </svg>\n",
              "    </button>\n",
              "\n",
              "  <style>\n",
              "    .colab-df-container {\n",
              "      display:flex;\n",
              "      gap: 12px;\n",
              "    }\n",
              "\n",
              "    .colab-df-convert {\n",
              "      background-color: #E8F0FE;\n",
              "      border: none;\n",
              "      border-radius: 50%;\n",
              "      cursor: pointer;\n",
              "      display: none;\n",
              "      fill: #1967D2;\n",
              "      height: 32px;\n",
              "      padding: 0 0 0 0;\n",
              "      width: 32px;\n",
              "    }\n",
              "\n",
              "    .colab-df-convert:hover {\n",
              "      background-color: #E2EBFA;\n",
              "      box-shadow: 0px 1px 2px rgba(60, 64, 67, 0.3), 0px 1px 3px 1px rgba(60, 64, 67, 0.15);\n",
              "      fill: #174EA6;\n",
              "    }\n",
              "\n",
              "    .colab-df-buttons div {\n",
              "      margin-bottom: 4px;\n",
              "    }\n",
              "\n",
              "    [theme=dark] .colab-df-convert {\n",
              "      background-color: #3B4455;\n",
              "      fill: #D2E3FC;\n",
              "    }\n",
              "\n",
              "    [theme=dark] .colab-df-convert:hover {\n",
              "      background-color: #434B5C;\n",
              "      box-shadow: 0px 1px 3px 1px rgba(0, 0, 0, 0.15);\n",
              "      filter: drop-shadow(0px 1px 2px rgba(0, 0, 0, 0.3));\n",
              "      fill: #FFFFFF;\n",
              "    }\n",
              "  </style>\n",
              "\n",
              "    <script>\n",
              "      const buttonEl =\n",
              "        document.querySelector('#df-2ec8bd05-c52e-4880-91fc-5f28bdc8ee26 button.colab-df-convert');\n",
              "      buttonEl.style.display =\n",
              "        google.colab.kernel.accessAllowed ? 'block' : 'none';\n",
              "\n",
              "      async function convertToInteractive(key) {\n",
              "        const element = document.querySelector('#df-2ec8bd05-c52e-4880-91fc-5f28bdc8ee26');\n",
              "        const dataTable =\n",
              "          await google.colab.kernel.invokeFunction('convertToInteractive',\n",
              "                                                    [key], {});\n",
              "        if (!dataTable) return;\n",
              "\n",
              "        const docLinkHtml = 'Like what you see? Visit the ' +\n",
              "          '<a target=\"_blank\" href=https://colab.research.google.com/notebooks/data_table.ipynb>data table notebook</a>'\n",
              "          + ' to learn more about interactive tables.';\n",
              "        element.innerHTML = '';\n",
              "        dataTable['output_type'] = 'display_data';\n",
              "        await google.colab.output.renderOutput(dataTable, element);\n",
              "        const docLink = document.createElement('div');\n",
              "        docLink.innerHTML = docLinkHtml;\n",
              "        element.appendChild(docLink);\n",
              "      }\n",
              "    </script>\n",
              "  </div>\n",
              "\n",
              "\n",
              "<div id=\"df-df7cc6c8-bdda-4e02-ab8b-826dc9d37867\">\n",
              "  <button class=\"colab-df-quickchart\" onclick=\"quickchart('df-df7cc6c8-bdda-4e02-ab8b-826dc9d37867')\"\n",
              "            title=\"Suggest charts\"\n",
              "            style=\"display:none;\">\n",
              "\n",
              "<svg xmlns=\"http://www.w3.org/2000/svg\" height=\"24px\"viewBox=\"0 0 24 24\"\n",
              "     width=\"24px\">\n",
              "    <g>\n",
              "        <path d=\"M19 3H5c-1.1 0-2 .9-2 2v14c0 1.1.9 2 2 2h14c1.1 0 2-.9 2-2V5c0-1.1-.9-2-2-2zM9 17H7v-7h2v7zm4 0h-2V7h2v10zm4 0h-2v-4h2v4z\"/>\n",
              "    </g>\n",
              "</svg>\n",
              "  </button>\n",
              "\n",
              "<style>\n",
              "  .colab-df-quickchart {\n",
              "      --bg-color: #E8F0FE;\n",
              "      --fill-color: #1967D2;\n",
              "      --hover-bg-color: #E2EBFA;\n",
              "      --hover-fill-color: #174EA6;\n",
              "      --disabled-fill-color: #AAA;\n",
              "      --disabled-bg-color: #DDD;\n",
              "  }\n",
              "\n",
              "  [theme=dark] .colab-df-quickchart {\n",
              "      --bg-color: #3B4455;\n",
              "      --fill-color: #D2E3FC;\n",
              "      --hover-bg-color: #434B5C;\n",
              "      --hover-fill-color: #FFFFFF;\n",
              "      --disabled-bg-color: #3B4455;\n",
              "      --disabled-fill-color: #666;\n",
              "  }\n",
              "\n",
              "  .colab-df-quickchart {\n",
              "    background-color: var(--bg-color);\n",
              "    border: none;\n",
              "    border-radius: 50%;\n",
              "    cursor: pointer;\n",
              "    display: none;\n",
              "    fill: var(--fill-color);\n",
              "    height: 32px;\n",
              "    padding: 0;\n",
              "    width: 32px;\n",
              "  }\n",
              "\n",
              "  .colab-df-quickchart:hover {\n",
              "    background-color: var(--hover-bg-color);\n",
              "    box-shadow: 0 1px 2px rgba(60, 64, 67, 0.3), 0 1px 3px 1px rgba(60, 64, 67, 0.15);\n",
              "    fill: var(--button-hover-fill-color);\n",
              "  }\n",
              "\n",
              "  .colab-df-quickchart-complete:disabled,\n",
              "  .colab-df-quickchart-complete:disabled:hover {\n",
              "    background-color: var(--disabled-bg-color);\n",
              "    fill: var(--disabled-fill-color);\n",
              "    box-shadow: none;\n",
              "  }\n",
              "\n",
              "  .colab-df-spinner {\n",
              "    border: 2px solid var(--fill-color);\n",
              "    border-color: transparent;\n",
              "    border-bottom-color: var(--fill-color);\n",
              "    animation:\n",
              "      spin 1s steps(1) infinite;\n",
              "  }\n",
              "\n",
              "  @keyframes spin {\n",
              "    0% {\n",
              "      border-color: transparent;\n",
              "      border-bottom-color: var(--fill-color);\n",
              "      border-left-color: var(--fill-color);\n",
              "    }\n",
              "    20% {\n",
              "      border-color: transparent;\n",
              "      border-left-color: var(--fill-color);\n",
              "      border-top-color: var(--fill-color);\n",
              "    }\n",
              "    30% {\n",
              "      border-color: transparent;\n",
              "      border-left-color: var(--fill-color);\n",
              "      border-top-color: var(--fill-color);\n",
              "      border-right-color: var(--fill-color);\n",
              "    }\n",
              "    40% {\n",
              "      border-color: transparent;\n",
              "      border-right-color: var(--fill-color);\n",
              "      border-top-color: var(--fill-color);\n",
              "    }\n",
              "    60% {\n",
              "      border-color: transparent;\n",
              "      border-right-color: var(--fill-color);\n",
              "    }\n",
              "    80% {\n",
              "      border-color: transparent;\n",
              "      border-right-color: var(--fill-color);\n",
              "      border-bottom-color: var(--fill-color);\n",
              "    }\n",
              "    90% {\n",
              "      border-color: transparent;\n",
              "      border-bottom-color: var(--fill-color);\n",
              "    }\n",
              "  }\n",
              "</style>\n",
              "\n",
              "  <script>\n",
              "    async function quickchart(key) {\n",
              "      const quickchartButtonEl =\n",
              "        document.querySelector('#' + key + ' button');\n",
              "      quickchartButtonEl.disabled = true;  // To prevent multiple clicks.\n",
              "      quickchartButtonEl.classList.add('colab-df-spinner');\n",
              "      try {\n",
              "        const charts = await google.colab.kernel.invokeFunction(\n",
              "            'suggestCharts', [key], {});\n",
              "      } catch (error) {\n",
              "        console.error('Error during call to suggestCharts:', error);\n",
              "      }\n",
              "      quickchartButtonEl.classList.remove('colab-df-spinner');\n",
              "      quickchartButtonEl.classList.add('colab-df-quickchart-complete');\n",
              "    }\n",
              "    (() => {\n",
              "      let quickchartButtonEl =\n",
              "        document.querySelector('#df-df7cc6c8-bdda-4e02-ab8b-826dc9d37867 button');\n",
              "      quickchartButtonEl.style.display =\n",
              "        google.colab.kernel.accessAllowed ? 'block' : 'none';\n",
              "    })();\n",
              "  </script>\n",
              "</div>\n",
              "    </div>\n",
              "  </div>\n"
            ],
            "application/vnd.google.colaboratory.intrinsic+json": {
              "type": "dataframe",
              "variable_name": "df",
              "summary": "{\n  \"name\": \"df\",\n  \"rows\": 5,\n  \"fields\": [\n    {\n      \"column\": \"cust_id\",\n      \"properties\": {\n        \"dtype\": \"string\",\n        \"num_unique_values\": 5,\n        \"samples\": [\n          \"cid-0002\",\n          \"cid-0005\",\n          \"cid-0003\"\n        ],\n        \"semantic_type\": \"\",\n        \"description\": \"\"\n      }\n    },\n    {\n      \"column\": \"cred_score\",\n      \"properties\": {\n        \"dtype\": \"number\",\n        \"std\": 133,\n        \"min\": 453,\n        \"max\": 788,\n        \"num_unique_values\": 5,\n        \"samples\": [\n          737,\n          788,\n          569\n        ],\n        \"semantic_type\": \"\",\n        \"description\": \"\"\n      }\n    },\n    {\n      \"column\": \"age\",\n      \"properties\": {\n        \"dtype\": \"number\",\n        \"std\": 14,\n        \"min\": 25,\n        \"max\": 62,\n        \"num_unique_values\": 5,\n        \"samples\": [\n          28,\n          62,\n          38\n        ],\n        \"semantic_type\": \"\",\n        \"description\": \"\"\n      }\n    },\n    {\n      \"column\": \"debt_status\",\n      \"properties\": {\n        \"dtype\": \"category\",\n        \"num_unique_values\": 2,\n        \"samples\": [\n          \"no-debt\",\n          \"in-debt\"\n        ],\n        \"semantic_type\": \"\",\n        \"description\": \"\"\n      }\n    },\n    {\n      \"column\": \"curr_cred_cards\",\n      \"properties\": {\n        \"dtype\": \"number\",\n        \"std\": 1,\n        \"min\": 1,\n        \"max\": 4,\n        \"num_unique_values\": 4,\n        \"samples\": [\n          2,\n          1\n        ],\n        \"semantic_type\": \"\",\n        \"description\": \"\"\n      }\n    }\n  ]\n}"
            }
          },
          "metadata": {},
          "execution_count": 30
        }
      ],
      "source": [
        "# Let's print the dataframe\n",
        "df"
      ]
    },
    {
      "cell_type": "markdown",
      "id": "f2a43ae4",
      "metadata": {
        "id": "f2a43ae4"
      },
      "source": [
        "Great! This look much better and looks organized, and along with this dataset created we can find a lot's of insights about the data with ease."
      ]
    },
    {
      "cell_type": "markdown",
      "source": [
        "### **2.2 Accessing and analysing the data**"
      ],
      "metadata": {
        "id": "p4jlHeaOuIxL"
      },
      "id": "p4jlHeaOuIxL"
    },
    {
      "cell_type": "code",
      "execution_count": 31,
      "id": "b8bc853a",
      "metadata": {
        "id": "b8bc853a",
        "outputId": "e0353ecc-fca8-4f3d-a2e3-bf57a4843c27",
        "colab": {
          "base_uri": "https://localhost:8080/",
          "height": 143
        }
      },
      "outputs": [
        {
          "output_type": "execute_result",
          "data": {
            "text/plain": [
              "    cust_id  cred_score  age debt_status  curr_cred_cards\n",
              "0  cid-0001         650   25     in-debt                3\n",
              "1  cid-0002         737   28     no-debt                2\n",
              "2  cid-0003         569   38     no-debt                4"
            ],
            "text/html": [
              "\n",
              "  <div id=\"df-655e185c-7cef-4105-837e-4f1ae713c1ee\" class=\"colab-df-container\">\n",
              "    <div>\n",
              "<style scoped>\n",
              "    .dataframe tbody tr th:only-of-type {\n",
              "        vertical-align: middle;\n",
              "    }\n",
              "\n",
              "    .dataframe tbody tr th {\n",
              "        vertical-align: top;\n",
              "    }\n",
              "\n",
              "    .dataframe thead th {\n",
              "        text-align: right;\n",
              "    }\n",
              "</style>\n",
              "<table border=\"1\" class=\"dataframe\">\n",
              "  <thead>\n",
              "    <tr style=\"text-align: right;\">\n",
              "      <th></th>\n",
              "      <th>cust_id</th>\n",
              "      <th>cred_score</th>\n",
              "      <th>age</th>\n",
              "      <th>debt_status</th>\n",
              "      <th>curr_cred_cards</th>\n",
              "    </tr>\n",
              "  </thead>\n",
              "  <tbody>\n",
              "    <tr>\n",
              "      <th>0</th>\n",
              "      <td>cid-0001</td>\n",
              "      <td>650</td>\n",
              "      <td>25</td>\n",
              "      <td>in-debt</td>\n",
              "      <td>3</td>\n",
              "    </tr>\n",
              "    <tr>\n",
              "      <th>1</th>\n",
              "      <td>cid-0002</td>\n",
              "      <td>737</td>\n",
              "      <td>28</td>\n",
              "      <td>no-debt</td>\n",
              "      <td>2</td>\n",
              "    </tr>\n",
              "    <tr>\n",
              "      <th>2</th>\n",
              "      <td>cid-0003</td>\n",
              "      <td>569</td>\n",
              "      <td>38</td>\n",
              "      <td>no-debt</td>\n",
              "      <td>4</td>\n",
              "    </tr>\n",
              "  </tbody>\n",
              "</table>\n",
              "</div>\n",
              "    <div class=\"colab-df-buttons\">\n",
              "\n",
              "  <div class=\"colab-df-container\">\n",
              "    <button class=\"colab-df-convert\" onclick=\"convertToInteractive('df-655e185c-7cef-4105-837e-4f1ae713c1ee')\"\n",
              "            title=\"Convert this dataframe to an interactive table.\"\n",
              "            style=\"display:none;\">\n",
              "\n",
              "  <svg xmlns=\"http://www.w3.org/2000/svg\" height=\"24px\" viewBox=\"0 -960 960 960\">\n",
              "    <path d=\"M120-120v-720h720v720H120Zm60-500h600v-160H180v160Zm220 220h160v-160H400v160Zm0 220h160v-160H400v160ZM180-400h160v-160H180v160Zm440 0h160v-160H620v160ZM180-180h160v-160H180v160Zm440 0h160v-160H620v160Z\"/>\n",
              "  </svg>\n",
              "    </button>\n",
              "\n",
              "  <style>\n",
              "    .colab-df-container {\n",
              "      display:flex;\n",
              "      gap: 12px;\n",
              "    }\n",
              "\n",
              "    .colab-df-convert {\n",
              "      background-color: #E8F0FE;\n",
              "      border: none;\n",
              "      border-radius: 50%;\n",
              "      cursor: pointer;\n",
              "      display: none;\n",
              "      fill: #1967D2;\n",
              "      height: 32px;\n",
              "      padding: 0 0 0 0;\n",
              "      width: 32px;\n",
              "    }\n",
              "\n",
              "    .colab-df-convert:hover {\n",
              "      background-color: #E2EBFA;\n",
              "      box-shadow: 0px 1px 2px rgba(60, 64, 67, 0.3), 0px 1px 3px 1px rgba(60, 64, 67, 0.15);\n",
              "      fill: #174EA6;\n",
              "    }\n",
              "\n",
              "    .colab-df-buttons div {\n",
              "      margin-bottom: 4px;\n",
              "    }\n",
              "\n",
              "    [theme=dark] .colab-df-convert {\n",
              "      background-color: #3B4455;\n",
              "      fill: #D2E3FC;\n",
              "    }\n",
              "\n",
              "    [theme=dark] .colab-df-convert:hover {\n",
              "      background-color: #434B5C;\n",
              "      box-shadow: 0px 1px 3px 1px rgba(0, 0, 0, 0.15);\n",
              "      filter: drop-shadow(0px 1px 2px rgba(0, 0, 0, 0.3));\n",
              "      fill: #FFFFFF;\n",
              "    }\n",
              "  </style>\n",
              "\n",
              "    <script>\n",
              "      const buttonEl =\n",
              "        document.querySelector('#df-655e185c-7cef-4105-837e-4f1ae713c1ee button.colab-df-convert');\n",
              "      buttonEl.style.display =\n",
              "        google.colab.kernel.accessAllowed ? 'block' : 'none';\n",
              "\n",
              "      async function convertToInteractive(key) {\n",
              "        const element = document.querySelector('#df-655e185c-7cef-4105-837e-4f1ae713c1ee');\n",
              "        const dataTable =\n",
              "          await google.colab.kernel.invokeFunction('convertToInteractive',\n",
              "                                                    [key], {});\n",
              "        if (!dataTable) return;\n",
              "\n",
              "        const docLinkHtml = 'Like what you see? Visit the ' +\n",
              "          '<a target=\"_blank\" href=https://colab.research.google.com/notebooks/data_table.ipynb>data table notebook</a>'\n",
              "          + ' to learn more about interactive tables.';\n",
              "        element.innerHTML = '';\n",
              "        dataTable['output_type'] = 'display_data';\n",
              "        await google.colab.output.renderOutput(dataTable, element);\n",
              "        const docLink = document.createElement('div');\n",
              "        docLink.innerHTML = docLinkHtml;\n",
              "        element.appendChild(docLink);\n",
              "      }\n",
              "    </script>\n",
              "  </div>\n",
              "\n",
              "\n",
              "<div id=\"df-54b53239-0e37-4692-90e1-1b9b0d3b3206\">\n",
              "  <button class=\"colab-df-quickchart\" onclick=\"quickchart('df-54b53239-0e37-4692-90e1-1b9b0d3b3206')\"\n",
              "            title=\"Suggest charts\"\n",
              "            style=\"display:none;\">\n",
              "\n",
              "<svg xmlns=\"http://www.w3.org/2000/svg\" height=\"24px\"viewBox=\"0 0 24 24\"\n",
              "     width=\"24px\">\n",
              "    <g>\n",
              "        <path d=\"M19 3H5c-1.1 0-2 .9-2 2v14c0 1.1.9 2 2 2h14c1.1 0 2-.9 2-2V5c0-1.1-.9-2-2-2zM9 17H7v-7h2v7zm4 0h-2V7h2v10zm4 0h-2v-4h2v4z\"/>\n",
              "    </g>\n",
              "</svg>\n",
              "  </button>\n",
              "\n",
              "<style>\n",
              "  .colab-df-quickchart {\n",
              "      --bg-color: #E8F0FE;\n",
              "      --fill-color: #1967D2;\n",
              "      --hover-bg-color: #E2EBFA;\n",
              "      --hover-fill-color: #174EA6;\n",
              "      --disabled-fill-color: #AAA;\n",
              "      --disabled-bg-color: #DDD;\n",
              "  }\n",
              "\n",
              "  [theme=dark] .colab-df-quickchart {\n",
              "      --bg-color: #3B4455;\n",
              "      --fill-color: #D2E3FC;\n",
              "      --hover-bg-color: #434B5C;\n",
              "      --hover-fill-color: #FFFFFF;\n",
              "      --disabled-bg-color: #3B4455;\n",
              "      --disabled-fill-color: #666;\n",
              "  }\n",
              "\n",
              "  .colab-df-quickchart {\n",
              "    background-color: var(--bg-color);\n",
              "    border: none;\n",
              "    border-radius: 50%;\n",
              "    cursor: pointer;\n",
              "    display: none;\n",
              "    fill: var(--fill-color);\n",
              "    height: 32px;\n",
              "    padding: 0;\n",
              "    width: 32px;\n",
              "  }\n",
              "\n",
              "  .colab-df-quickchart:hover {\n",
              "    background-color: var(--hover-bg-color);\n",
              "    box-shadow: 0 1px 2px rgba(60, 64, 67, 0.3), 0 1px 3px 1px rgba(60, 64, 67, 0.15);\n",
              "    fill: var(--button-hover-fill-color);\n",
              "  }\n",
              "\n",
              "  .colab-df-quickchart-complete:disabled,\n",
              "  .colab-df-quickchart-complete:disabled:hover {\n",
              "    background-color: var(--disabled-bg-color);\n",
              "    fill: var(--disabled-fill-color);\n",
              "    box-shadow: none;\n",
              "  }\n",
              "\n",
              "  .colab-df-spinner {\n",
              "    border: 2px solid var(--fill-color);\n",
              "    border-color: transparent;\n",
              "    border-bottom-color: var(--fill-color);\n",
              "    animation:\n",
              "      spin 1s steps(1) infinite;\n",
              "  }\n",
              "\n",
              "  @keyframes spin {\n",
              "    0% {\n",
              "      border-color: transparent;\n",
              "      border-bottom-color: var(--fill-color);\n",
              "      border-left-color: var(--fill-color);\n",
              "    }\n",
              "    20% {\n",
              "      border-color: transparent;\n",
              "      border-left-color: var(--fill-color);\n",
              "      border-top-color: var(--fill-color);\n",
              "    }\n",
              "    30% {\n",
              "      border-color: transparent;\n",
              "      border-left-color: var(--fill-color);\n",
              "      border-top-color: var(--fill-color);\n",
              "      border-right-color: var(--fill-color);\n",
              "    }\n",
              "    40% {\n",
              "      border-color: transparent;\n",
              "      border-right-color: var(--fill-color);\n",
              "      border-top-color: var(--fill-color);\n",
              "    }\n",
              "    60% {\n",
              "      border-color: transparent;\n",
              "      border-right-color: var(--fill-color);\n",
              "    }\n",
              "    80% {\n",
              "      border-color: transparent;\n",
              "      border-right-color: var(--fill-color);\n",
              "      border-bottom-color: var(--fill-color);\n",
              "    }\n",
              "    90% {\n",
              "      border-color: transparent;\n",
              "      border-bottom-color: var(--fill-color);\n",
              "    }\n",
              "  }\n",
              "</style>\n",
              "\n",
              "  <script>\n",
              "    async function quickchart(key) {\n",
              "      const quickchartButtonEl =\n",
              "        document.querySelector('#' + key + ' button');\n",
              "      quickchartButtonEl.disabled = true;  // To prevent multiple clicks.\n",
              "      quickchartButtonEl.classList.add('colab-df-spinner');\n",
              "      try {\n",
              "        const charts = await google.colab.kernel.invokeFunction(\n",
              "            'suggestCharts', [key], {});\n",
              "      } catch (error) {\n",
              "        console.error('Error during call to suggestCharts:', error);\n",
              "      }\n",
              "      quickchartButtonEl.classList.remove('colab-df-spinner');\n",
              "      quickchartButtonEl.classList.add('colab-df-quickchart-complete');\n",
              "    }\n",
              "    (() => {\n",
              "      let quickchartButtonEl =\n",
              "        document.querySelector('#df-54b53239-0e37-4692-90e1-1b9b0d3b3206 button');\n",
              "      quickchartButtonEl.style.display =\n",
              "        google.colab.kernel.accessAllowed ? 'block' : 'none';\n",
              "    })();\n",
              "  </script>\n",
              "</div>\n",
              "    </div>\n",
              "  </div>\n"
            ],
            "application/vnd.google.colaboratory.intrinsic+json": {
              "type": "dataframe",
              "variable_name": "df",
              "summary": "{\n  \"name\": \"df\",\n  \"rows\": 5,\n  \"fields\": [\n    {\n      \"column\": \"cust_id\",\n      \"properties\": {\n        \"dtype\": \"string\",\n        \"num_unique_values\": 5,\n        \"samples\": [\n          \"cid-0002\",\n          \"cid-0005\",\n          \"cid-0003\"\n        ],\n        \"semantic_type\": \"\",\n        \"description\": \"\"\n      }\n    },\n    {\n      \"column\": \"cred_score\",\n      \"properties\": {\n        \"dtype\": \"number\",\n        \"std\": 133,\n        \"min\": 453,\n        \"max\": 788,\n        \"num_unique_values\": 5,\n        \"samples\": [\n          737,\n          788,\n          569\n        ],\n        \"semantic_type\": \"\",\n        \"description\": \"\"\n      }\n    },\n    {\n      \"column\": \"age\",\n      \"properties\": {\n        \"dtype\": \"number\",\n        \"std\": 14,\n        \"min\": 25,\n        \"max\": 62,\n        \"num_unique_values\": 5,\n        \"samples\": [\n          28,\n          62,\n          38\n        ],\n        \"semantic_type\": \"\",\n        \"description\": \"\"\n      }\n    },\n    {\n      \"column\": \"debt_status\",\n      \"properties\": {\n        \"dtype\": \"category\",\n        \"num_unique_values\": 2,\n        \"samples\": [\n          \"no-debt\",\n          \"in-debt\"\n        ],\n        \"semantic_type\": \"\",\n        \"description\": \"\"\n      }\n    },\n    {\n      \"column\": \"curr_cred_cards\",\n      \"properties\": {\n        \"dtype\": \"number\",\n        \"std\": 1,\n        \"min\": 1,\n        \"max\": 4,\n        \"num_unique_values\": 4,\n        \"samples\": [\n          2,\n          1\n        ],\n        \"semantic_type\": \"\",\n        \"description\": \"\"\n      }\n    }\n  ]\n}"
            }
          },
          "metadata": {},
          "execution_count": 31
        }
      ],
      "source": [
        "# let's print top 3 data entries\n",
        "df.head(3) # without any value inside the brackets, it will print the top 5 entries of the data"
      ]
    },
    {
      "cell_type": "code",
      "execution_count": 32,
      "id": "361a7314",
      "metadata": {
        "id": "361a7314",
        "outputId": "29fe482d-69e7-4eb5-91c9-f41f84f24d55",
        "colab": {
          "base_uri": "https://localhost:8080/",
          "height": 143
        }
      },
      "outputs": [
        {
          "output_type": "execute_result",
          "data": {
            "text/plain": [
              "    cust_id  cred_score  age debt_status  curr_cred_cards\n",
              "2  cid-0003         569   38     no-debt                4\n",
              "3  cid-0004         453   41     in-debt                1\n",
              "4  cid-0005         788   62     no-debt                2"
            ],
            "text/html": [
              "\n",
              "  <div id=\"df-056c764e-7cc7-422c-a6c8-74fa721f004d\" class=\"colab-df-container\">\n",
              "    <div>\n",
              "<style scoped>\n",
              "    .dataframe tbody tr th:only-of-type {\n",
              "        vertical-align: middle;\n",
              "    }\n",
              "\n",
              "    .dataframe tbody tr th {\n",
              "        vertical-align: top;\n",
              "    }\n",
              "\n",
              "    .dataframe thead th {\n",
              "        text-align: right;\n",
              "    }\n",
              "</style>\n",
              "<table border=\"1\" class=\"dataframe\">\n",
              "  <thead>\n",
              "    <tr style=\"text-align: right;\">\n",
              "      <th></th>\n",
              "      <th>cust_id</th>\n",
              "      <th>cred_score</th>\n",
              "      <th>age</th>\n",
              "      <th>debt_status</th>\n",
              "      <th>curr_cred_cards</th>\n",
              "    </tr>\n",
              "  </thead>\n",
              "  <tbody>\n",
              "    <tr>\n",
              "      <th>2</th>\n",
              "      <td>cid-0003</td>\n",
              "      <td>569</td>\n",
              "      <td>38</td>\n",
              "      <td>no-debt</td>\n",
              "      <td>4</td>\n",
              "    </tr>\n",
              "    <tr>\n",
              "      <th>3</th>\n",
              "      <td>cid-0004</td>\n",
              "      <td>453</td>\n",
              "      <td>41</td>\n",
              "      <td>in-debt</td>\n",
              "      <td>1</td>\n",
              "    </tr>\n",
              "    <tr>\n",
              "      <th>4</th>\n",
              "      <td>cid-0005</td>\n",
              "      <td>788</td>\n",
              "      <td>62</td>\n",
              "      <td>no-debt</td>\n",
              "      <td>2</td>\n",
              "    </tr>\n",
              "  </tbody>\n",
              "</table>\n",
              "</div>\n",
              "    <div class=\"colab-df-buttons\">\n",
              "\n",
              "  <div class=\"colab-df-container\">\n",
              "    <button class=\"colab-df-convert\" onclick=\"convertToInteractive('df-056c764e-7cc7-422c-a6c8-74fa721f004d')\"\n",
              "            title=\"Convert this dataframe to an interactive table.\"\n",
              "            style=\"display:none;\">\n",
              "\n",
              "  <svg xmlns=\"http://www.w3.org/2000/svg\" height=\"24px\" viewBox=\"0 -960 960 960\">\n",
              "    <path d=\"M120-120v-720h720v720H120Zm60-500h600v-160H180v160Zm220 220h160v-160H400v160Zm0 220h160v-160H400v160ZM180-400h160v-160H180v160Zm440 0h160v-160H620v160ZM180-180h160v-160H180v160Zm440 0h160v-160H620v160Z\"/>\n",
              "  </svg>\n",
              "    </button>\n",
              "\n",
              "  <style>\n",
              "    .colab-df-container {\n",
              "      display:flex;\n",
              "      gap: 12px;\n",
              "    }\n",
              "\n",
              "    .colab-df-convert {\n",
              "      background-color: #E8F0FE;\n",
              "      border: none;\n",
              "      border-radius: 50%;\n",
              "      cursor: pointer;\n",
              "      display: none;\n",
              "      fill: #1967D2;\n",
              "      height: 32px;\n",
              "      padding: 0 0 0 0;\n",
              "      width: 32px;\n",
              "    }\n",
              "\n",
              "    .colab-df-convert:hover {\n",
              "      background-color: #E2EBFA;\n",
              "      box-shadow: 0px 1px 2px rgba(60, 64, 67, 0.3), 0px 1px 3px 1px rgba(60, 64, 67, 0.15);\n",
              "      fill: #174EA6;\n",
              "    }\n",
              "\n",
              "    .colab-df-buttons div {\n",
              "      margin-bottom: 4px;\n",
              "    }\n",
              "\n",
              "    [theme=dark] .colab-df-convert {\n",
              "      background-color: #3B4455;\n",
              "      fill: #D2E3FC;\n",
              "    }\n",
              "\n",
              "    [theme=dark] .colab-df-convert:hover {\n",
              "      background-color: #434B5C;\n",
              "      box-shadow: 0px 1px 3px 1px rgba(0, 0, 0, 0.15);\n",
              "      filter: drop-shadow(0px 1px 2px rgba(0, 0, 0, 0.3));\n",
              "      fill: #FFFFFF;\n",
              "    }\n",
              "  </style>\n",
              "\n",
              "    <script>\n",
              "      const buttonEl =\n",
              "        document.querySelector('#df-056c764e-7cc7-422c-a6c8-74fa721f004d button.colab-df-convert');\n",
              "      buttonEl.style.display =\n",
              "        google.colab.kernel.accessAllowed ? 'block' : 'none';\n",
              "\n",
              "      async function convertToInteractive(key) {\n",
              "        const element = document.querySelector('#df-056c764e-7cc7-422c-a6c8-74fa721f004d');\n",
              "        const dataTable =\n",
              "          await google.colab.kernel.invokeFunction('convertToInteractive',\n",
              "                                                    [key], {});\n",
              "        if (!dataTable) return;\n",
              "\n",
              "        const docLinkHtml = 'Like what you see? Visit the ' +\n",
              "          '<a target=\"_blank\" href=https://colab.research.google.com/notebooks/data_table.ipynb>data table notebook</a>'\n",
              "          + ' to learn more about interactive tables.';\n",
              "        element.innerHTML = '';\n",
              "        dataTable['output_type'] = 'display_data';\n",
              "        await google.colab.output.renderOutput(dataTable, element);\n",
              "        const docLink = document.createElement('div');\n",
              "        docLink.innerHTML = docLinkHtml;\n",
              "        element.appendChild(docLink);\n",
              "      }\n",
              "    </script>\n",
              "  </div>\n",
              "\n",
              "\n",
              "<div id=\"df-5fc2b609-b32a-4b20-9978-8c185e41ef66\">\n",
              "  <button class=\"colab-df-quickchart\" onclick=\"quickchart('df-5fc2b609-b32a-4b20-9978-8c185e41ef66')\"\n",
              "            title=\"Suggest charts\"\n",
              "            style=\"display:none;\">\n",
              "\n",
              "<svg xmlns=\"http://www.w3.org/2000/svg\" height=\"24px\"viewBox=\"0 0 24 24\"\n",
              "     width=\"24px\">\n",
              "    <g>\n",
              "        <path d=\"M19 3H5c-1.1 0-2 .9-2 2v14c0 1.1.9 2 2 2h14c1.1 0 2-.9 2-2V5c0-1.1-.9-2-2-2zM9 17H7v-7h2v7zm4 0h-2V7h2v10zm4 0h-2v-4h2v4z\"/>\n",
              "    </g>\n",
              "</svg>\n",
              "  </button>\n",
              "\n",
              "<style>\n",
              "  .colab-df-quickchart {\n",
              "      --bg-color: #E8F0FE;\n",
              "      --fill-color: #1967D2;\n",
              "      --hover-bg-color: #E2EBFA;\n",
              "      --hover-fill-color: #174EA6;\n",
              "      --disabled-fill-color: #AAA;\n",
              "      --disabled-bg-color: #DDD;\n",
              "  }\n",
              "\n",
              "  [theme=dark] .colab-df-quickchart {\n",
              "      --bg-color: #3B4455;\n",
              "      --fill-color: #D2E3FC;\n",
              "      --hover-bg-color: #434B5C;\n",
              "      --hover-fill-color: #FFFFFF;\n",
              "      --disabled-bg-color: #3B4455;\n",
              "      --disabled-fill-color: #666;\n",
              "  }\n",
              "\n",
              "  .colab-df-quickchart {\n",
              "    background-color: var(--bg-color);\n",
              "    border: none;\n",
              "    border-radius: 50%;\n",
              "    cursor: pointer;\n",
              "    display: none;\n",
              "    fill: var(--fill-color);\n",
              "    height: 32px;\n",
              "    padding: 0;\n",
              "    width: 32px;\n",
              "  }\n",
              "\n",
              "  .colab-df-quickchart:hover {\n",
              "    background-color: var(--hover-bg-color);\n",
              "    box-shadow: 0 1px 2px rgba(60, 64, 67, 0.3), 0 1px 3px 1px rgba(60, 64, 67, 0.15);\n",
              "    fill: var(--button-hover-fill-color);\n",
              "  }\n",
              "\n",
              "  .colab-df-quickchart-complete:disabled,\n",
              "  .colab-df-quickchart-complete:disabled:hover {\n",
              "    background-color: var(--disabled-bg-color);\n",
              "    fill: var(--disabled-fill-color);\n",
              "    box-shadow: none;\n",
              "  }\n",
              "\n",
              "  .colab-df-spinner {\n",
              "    border: 2px solid var(--fill-color);\n",
              "    border-color: transparent;\n",
              "    border-bottom-color: var(--fill-color);\n",
              "    animation:\n",
              "      spin 1s steps(1) infinite;\n",
              "  }\n",
              "\n",
              "  @keyframes spin {\n",
              "    0% {\n",
              "      border-color: transparent;\n",
              "      border-bottom-color: var(--fill-color);\n",
              "      border-left-color: var(--fill-color);\n",
              "    }\n",
              "    20% {\n",
              "      border-color: transparent;\n",
              "      border-left-color: var(--fill-color);\n",
              "      border-top-color: var(--fill-color);\n",
              "    }\n",
              "    30% {\n",
              "      border-color: transparent;\n",
              "      border-left-color: var(--fill-color);\n",
              "      border-top-color: var(--fill-color);\n",
              "      border-right-color: var(--fill-color);\n",
              "    }\n",
              "    40% {\n",
              "      border-color: transparent;\n",
              "      border-right-color: var(--fill-color);\n",
              "      border-top-color: var(--fill-color);\n",
              "    }\n",
              "    60% {\n",
              "      border-color: transparent;\n",
              "      border-right-color: var(--fill-color);\n",
              "    }\n",
              "    80% {\n",
              "      border-color: transparent;\n",
              "      border-right-color: var(--fill-color);\n",
              "      border-bottom-color: var(--fill-color);\n",
              "    }\n",
              "    90% {\n",
              "      border-color: transparent;\n",
              "      border-bottom-color: var(--fill-color);\n",
              "    }\n",
              "  }\n",
              "</style>\n",
              "\n",
              "  <script>\n",
              "    async function quickchart(key) {\n",
              "      const quickchartButtonEl =\n",
              "        document.querySelector('#' + key + ' button');\n",
              "      quickchartButtonEl.disabled = true;  // To prevent multiple clicks.\n",
              "      quickchartButtonEl.classList.add('colab-df-spinner');\n",
              "      try {\n",
              "        const charts = await google.colab.kernel.invokeFunction(\n",
              "            'suggestCharts', [key], {});\n",
              "      } catch (error) {\n",
              "        console.error('Error during call to suggestCharts:', error);\n",
              "      }\n",
              "      quickchartButtonEl.classList.remove('colab-df-spinner');\n",
              "      quickchartButtonEl.classList.add('colab-df-quickchart-complete');\n",
              "    }\n",
              "    (() => {\n",
              "      let quickchartButtonEl =\n",
              "        document.querySelector('#df-5fc2b609-b32a-4b20-9978-8c185e41ef66 button');\n",
              "      quickchartButtonEl.style.display =\n",
              "        google.colab.kernel.accessAllowed ? 'block' : 'none';\n",
              "    })();\n",
              "  </script>\n",
              "</div>\n",
              "    </div>\n",
              "  </div>\n"
            ],
            "application/vnd.google.colaboratory.intrinsic+json": {
              "type": "dataframe",
              "summary": "{\n  \"name\": \"df\",\n  \"rows\": 3,\n  \"fields\": [\n    {\n      \"column\": \"cust_id\",\n      \"properties\": {\n        \"dtype\": \"string\",\n        \"num_unique_values\": 3,\n        \"samples\": [\n          \"cid-0003\",\n          \"cid-0004\",\n          \"cid-0005\"\n        ],\n        \"semantic_type\": \"\",\n        \"description\": \"\"\n      }\n    },\n    {\n      \"column\": \"cred_score\",\n      \"properties\": {\n        \"dtype\": \"number\",\n        \"std\": 170,\n        \"min\": 453,\n        \"max\": 788,\n        \"num_unique_values\": 3,\n        \"samples\": [\n          569,\n          453,\n          788\n        ],\n        \"semantic_type\": \"\",\n        \"description\": \"\"\n      }\n    },\n    {\n      \"column\": \"age\",\n      \"properties\": {\n        \"dtype\": \"number\",\n        \"std\": 13,\n        \"min\": 38,\n        \"max\": 62,\n        \"num_unique_values\": 3,\n        \"samples\": [\n          38,\n          41,\n          62\n        ],\n        \"semantic_type\": \"\",\n        \"description\": \"\"\n      }\n    },\n    {\n      \"column\": \"debt_status\",\n      \"properties\": {\n        \"dtype\": \"string\",\n        \"num_unique_values\": 2,\n        \"samples\": [\n          \"in-debt\",\n          \"no-debt\"\n        ],\n        \"semantic_type\": \"\",\n        \"description\": \"\"\n      }\n    },\n    {\n      \"column\": \"curr_cred_cards\",\n      \"properties\": {\n        \"dtype\": \"number\",\n        \"std\": 1,\n        \"min\": 1,\n        \"max\": 4,\n        \"num_unique_values\": 3,\n        \"samples\": [\n          4,\n          1\n        ],\n        \"semantic_type\": \"\",\n        \"description\": \"\"\n      }\n    }\n  ]\n}"
            }
          },
          "metadata": {},
          "execution_count": 32
        }
      ],
      "source": [
        "# Let's print the last 3 data entries\n",
        "df.tail(3) # without any value inside the brackets, it will print the last 5 entries of the data"
      ]
    },
    {
      "cell_type": "markdown",
      "id": "5302d497",
      "metadata": {
        "id": "5302d497"
      },
      "source": [
        "We can create statistical summary of data with ease."
      ]
    },
    {
      "cell_type": "code",
      "execution_count": 33,
      "id": "bbcf6a4c",
      "metadata": {
        "id": "bbcf6a4c",
        "outputId": "206436c1-3fe3-47d9-854d-ed4f47b2c4a1",
        "colab": {
          "base_uri": "https://localhost:8080/",
          "height": 300
        }
      },
      "outputs": [
        {
          "output_type": "execute_result",
          "data": {
            "text/plain": [
              "       cred_score        age  curr_cred_cards\n",
              "count    5.000000   5.000000         5.000000\n",
              "mean   639.400000  38.800000         2.400000\n",
              "std    133.623725  14.584238         1.140175\n",
              "min    453.000000  25.000000         1.000000\n",
              "25%    569.000000  28.000000         2.000000\n",
              "50%    650.000000  38.000000         2.000000\n",
              "75%    737.000000  41.000000         3.000000\n",
              "max    788.000000  62.000000         4.000000"
            ],
            "text/html": [
              "\n",
              "  <div id=\"df-e1befaf7-986d-4a5e-a856-ce0c671438e3\" class=\"colab-df-container\">\n",
              "    <div>\n",
              "<style scoped>\n",
              "    .dataframe tbody tr th:only-of-type {\n",
              "        vertical-align: middle;\n",
              "    }\n",
              "\n",
              "    .dataframe tbody tr th {\n",
              "        vertical-align: top;\n",
              "    }\n",
              "\n",
              "    .dataframe thead th {\n",
              "        text-align: right;\n",
              "    }\n",
              "</style>\n",
              "<table border=\"1\" class=\"dataframe\">\n",
              "  <thead>\n",
              "    <tr style=\"text-align: right;\">\n",
              "      <th></th>\n",
              "      <th>cred_score</th>\n",
              "      <th>age</th>\n",
              "      <th>curr_cred_cards</th>\n",
              "    </tr>\n",
              "  </thead>\n",
              "  <tbody>\n",
              "    <tr>\n",
              "      <th>count</th>\n",
              "      <td>5.000000</td>\n",
              "      <td>5.000000</td>\n",
              "      <td>5.000000</td>\n",
              "    </tr>\n",
              "    <tr>\n",
              "      <th>mean</th>\n",
              "      <td>639.400000</td>\n",
              "      <td>38.800000</td>\n",
              "      <td>2.400000</td>\n",
              "    </tr>\n",
              "    <tr>\n",
              "      <th>std</th>\n",
              "      <td>133.623725</td>\n",
              "      <td>14.584238</td>\n",
              "      <td>1.140175</td>\n",
              "    </tr>\n",
              "    <tr>\n",
              "      <th>min</th>\n",
              "      <td>453.000000</td>\n",
              "      <td>25.000000</td>\n",
              "      <td>1.000000</td>\n",
              "    </tr>\n",
              "    <tr>\n",
              "      <th>25%</th>\n",
              "      <td>569.000000</td>\n",
              "      <td>28.000000</td>\n",
              "      <td>2.000000</td>\n",
              "    </tr>\n",
              "    <tr>\n",
              "      <th>50%</th>\n",
              "      <td>650.000000</td>\n",
              "      <td>38.000000</td>\n",
              "      <td>2.000000</td>\n",
              "    </tr>\n",
              "    <tr>\n",
              "      <th>75%</th>\n",
              "      <td>737.000000</td>\n",
              "      <td>41.000000</td>\n",
              "      <td>3.000000</td>\n",
              "    </tr>\n",
              "    <tr>\n",
              "      <th>max</th>\n",
              "      <td>788.000000</td>\n",
              "      <td>62.000000</td>\n",
              "      <td>4.000000</td>\n",
              "    </tr>\n",
              "  </tbody>\n",
              "</table>\n",
              "</div>\n",
              "    <div class=\"colab-df-buttons\">\n",
              "\n",
              "  <div class=\"colab-df-container\">\n",
              "    <button class=\"colab-df-convert\" onclick=\"convertToInteractive('df-e1befaf7-986d-4a5e-a856-ce0c671438e3')\"\n",
              "            title=\"Convert this dataframe to an interactive table.\"\n",
              "            style=\"display:none;\">\n",
              "\n",
              "  <svg xmlns=\"http://www.w3.org/2000/svg\" height=\"24px\" viewBox=\"0 -960 960 960\">\n",
              "    <path d=\"M120-120v-720h720v720H120Zm60-500h600v-160H180v160Zm220 220h160v-160H400v160Zm0 220h160v-160H400v160ZM180-400h160v-160H180v160Zm440 0h160v-160H620v160ZM180-180h160v-160H180v160Zm440 0h160v-160H620v160Z\"/>\n",
              "  </svg>\n",
              "    </button>\n",
              "\n",
              "  <style>\n",
              "    .colab-df-container {\n",
              "      display:flex;\n",
              "      gap: 12px;\n",
              "    }\n",
              "\n",
              "    .colab-df-convert {\n",
              "      background-color: #E8F0FE;\n",
              "      border: none;\n",
              "      border-radius: 50%;\n",
              "      cursor: pointer;\n",
              "      display: none;\n",
              "      fill: #1967D2;\n",
              "      height: 32px;\n",
              "      padding: 0 0 0 0;\n",
              "      width: 32px;\n",
              "    }\n",
              "\n",
              "    .colab-df-convert:hover {\n",
              "      background-color: #E2EBFA;\n",
              "      box-shadow: 0px 1px 2px rgba(60, 64, 67, 0.3), 0px 1px 3px 1px rgba(60, 64, 67, 0.15);\n",
              "      fill: #174EA6;\n",
              "    }\n",
              "\n",
              "    .colab-df-buttons div {\n",
              "      margin-bottom: 4px;\n",
              "    }\n",
              "\n",
              "    [theme=dark] .colab-df-convert {\n",
              "      background-color: #3B4455;\n",
              "      fill: #D2E3FC;\n",
              "    }\n",
              "\n",
              "    [theme=dark] .colab-df-convert:hover {\n",
              "      background-color: #434B5C;\n",
              "      box-shadow: 0px 1px 3px 1px rgba(0, 0, 0, 0.15);\n",
              "      filter: drop-shadow(0px 1px 2px rgba(0, 0, 0, 0.3));\n",
              "      fill: #FFFFFF;\n",
              "    }\n",
              "  </style>\n",
              "\n",
              "    <script>\n",
              "      const buttonEl =\n",
              "        document.querySelector('#df-e1befaf7-986d-4a5e-a856-ce0c671438e3 button.colab-df-convert');\n",
              "      buttonEl.style.display =\n",
              "        google.colab.kernel.accessAllowed ? 'block' : 'none';\n",
              "\n",
              "      async function convertToInteractive(key) {\n",
              "        const element = document.querySelector('#df-e1befaf7-986d-4a5e-a856-ce0c671438e3');\n",
              "        const dataTable =\n",
              "          await google.colab.kernel.invokeFunction('convertToInteractive',\n",
              "                                                    [key], {});\n",
              "        if (!dataTable) return;\n",
              "\n",
              "        const docLinkHtml = 'Like what you see? Visit the ' +\n",
              "          '<a target=\"_blank\" href=https://colab.research.google.com/notebooks/data_table.ipynb>data table notebook</a>'\n",
              "          + ' to learn more about interactive tables.';\n",
              "        element.innerHTML = '';\n",
              "        dataTable['output_type'] = 'display_data';\n",
              "        await google.colab.output.renderOutput(dataTable, element);\n",
              "        const docLink = document.createElement('div');\n",
              "        docLink.innerHTML = docLinkHtml;\n",
              "        element.appendChild(docLink);\n",
              "      }\n",
              "    </script>\n",
              "  </div>\n",
              "\n",
              "\n",
              "<div id=\"df-333a60ed-6b9b-4a75-a26b-15f09a6e9f86\">\n",
              "  <button class=\"colab-df-quickchart\" onclick=\"quickchart('df-333a60ed-6b9b-4a75-a26b-15f09a6e9f86')\"\n",
              "            title=\"Suggest charts\"\n",
              "            style=\"display:none;\">\n",
              "\n",
              "<svg xmlns=\"http://www.w3.org/2000/svg\" height=\"24px\"viewBox=\"0 0 24 24\"\n",
              "     width=\"24px\">\n",
              "    <g>\n",
              "        <path d=\"M19 3H5c-1.1 0-2 .9-2 2v14c0 1.1.9 2 2 2h14c1.1 0 2-.9 2-2V5c0-1.1-.9-2-2-2zM9 17H7v-7h2v7zm4 0h-2V7h2v10zm4 0h-2v-4h2v4z\"/>\n",
              "    </g>\n",
              "</svg>\n",
              "  </button>\n",
              "\n",
              "<style>\n",
              "  .colab-df-quickchart {\n",
              "      --bg-color: #E8F0FE;\n",
              "      --fill-color: #1967D2;\n",
              "      --hover-bg-color: #E2EBFA;\n",
              "      --hover-fill-color: #174EA6;\n",
              "      --disabled-fill-color: #AAA;\n",
              "      --disabled-bg-color: #DDD;\n",
              "  }\n",
              "\n",
              "  [theme=dark] .colab-df-quickchart {\n",
              "      --bg-color: #3B4455;\n",
              "      --fill-color: #D2E3FC;\n",
              "      --hover-bg-color: #434B5C;\n",
              "      --hover-fill-color: #FFFFFF;\n",
              "      --disabled-bg-color: #3B4455;\n",
              "      --disabled-fill-color: #666;\n",
              "  }\n",
              "\n",
              "  .colab-df-quickchart {\n",
              "    background-color: var(--bg-color);\n",
              "    border: none;\n",
              "    border-radius: 50%;\n",
              "    cursor: pointer;\n",
              "    display: none;\n",
              "    fill: var(--fill-color);\n",
              "    height: 32px;\n",
              "    padding: 0;\n",
              "    width: 32px;\n",
              "  }\n",
              "\n",
              "  .colab-df-quickchart:hover {\n",
              "    background-color: var(--hover-bg-color);\n",
              "    box-shadow: 0 1px 2px rgba(60, 64, 67, 0.3), 0 1px 3px 1px rgba(60, 64, 67, 0.15);\n",
              "    fill: var(--button-hover-fill-color);\n",
              "  }\n",
              "\n",
              "  .colab-df-quickchart-complete:disabled,\n",
              "  .colab-df-quickchart-complete:disabled:hover {\n",
              "    background-color: var(--disabled-bg-color);\n",
              "    fill: var(--disabled-fill-color);\n",
              "    box-shadow: none;\n",
              "  }\n",
              "\n",
              "  .colab-df-spinner {\n",
              "    border: 2px solid var(--fill-color);\n",
              "    border-color: transparent;\n",
              "    border-bottom-color: var(--fill-color);\n",
              "    animation:\n",
              "      spin 1s steps(1) infinite;\n",
              "  }\n",
              "\n",
              "  @keyframes spin {\n",
              "    0% {\n",
              "      border-color: transparent;\n",
              "      border-bottom-color: var(--fill-color);\n",
              "      border-left-color: var(--fill-color);\n",
              "    }\n",
              "    20% {\n",
              "      border-color: transparent;\n",
              "      border-left-color: var(--fill-color);\n",
              "      border-top-color: var(--fill-color);\n",
              "    }\n",
              "    30% {\n",
              "      border-color: transparent;\n",
              "      border-left-color: var(--fill-color);\n",
              "      border-top-color: var(--fill-color);\n",
              "      border-right-color: var(--fill-color);\n",
              "    }\n",
              "    40% {\n",
              "      border-color: transparent;\n",
              "      border-right-color: var(--fill-color);\n",
              "      border-top-color: var(--fill-color);\n",
              "    }\n",
              "    60% {\n",
              "      border-color: transparent;\n",
              "      border-right-color: var(--fill-color);\n",
              "    }\n",
              "    80% {\n",
              "      border-color: transparent;\n",
              "      border-right-color: var(--fill-color);\n",
              "      border-bottom-color: var(--fill-color);\n",
              "    }\n",
              "    90% {\n",
              "      border-color: transparent;\n",
              "      border-bottom-color: var(--fill-color);\n",
              "    }\n",
              "  }\n",
              "</style>\n",
              "\n",
              "  <script>\n",
              "    async function quickchart(key) {\n",
              "      const quickchartButtonEl =\n",
              "        document.querySelector('#' + key + ' button');\n",
              "      quickchartButtonEl.disabled = true;  // To prevent multiple clicks.\n",
              "      quickchartButtonEl.classList.add('colab-df-spinner');\n",
              "      try {\n",
              "        const charts = await google.colab.kernel.invokeFunction(\n",
              "            'suggestCharts', [key], {});\n",
              "      } catch (error) {\n",
              "        console.error('Error during call to suggestCharts:', error);\n",
              "      }\n",
              "      quickchartButtonEl.classList.remove('colab-df-spinner');\n",
              "      quickchartButtonEl.classList.add('colab-df-quickchart-complete');\n",
              "    }\n",
              "    (() => {\n",
              "      let quickchartButtonEl =\n",
              "        document.querySelector('#df-333a60ed-6b9b-4a75-a26b-15f09a6e9f86 button');\n",
              "      quickchartButtonEl.style.display =\n",
              "        google.colab.kernel.accessAllowed ? 'block' : 'none';\n",
              "    })();\n",
              "  </script>\n",
              "</div>\n",
              "    </div>\n",
              "  </div>\n"
            ],
            "application/vnd.google.colaboratory.intrinsic+json": {
              "type": "dataframe",
              "summary": "{\n  \"name\": \"df\",\n  \"rows\": 8,\n  \"fields\": [\n    {\n      \"column\": \"cred_score\",\n      \"properties\": {\n        \"dtype\": \"number\",\n        \"std\": 284.6536636926066,\n        \"min\": 5.0,\n        \"max\": 788.0,\n        \"num_unique_values\": 8,\n        \"samples\": [\n          639.4,\n          650.0,\n          5.0\n        ],\n        \"semantic_type\": \"\",\n        \"description\": \"\"\n      }\n    },\n    {\n      \"column\": \"age\",\n      \"properties\": {\n        \"dtype\": \"number\",\n        \"std\": 17.561787034461744,\n        \"min\": 5.0,\n        \"max\": 62.0,\n        \"num_unique_values\": 8,\n        \"samples\": [\n          38.8,\n          38.0,\n          5.0\n        ],\n        \"semantic_type\": \"\",\n        \"description\": \"\"\n      }\n    },\n    {\n      \"column\": \"curr_cred_cards\",\n      \"properties\": {\n        \"dtype\": \"number\",\n        \"std\": 1.3795780508271973,\n        \"min\": 1.0,\n        \"max\": 5.0,\n        \"num_unique_values\": 7,\n        \"samples\": [\n          5.0,\n          2.4,\n          3.0\n        ],\n        \"semantic_type\": \"\",\n        \"description\": \"\"\n      }\n    }\n  ]\n}"
            }
          },
          "metadata": {},
          "execution_count": 33
        }
      ],
      "source": [
        "# Let's create statistical summary\n",
        "df.describe()"
      ]
    },
    {
      "cell_type": "code",
      "execution_count": 34,
      "id": "3b5c186b",
      "metadata": {
        "id": "3b5c186b",
        "outputId": "2591ae7d-602f-4e2b-bd8b-88232d418d2b",
        "colab": {
          "base_uri": "https://localhost:8080/"
        }
      },
      "outputs": [
        {
          "output_type": "execute_result",
          "data": {
            "text/plain": [
              "(5, 5)"
            ]
          },
          "metadata": {},
          "execution_count": 34
        }
      ],
      "source": [
        "# To get the dimension of the data we use shape, that returns a tuple with number of rows and columns\n",
        "df.shape"
      ]
    },
    {
      "cell_type": "code",
      "execution_count": 35,
      "id": "fb0de679",
      "metadata": {
        "id": "fb0de679",
        "outputId": "f64380d3-ed12-49d0-8c8e-10d5e968b257",
        "colab": {
          "base_uri": "https://localhost:8080/"
        }
      },
      "outputs": [
        {
          "output_type": "stream",
          "name": "stdout",
          "text": [
            "<class 'pandas.core.frame.DataFrame'>\n",
            "RangeIndex: 5 entries, 0 to 4\n",
            "Data columns (total 5 columns):\n",
            " #   Column           Non-Null Count  Dtype \n",
            "---  ------           --------------  ----- \n",
            " 0   cust_id          5 non-null      object\n",
            " 1   cred_score       5 non-null      int64 \n",
            " 2   age              5 non-null      int64 \n",
            " 3   debt_status      5 non-null      object\n",
            " 4   curr_cred_cards  5 non-null      int64 \n",
            "dtypes: int64(3), object(2)\n",
            "memory usage: 328.0+ bytes\n"
          ]
        }
      ],
      "source": [
        "# To get the information about the number of columns, rows datatype and memory usage we use info function\n",
        "df.info()"
      ]
    }
  ],
  "metadata": {
    "colab": {
      "provenance": [],
      "collapsed_sections": [
        "e2999ae7",
        "-9OUyN9DrjdB",
        "_SPphsqhTxlA",
        "zRDU7pK8sAo_",
        "ImkZyJS8shg7",
        "9pHb4HGks3xe",
        "AmA1peEttBpC",
        "n4CcdAfutIZM",
        "mBoLkFT7tY-6",
        "p4jlHeaOuIxL"
      ]
    },
    "kernelspec": {
      "display_name": "Python 3 (ipykernel)",
      "language": "python",
      "name": "python3"
    },
    "language_info": {
      "codemirror_mode": {
        "name": "ipython",
        "version": 3
      },
      "file_extension": ".py",
      "mimetype": "text/x-python",
      "name": "python",
      "nbconvert_exporter": "python",
      "pygments_lexer": "ipython3",
      "version": "3.9.7"
    }
  },
  "nbformat": 4,
  "nbformat_minor": 5
}