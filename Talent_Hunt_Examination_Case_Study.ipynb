{
  "nbformat": 4,
  "nbformat_minor": 0,
  "metadata": {
    "colab": {
      "provenance": [],
      "collapsed_sections": [
        "3BXeuML4rR7h",
        "Jk4B2nDFbUFC",
        "6WfFKuC8baxn",
        "YByu8AjAeqql",
        "6QslxB5mevN9",
        "hjxdsZmirkHa",
        "142FPzUWroO5",
        "_JvzZvFRr6A7",
        "uuKhP1hVsBOz",
        "KPS86Tdwi-jj",
        "TqnrRe5StV2a",
        "vbOHyOZXtdva",
        "eiz5_WQtuKCa",
        "Sp8KH9AJy7ap",
        "NA5nWxTAVbZ4",
        "ByIK9VkfVkn4",
        "bBGPAV0wVn3A",
        "SyXVPjmbVsJ4",
        "pSXjoex_dUMC",
        "DG8qszGkOc3Q",
        "TyZA0UhjOh1E",
        "_RWJmUSpjWYm",
        "O7oO0ztWP-lq",
        "BFvKgjwSQHd_",
        "JzXvUoscoK3B"
      ]
    },
    "kernelspec": {
      "name": "python3",
      "display_name": "Python 3"
    },
    "language_info": {
      "name": "python"
    }
  },
  "cells": [
    {
      "cell_type": "markdown",
      "source": [
        "<center><p float=\"center\">\n",
        "  <img src=\"https://upload.wikimedia.org/wikipedia/commons/e/e9/4_RGB_McCombs_School_Brand_Branded.png\" width=\"300\" height=\"100\"/>\n",
        "  <img src=\"https://mma.prnewswire.com/media/1458111/Great_Learning_Logo.jpg?p=facebook\" width=\"200\" height=\"100\"/>\n",
        "</p></center>\n",
        "\n",
        "<center><font size=10>Business Statistics</center></font>\n",
        "<center><font size=5>Estimation and Hypothesis Testing - Week 2</font></center>\n",
        "\n",
        "\n"
      ],
      "metadata": {
        "id": "CFNnr-z0rLy7"
      }
    },
    {
      "cell_type": "markdown",
      "source": [
        "<center><img src=\"https://cdn.pixabay.com/photo/2023/01/07/05/28/hand-7702606_1280.jpg\" width=\"720\"></center>\n",
        "\n",
        "<center><font size=5> Talent Hunt Examination Case Study</font></center>"
      ],
      "metadata": {
        "id": "Lo-je8R2rPDg"
      }
    },
    {
      "cell_type": "markdown",
      "source": [
        "## **Problem Statement**"
      ],
      "metadata": {
        "id": "3BXeuML4rR7h"
      }
    },
    {
      "cell_type": "markdown",
      "source": [
        "### **Business Context**"
      ],
      "metadata": {
        "id": "Jk4B2nDFbUFC"
      }
    },
    {
      "cell_type": "markdown",
      "source": [
        "A research institute conducts a Talent Hunt Examination every year to hire people who can work on various research projects in the field of Mathematics , Physics,Chemistry and Computer Science. **A2Z institute** provides a preparatory program to help the aspirants prepare for the Talent Hunt Exams. The institute has a good record of helping many students clear the exams. Before the application for the next batch starts, the institute wants to attract more aspirants to their program. For this, the institute wants to assure the aspiring students of the quality of results obtained by students enrolled in their program in recent years.\n",
        "\n",
        "However, one challenge in estimating an average score is that every year the exam’s difficulty level varies a little, and the distribution of scores also changes accordingly. However, it is known that the standard deviation of the scores of the students of the institute is 10. The institute keeps a track of the scores of various subjects for its alumni who attempted the exams previously. A dataset constituted of a simple random sample of scores of 600 aspirants from the last three years is prepared by the institute."
      ],
      "metadata": {
        "id": "DO-G6sNubV9E"
      }
    },
    {
      "cell_type": "markdown",
      "source": [
        "### **Objective**"
      ],
      "metadata": {
        "id": "6WfFKuC8baxn"
      }
    },
    {
      "cell_type": "markdown",
      "source": [
        "The institute wants to get a more robust measure of the average scores secured by the students that accounts for the variability in scores across different years. This will help them get a better picture of the overall performance of the students and the information can also be used for marketing purposes.\n",
        "\n",
        "A renowned critic has recently taken to social media to mention that the institute's preparation material for Physics and Mathematics do not have the required rigor and that students, on average, failed to clear the cut-off of 82 in these subjects last year. The institute wants to verify the validity of the critic's claim and then respond to him. The goal is to determine whether there is significant evidence to support the claim that the average scores in Physics and Mathematics are lower than the specified cut-off.\n",
        "\n",
        "In light of recent increase in revenue of the institute, an investor believes that the increase is driven by an increasing amount of students clearing their exams in Computer Science and Chemistry in the last year. The institute wants to check if the investor's belief in factually correct and share an update. The aim is to assess whether there is significant evidence to support the claim that the average scores in Computer Science and Chemistry are higher than the cut-off score of 85."
      ],
      "metadata": {
        "id": "QNZtNG1bbaFV"
      }
    },
    {
      "cell_type": "markdown",
      "source": [
        "### **Data Dictionary**"
      ],
      "metadata": {
        "id": "YByu8AjAeqql"
      }
    },
    {
      "cell_type": "markdown",
      "source": [
        "The dataset provided (*Talent_hunt.csv*) contains the scores of four subjects of 600 aspirants enrolled in the institute''s programs in the last three years. Each row in the dataset corresponds to a different student, and the values in each column indicate the respective performance scores of that student in the specified academic program.\n",
        "\n",
        "- **Computer_Science**: This column contains numerical values representing the performance scores of students in the Computer Science program.\n",
        "\n",
        "- **Chemistry**: This column contains numerical values representing the performance scores of students in the Chemistry program.\n",
        "\n",
        "- **Mathematics**: This column contains numerical values representing the performance scores of students in the Mathematics program.\n",
        "\n",
        "- **Physics**: This column contains numerical values representing the performance scores of students in the Physics program.\n",
        "\n"
      ],
      "metadata": {
        "id": "t77WOUezeySA"
      }
    },
    {
      "cell_type": "markdown",
      "source": [
        "## **Solution Approach**"
      ],
      "metadata": {
        "id": "6QslxB5mevN9"
      }
    },
    {
      "cell_type": "markdown",
      "source": [
        "> 1.  **To provide a more reliable estimate of the average scores:** We will construct a 95% confidence interval for the mean scores of students in Physics, Mathematics, Computer Science, and Chemistry who have enrolled in the institute's program. This approach offers a comprehensive range of scores, providing a robust estimate.\n",
        "\n",
        "> 2. **Critic's Claim:** To investigate the critic's claim that the mean scores of students in Physics and Mathematics are less than the previous year's cut-off of 82, we will perform a hypothesis test at a significance level of 5%. The null hypothesis will assume that the mean scores are equal to or greater than 82, and the alternative hypothesis will suggest that the mean scores are less than 82.\n",
        "\n",
        "> 3. **Investor's Claim:** To assess the investor's claim that the mean scores of students in Computer Science and Chemistry are higher than or equal to the most recent cut-off of 85, we will conduct a hypothesis test at a significance level of 5%. The null hypothesis will assume that the mean scores are equal to or less than 85, and the alternative hypothesis will suggest that the mean scores are greater than 85. These tests will provide statistical evidence to validate or refute both the critic's and investor's perspectives, contributing to a comprehensive evaluation of the institute's performance."
      ],
      "metadata": {
        "id": "-8gYi8gErZUR"
      }
    },
    {
      "cell_type": "markdown",
      "source": [
        "## **Import the necessary libraries**\n",
        "\n"
      ],
      "metadata": {
        "id": "hjxdsZmirkHa"
      }
    },
    {
      "cell_type": "code",
      "execution_count": null,
      "metadata": {
        "id": "qMT4oqFojffp"
      },
      "outputs": [],
      "source": [
        "# Libraries to help with reading and manipulating data\n",
        "import pandas as pd\n",
        "import numpy as np\n",
        "\n",
        "# Libraries to help with data visualization\n",
        "import matplotlib.pyplot as plt\n",
        "import seaborn as sns\n",
        "%matplotlib inline\n",
        "\n",
        "# Library to help with statistical analysis\n",
        "import scipy.stats as stats\n",
        "\n",
        "# Function for handling normal distribution and statistical calculation\n",
        "from scipy.stats import norm"
      ]
    },
    {
      "cell_type": "markdown",
      "source": [
        "## **Loading the dataset**"
      ],
      "metadata": {
        "id": "142FPzUWroO5"
      }
    },
    {
      "cell_type": "code",
      "source": [
        "# uncomment the below code cell to mount your google drive\n",
        "#  from google.colab import drive\n",
        "#  drive.mount('/content/drive')"
      ],
      "metadata": {
        "id": "8NFWeGdGxlur"
      },
      "execution_count": null,
      "outputs": []
    },
    {
      "cell_type": "code",
      "source": [
        "path = \"/content/drive/MyDrive/content/talent_hunt_scores.csv\"\n",
        "data = pd.read_csv(path)"
      ],
      "metadata": {
        "id": "n0LhX4CRjoKc"
      },
      "execution_count": null,
      "outputs": []
    },
    {
      "cell_type": "code",
      "source": [
        "# copying data to another variable to avoid any changes to original data\n",
        "df = data.copy()"
      ],
      "metadata": {
        "id": "v1hQs1Kpkury"
      },
      "execution_count": null,
      "outputs": []
    },
    {
      "cell_type": "markdown",
      "source": [
        "## **Data Overview**"
      ],
      "metadata": {
        "id": "_JvzZvFRr6A7"
      }
    },
    {
      "cell_type": "markdown",
      "source": [
        "The initial steps to get an overview of any dataset is to:\n",
        "- Observe the first few rows of the dataset, to check whether the dataset has been loaded properly or not\n",
        "- Get information about the number of rows and columns in the dataset\n",
        "- Find out the data types of the columns to ensure that data is stored in the preferred format and the value of each property is as expected.\n",
        "- Check the statistical summary of the dataset to get an overview of the numerical columns of the data"
      ],
      "metadata": {
        "id": "6djF5OCxr9_0"
      }
    },
    {
      "cell_type": "markdown",
      "source": [
        "#### **Displaying the first few rows of the dataset**"
      ],
      "metadata": {
        "id": "uuKhP1hVsBOz"
      }
    },
    {
      "cell_type": "code",
      "source": [
        "# looking at head (5 observations)\n",
        "df.head()"
      ],
      "metadata": {
        "id": "SCm8whM3nqGC",
        "colab": {
          "base_uri": "https://localhost:8080/",
          "height": 206
        },
        "outputId": "de027e1a-7940-4df0-9ee9-08dc9cac71b6"
      },
      "execution_count": null,
      "outputs": [
        {
          "output_type": "execute_result",
          "data": {
            "text/plain": [
              "   Computer_Science  Chemistry  Mathematics  Physics\n",
              "0             74.41     103.29        95.21    74.25\n",
              "1             83.02      88.96        74.95    96.26\n",
              "2             79.57      85.67        63.88   100.01\n",
              "3             75.55      84.31        99.49    91.51\n",
              "4             97.16      88.70        82.81    93.38"
            ],
            "text/html": [
              "\n",
              "  <div id=\"df-9efa7a33-badc-4cdd-9e67-190735a830a5\" class=\"colab-df-container\">\n",
              "    <div>\n",
              "<style scoped>\n",
              "    .dataframe tbody tr th:only-of-type {\n",
              "        vertical-align: middle;\n",
              "    }\n",
              "\n",
              "    .dataframe tbody tr th {\n",
              "        vertical-align: top;\n",
              "    }\n",
              "\n",
              "    .dataframe thead th {\n",
              "        text-align: right;\n",
              "    }\n",
              "</style>\n",
              "<table border=\"1\" class=\"dataframe\">\n",
              "  <thead>\n",
              "    <tr style=\"text-align: right;\">\n",
              "      <th></th>\n",
              "      <th>Computer_Science</th>\n",
              "      <th>Chemistry</th>\n",
              "      <th>Mathematics</th>\n",
              "      <th>Physics</th>\n",
              "    </tr>\n",
              "  </thead>\n",
              "  <tbody>\n",
              "    <tr>\n",
              "      <th>0</th>\n",
              "      <td>74.41</td>\n",
              "      <td>103.29</td>\n",
              "      <td>95.21</td>\n",
              "      <td>74.25</td>\n",
              "    </tr>\n",
              "    <tr>\n",
              "      <th>1</th>\n",
              "      <td>83.02</td>\n",
              "      <td>88.96</td>\n",
              "      <td>74.95</td>\n",
              "      <td>96.26</td>\n",
              "    </tr>\n",
              "    <tr>\n",
              "      <th>2</th>\n",
              "      <td>79.57</td>\n",
              "      <td>85.67</td>\n",
              "      <td>63.88</td>\n",
              "      <td>100.01</td>\n",
              "    </tr>\n",
              "    <tr>\n",
              "      <th>3</th>\n",
              "      <td>75.55</td>\n",
              "      <td>84.31</td>\n",
              "      <td>99.49</td>\n",
              "      <td>91.51</td>\n",
              "    </tr>\n",
              "    <tr>\n",
              "      <th>4</th>\n",
              "      <td>97.16</td>\n",
              "      <td>88.70</td>\n",
              "      <td>82.81</td>\n",
              "      <td>93.38</td>\n",
              "    </tr>\n",
              "  </tbody>\n",
              "</table>\n",
              "</div>\n",
              "    <div class=\"colab-df-buttons\">\n",
              "\n",
              "  <div class=\"colab-df-container\">\n",
              "    <button class=\"colab-df-convert\" onclick=\"convertToInteractive('df-9efa7a33-badc-4cdd-9e67-190735a830a5')\"\n",
              "            title=\"Convert this dataframe to an interactive table.\"\n",
              "            style=\"display:none;\">\n",
              "\n",
              "  <svg xmlns=\"http://www.w3.org/2000/svg\" height=\"24px\" viewBox=\"0 -960 960 960\">\n",
              "    <path d=\"M120-120v-720h720v720H120Zm60-500h600v-160H180v160Zm220 220h160v-160H400v160Zm0 220h160v-160H400v160ZM180-400h160v-160H180v160Zm440 0h160v-160H620v160ZM180-180h160v-160H180v160Zm440 0h160v-160H620v160Z\"/>\n",
              "  </svg>\n",
              "    </button>\n",
              "\n",
              "  <style>\n",
              "    .colab-df-container {\n",
              "      display:flex;\n",
              "      gap: 12px;\n",
              "    }\n",
              "\n",
              "    .colab-df-convert {\n",
              "      background-color: #E8F0FE;\n",
              "      border: none;\n",
              "      border-radius: 50%;\n",
              "      cursor: pointer;\n",
              "      display: none;\n",
              "      fill: #1967D2;\n",
              "      height: 32px;\n",
              "      padding: 0 0 0 0;\n",
              "      width: 32px;\n",
              "    }\n",
              "\n",
              "    .colab-df-convert:hover {\n",
              "      background-color: #E2EBFA;\n",
              "      box-shadow: 0px 1px 2px rgba(60, 64, 67, 0.3), 0px 1px 3px 1px rgba(60, 64, 67, 0.15);\n",
              "      fill: #174EA6;\n",
              "    }\n",
              "\n",
              "    .colab-df-buttons div {\n",
              "      margin-bottom: 4px;\n",
              "    }\n",
              "\n",
              "    [theme=dark] .colab-df-convert {\n",
              "      background-color: #3B4455;\n",
              "      fill: #D2E3FC;\n",
              "    }\n",
              "\n",
              "    [theme=dark] .colab-df-convert:hover {\n",
              "      background-color: #434B5C;\n",
              "      box-shadow: 0px 1px 3px 1px rgba(0, 0, 0, 0.15);\n",
              "      filter: drop-shadow(0px 1px 2px rgba(0, 0, 0, 0.3));\n",
              "      fill: #FFFFFF;\n",
              "    }\n",
              "  </style>\n",
              "\n",
              "    <script>\n",
              "      const buttonEl =\n",
              "        document.querySelector('#df-9efa7a33-badc-4cdd-9e67-190735a830a5 button.colab-df-convert');\n",
              "      buttonEl.style.display =\n",
              "        google.colab.kernel.accessAllowed ? 'block' : 'none';\n",
              "\n",
              "      async function convertToInteractive(key) {\n",
              "        const element = document.querySelector('#df-9efa7a33-badc-4cdd-9e67-190735a830a5');\n",
              "        const dataTable =\n",
              "          await google.colab.kernel.invokeFunction('convertToInteractive',\n",
              "                                                    [key], {});\n",
              "        if (!dataTable) return;\n",
              "\n",
              "        const docLinkHtml = 'Like what you see? Visit the ' +\n",
              "          '<a target=\"_blank\" href=https://colab.research.google.com/notebooks/data_table.ipynb>data table notebook</a>'\n",
              "          + ' to learn more about interactive tables.';\n",
              "        element.innerHTML = '';\n",
              "        dataTable['output_type'] = 'display_data';\n",
              "        await google.colab.output.renderOutput(dataTable, element);\n",
              "        const docLink = document.createElement('div');\n",
              "        docLink.innerHTML = docLinkHtml;\n",
              "        element.appendChild(docLink);\n",
              "      }\n",
              "    </script>\n",
              "  </div>\n",
              "\n",
              "\n",
              "<div id=\"df-288c414b-87b2-4294-9b46-3490274893c4\">\n",
              "  <button class=\"colab-df-quickchart\" onclick=\"quickchart('df-288c414b-87b2-4294-9b46-3490274893c4')\"\n",
              "            title=\"Suggest charts\"\n",
              "            style=\"display:none;\">\n",
              "\n",
              "<svg xmlns=\"http://www.w3.org/2000/svg\" height=\"24px\"viewBox=\"0 0 24 24\"\n",
              "     width=\"24px\">\n",
              "    <g>\n",
              "        <path d=\"M19 3H5c-1.1 0-2 .9-2 2v14c0 1.1.9 2 2 2h14c1.1 0 2-.9 2-2V5c0-1.1-.9-2-2-2zM9 17H7v-7h2v7zm4 0h-2V7h2v10zm4 0h-2v-4h2v4z\"/>\n",
              "    </g>\n",
              "</svg>\n",
              "  </button>\n",
              "\n",
              "<style>\n",
              "  .colab-df-quickchart {\n",
              "      --bg-color: #E8F0FE;\n",
              "      --fill-color: #1967D2;\n",
              "      --hover-bg-color: #E2EBFA;\n",
              "      --hover-fill-color: #174EA6;\n",
              "      --disabled-fill-color: #AAA;\n",
              "      --disabled-bg-color: #DDD;\n",
              "  }\n",
              "\n",
              "  [theme=dark] .colab-df-quickchart {\n",
              "      --bg-color: #3B4455;\n",
              "      --fill-color: #D2E3FC;\n",
              "      --hover-bg-color: #434B5C;\n",
              "      --hover-fill-color: #FFFFFF;\n",
              "      --disabled-bg-color: #3B4455;\n",
              "      --disabled-fill-color: #666;\n",
              "  }\n",
              "\n",
              "  .colab-df-quickchart {\n",
              "    background-color: var(--bg-color);\n",
              "    border: none;\n",
              "    border-radius: 50%;\n",
              "    cursor: pointer;\n",
              "    display: none;\n",
              "    fill: var(--fill-color);\n",
              "    height: 32px;\n",
              "    padding: 0;\n",
              "    width: 32px;\n",
              "  }\n",
              "\n",
              "  .colab-df-quickchart:hover {\n",
              "    background-color: var(--hover-bg-color);\n",
              "    box-shadow: 0 1px 2px rgba(60, 64, 67, 0.3), 0 1px 3px 1px rgba(60, 64, 67, 0.15);\n",
              "    fill: var(--button-hover-fill-color);\n",
              "  }\n",
              "\n",
              "  .colab-df-quickchart-complete:disabled,\n",
              "  .colab-df-quickchart-complete:disabled:hover {\n",
              "    background-color: var(--disabled-bg-color);\n",
              "    fill: var(--disabled-fill-color);\n",
              "    box-shadow: none;\n",
              "  }\n",
              "\n",
              "  .colab-df-spinner {\n",
              "    border: 2px solid var(--fill-color);\n",
              "    border-color: transparent;\n",
              "    border-bottom-color: var(--fill-color);\n",
              "    animation:\n",
              "      spin 1s steps(1) infinite;\n",
              "  }\n",
              "\n",
              "  @keyframes spin {\n",
              "    0% {\n",
              "      border-color: transparent;\n",
              "      border-bottom-color: var(--fill-color);\n",
              "      border-left-color: var(--fill-color);\n",
              "    }\n",
              "    20% {\n",
              "      border-color: transparent;\n",
              "      border-left-color: var(--fill-color);\n",
              "      border-top-color: var(--fill-color);\n",
              "    }\n",
              "    30% {\n",
              "      border-color: transparent;\n",
              "      border-left-color: var(--fill-color);\n",
              "      border-top-color: var(--fill-color);\n",
              "      border-right-color: var(--fill-color);\n",
              "    }\n",
              "    40% {\n",
              "      border-color: transparent;\n",
              "      border-right-color: var(--fill-color);\n",
              "      border-top-color: var(--fill-color);\n",
              "    }\n",
              "    60% {\n",
              "      border-color: transparent;\n",
              "      border-right-color: var(--fill-color);\n",
              "    }\n",
              "    80% {\n",
              "      border-color: transparent;\n",
              "      border-right-color: var(--fill-color);\n",
              "      border-bottom-color: var(--fill-color);\n",
              "    }\n",
              "    90% {\n",
              "      border-color: transparent;\n",
              "      border-bottom-color: var(--fill-color);\n",
              "    }\n",
              "  }\n",
              "</style>\n",
              "\n",
              "  <script>\n",
              "    async function quickchart(key) {\n",
              "      const quickchartButtonEl =\n",
              "        document.querySelector('#' + key + ' button');\n",
              "      quickchartButtonEl.disabled = true;  // To prevent multiple clicks.\n",
              "      quickchartButtonEl.classList.add('colab-df-spinner');\n",
              "      try {\n",
              "        const charts = await google.colab.kernel.invokeFunction(\n",
              "            'suggestCharts', [key], {});\n",
              "      } catch (error) {\n",
              "        console.error('Error during call to suggestCharts:', error);\n",
              "      }\n",
              "      quickchartButtonEl.classList.remove('colab-df-spinner');\n",
              "      quickchartButtonEl.classList.add('colab-df-quickchart-complete');\n",
              "    }\n",
              "    (() => {\n",
              "      let quickchartButtonEl =\n",
              "        document.querySelector('#df-288c414b-87b2-4294-9b46-3490274893c4 button');\n",
              "      quickchartButtonEl.style.display =\n",
              "        google.colab.kernel.accessAllowed ? 'block' : 'none';\n",
              "    })();\n",
              "  </script>\n",
              "</div>\n",
              "    </div>\n",
              "  </div>\n"
            ]
          },
          "metadata": {},
          "execution_count": 5
        }
      ]
    },
    {
      "cell_type": "markdown",
      "source": [
        "* There are total four column `Computer_Science`,`Chemistry`,`Mathematics` and `Physics` in the dataset which represents the score of the various subjects from a sample of the aspirants."
      ],
      "metadata": {
        "id": "8vEReCHBsKGa"
      }
    },
    {
      "cell_type": "markdown",
      "source": [
        "#### **Checking the shape of the dataset**"
      ],
      "metadata": {
        "id": "KPS86Tdwi-jj"
      }
    },
    {
      "cell_type": "code",
      "source": [
        "df.shape"
      ],
      "metadata": {
        "colab": {
          "base_uri": "https://localhost:8080/"
        },
        "id": "dtPbWZp2sD3P",
        "outputId": "d60dc38b-8a47-470b-e678-2e4e54d91047"
      },
      "execution_count": null,
      "outputs": [
        {
          "output_type": "execute_result",
          "data": {
            "text/plain": [
              "(600, 4)"
            ]
          },
          "metadata": {},
          "execution_count": 6
        }
      ]
    },
    {
      "cell_type": "markdown",
      "source": [
        "* There is a total of 600 scores of 4 subjects in the sample."
      ],
      "metadata": {
        "id": "jhWM21E0tLMa"
      }
    },
    {
      "cell_type": "markdown",
      "source": [
        "#### **Checking the data types of the columns for the dataset**"
      ],
      "metadata": {
        "id": "TqnrRe5StV2a"
      }
    },
    {
      "cell_type": "code",
      "source": [
        "df.info()"
      ],
      "metadata": {
        "colab": {
          "base_uri": "https://localhost:8080/"
        },
        "id": "qpjp6gO5sHGN",
        "outputId": "2db67011-cbf4-4258-c7e6-79514fcc62c7"
      },
      "execution_count": null,
      "outputs": [
        {
          "output_type": "stream",
          "name": "stdout",
          "text": [
            "<class 'pandas.core.frame.DataFrame'>\n",
            "RangeIndex: 600 entries, 0 to 599\n",
            "Data columns (total 4 columns):\n",
            " #   Column            Non-Null Count  Dtype  \n",
            "---  ------            --------------  -----  \n",
            " 0   Computer_Science  600 non-null    float64\n",
            " 1   Chemistry         600 non-null    float64\n",
            " 2   Mathematics       600 non-null    float64\n",
            " 3   Physics           600 non-null    float64\n",
            "dtypes: float64(4)\n",
            "memory usage: 18.9 KB\n"
          ]
        }
      ]
    },
    {
      "cell_type": "markdown",
      "source": [
        "* The scores of the aspirants are continuous in nature."
      ],
      "metadata": {
        "id": "mtaYIZOkta2j"
      }
    },
    {
      "cell_type": "markdown",
      "source": [
        "#### **Statistical summary of the dataset**"
      ],
      "metadata": {
        "id": "vbOHyOZXtdva"
      }
    },
    {
      "cell_type": "code",
      "source": [
        "df.describe()"
      ],
      "metadata": {
        "colab": {
          "base_uri": "https://localhost:8080/",
          "height": 300
        },
        "id": "MFGeM_T5tX2U",
        "outputId": "2fd7c243-e4c1-4975-dd2e-14b5059add12"
      },
      "execution_count": null,
      "outputs": [
        {
          "output_type": "execute_result",
          "data": {
            "text/plain": [
              "       Computer_Science   Chemistry  Mathematics     Physics\n",
              "count        600.000000  600.000000   600.000000  600.000000\n",
              "mean          84.920467   85.727483    81.733783   82.684317\n",
              "std            9.901397    9.765809    10.468294   10.263065\n",
              "min           55.390000   58.900000    40.170000   40.710000\n",
              "25%           78.215000   79.147500    75.345000   75.820000\n",
              "50%           84.990000   85.700000    82.115000   82.920000\n",
              "75%           91.180000   91.662500    88.092500   89.672500\n",
              "max          119.390000  114.270000   110.820000  111.650000"
            ],
            "text/html": [
              "\n",
              "  <div id=\"df-53f2f461-bae5-47b9-a718-2e9c6e4223c5\" class=\"colab-df-container\">\n",
              "    <div>\n",
              "<style scoped>\n",
              "    .dataframe tbody tr th:only-of-type {\n",
              "        vertical-align: middle;\n",
              "    }\n",
              "\n",
              "    .dataframe tbody tr th {\n",
              "        vertical-align: top;\n",
              "    }\n",
              "\n",
              "    .dataframe thead th {\n",
              "        text-align: right;\n",
              "    }\n",
              "</style>\n",
              "<table border=\"1\" class=\"dataframe\">\n",
              "  <thead>\n",
              "    <tr style=\"text-align: right;\">\n",
              "      <th></th>\n",
              "      <th>Computer_Science</th>\n",
              "      <th>Chemistry</th>\n",
              "      <th>Mathematics</th>\n",
              "      <th>Physics</th>\n",
              "    </tr>\n",
              "  </thead>\n",
              "  <tbody>\n",
              "    <tr>\n",
              "      <th>count</th>\n",
              "      <td>600.000000</td>\n",
              "      <td>600.000000</td>\n",
              "      <td>600.000000</td>\n",
              "      <td>600.000000</td>\n",
              "    </tr>\n",
              "    <tr>\n",
              "      <th>mean</th>\n",
              "      <td>84.920467</td>\n",
              "      <td>85.727483</td>\n",
              "      <td>81.733783</td>\n",
              "      <td>82.684317</td>\n",
              "    </tr>\n",
              "    <tr>\n",
              "      <th>std</th>\n",
              "      <td>9.901397</td>\n",
              "      <td>9.765809</td>\n",
              "      <td>10.468294</td>\n",
              "      <td>10.263065</td>\n",
              "    </tr>\n",
              "    <tr>\n",
              "      <th>min</th>\n",
              "      <td>55.390000</td>\n",
              "      <td>58.900000</td>\n",
              "      <td>40.170000</td>\n",
              "      <td>40.710000</td>\n",
              "    </tr>\n",
              "    <tr>\n",
              "      <th>25%</th>\n",
              "      <td>78.215000</td>\n",
              "      <td>79.147500</td>\n",
              "      <td>75.345000</td>\n",
              "      <td>75.820000</td>\n",
              "    </tr>\n",
              "    <tr>\n",
              "      <th>50%</th>\n",
              "      <td>84.990000</td>\n",
              "      <td>85.700000</td>\n",
              "      <td>82.115000</td>\n",
              "      <td>82.920000</td>\n",
              "    </tr>\n",
              "    <tr>\n",
              "      <th>75%</th>\n",
              "      <td>91.180000</td>\n",
              "      <td>91.662500</td>\n",
              "      <td>88.092500</td>\n",
              "      <td>89.672500</td>\n",
              "    </tr>\n",
              "    <tr>\n",
              "      <th>max</th>\n",
              "      <td>119.390000</td>\n",
              "      <td>114.270000</td>\n",
              "      <td>110.820000</td>\n",
              "      <td>111.650000</td>\n",
              "    </tr>\n",
              "  </tbody>\n",
              "</table>\n",
              "</div>\n",
              "    <div class=\"colab-df-buttons\">\n",
              "\n",
              "  <div class=\"colab-df-container\">\n",
              "    <button class=\"colab-df-convert\" onclick=\"convertToInteractive('df-53f2f461-bae5-47b9-a718-2e9c6e4223c5')\"\n",
              "            title=\"Convert this dataframe to an interactive table.\"\n",
              "            style=\"display:none;\">\n",
              "\n",
              "  <svg xmlns=\"http://www.w3.org/2000/svg\" height=\"24px\" viewBox=\"0 -960 960 960\">\n",
              "    <path d=\"M120-120v-720h720v720H120Zm60-500h600v-160H180v160Zm220 220h160v-160H400v160Zm0 220h160v-160H400v160ZM180-400h160v-160H180v160Zm440 0h160v-160H620v160ZM180-180h160v-160H180v160Zm440 0h160v-160H620v160Z\"/>\n",
              "  </svg>\n",
              "    </button>\n",
              "\n",
              "  <style>\n",
              "    .colab-df-container {\n",
              "      display:flex;\n",
              "      gap: 12px;\n",
              "    }\n",
              "\n",
              "    .colab-df-convert {\n",
              "      background-color: #E8F0FE;\n",
              "      border: none;\n",
              "      border-radius: 50%;\n",
              "      cursor: pointer;\n",
              "      display: none;\n",
              "      fill: #1967D2;\n",
              "      height: 32px;\n",
              "      padding: 0 0 0 0;\n",
              "      width: 32px;\n",
              "    }\n",
              "\n",
              "    .colab-df-convert:hover {\n",
              "      background-color: #E2EBFA;\n",
              "      box-shadow: 0px 1px 2px rgba(60, 64, 67, 0.3), 0px 1px 3px 1px rgba(60, 64, 67, 0.15);\n",
              "      fill: #174EA6;\n",
              "    }\n",
              "\n",
              "    .colab-df-buttons div {\n",
              "      margin-bottom: 4px;\n",
              "    }\n",
              "\n",
              "    [theme=dark] .colab-df-convert {\n",
              "      background-color: #3B4455;\n",
              "      fill: #D2E3FC;\n",
              "    }\n",
              "\n",
              "    [theme=dark] .colab-df-convert:hover {\n",
              "      background-color: #434B5C;\n",
              "      box-shadow: 0px 1px 3px 1px rgba(0, 0, 0, 0.15);\n",
              "      filter: drop-shadow(0px 1px 2px rgba(0, 0, 0, 0.3));\n",
              "      fill: #FFFFFF;\n",
              "    }\n",
              "  </style>\n",
              "\n",
              "    <script>\n",
              "      const buttonEl =\n",
              "        document.querySelector('#df-53f2f461-bae5-47b9-a718-2e9c6e4223c5 button.colab-df-convert');\n",
              "      buttonEl.style.display =\n",
              "        google.colab.kernel.accessAllowed ? 'block' : 'none';\n",
              "\n",
              "      async function convertToInteractive(key) {\n",
              "        const element = document.querySelector('#df-53f2f461-bae5-47b9-a718-2e9c6e4223c5');\n",
              "        const dataTable =\n",
              "          await google.colab.kernel.invokeFunction('convertToInteractive',\n",
              "                                                    [key], {});\n",
              "        if (!dataTable) return;\n",
              "\n",
              "        const docLinkHtml = 'Like what you see? Visit the ' +\n",
              "          '<a target=\"_blank\" href=https://colab.research.google.com/notebooks/data_table.ipynb>data table notebook</a>'\n",
              "          + ' to learn more about interactive tables.';\n",
              "        element.innerHTML = '';\n",
              "        dataTable['output_type'] = 'display_data';\n",
              "        await google.colab.output.renderOutput(dataTable, element);\n",
              "        const docLink = document.createElement('div');\n",
              "        docLink.innerHTML = docLinkHtml;\n",
              "        element.appendChild(docLink);\n",
              "      }\n",
              "    </script>\n",
              "  </div>\n",
              "\n",
              "\n",
              "<div id=\"df-3f3d6999-3c48-450e-9fd0-c4f5a2bb043a\">\n",
              "  <button class=\"colab-df-quickchart\" onclick=\"quickchart('df-3f3d6999-3c48-450e-9fd0-c4f5a2bb043a')\"\n",
              "            title=\"Suggest charts\"\n",
              "            style=\"display:none;\">\n",
              "\n",
              "<svg xmlns=\"http://www.w3.org/2000/svg\" height=\"24px\"viewBox=\"0 0 24 24\"\n",
              "     width=\"24px\">\n",
              "    <g>\n",
              "        <path d=\"M19 3H5c-1.1 0-2 .9-2 2v14c0 1.1.9 2 2 2h14c1.1 0 2-.9 2-2V5c0-1.1-.9-2-2-2zM9 17H7v-7h2v7zm4 0h-2V7h2v10zm4 0h-2v-4h2v4z\"/>\n",
              "    </g>\n",
              "</svg>\n",
              "  </button>\n",
              "\n",
              "<style>\n",
              "  .colab-df-quickchart {\n",
              "      --bg-color: #E8F0FE;\n",
              "      --fill-color: #1967D2;\n",
              "      --hover-bg-color: #E2EBFA;\n",
              "      --hover-fill-color: #174EA6;\n",
              "      --disabled-fill-color: #AAA;\n",
              "      --disabled-bg-color: #DDD;\n",
              "  }\n",
              "\n",
              "  [theme=dark] .colab-df-quickchart {\n",
              "      --bg-color: #3B4455;\n",
              "      --fill-color: #D2E3FC;\n",
              "      --hover-bg-color: #434B5C;\n",
              "      --hover-fill-color: #FFFFFF;\n",
              "      --disabled-bg-color: #3B4455;\n",
              "      --disabled-fill-color: #666;\n",
              "  }\n",
              "\n",
              "  .colab-df-quickchart {\n",
              "    background-color: var(--bg-color);\n",
              "    border: none;\n",
              "    border-radius: 50%;\n",
              "    cursor: pointer;\n",
              "    display: none;\n",
              "    fill: var(--fill-color);\n",
              "    height: 32px;\n",
              "    padding: 0;\n",
              "    width: 32px;\n",
              "  }\n",
              "\n",
              "  .colab-df-quickchart:hover {\n",
              "    background-color: var(--hover-bg-color);\n",
              "    box-shadow: 0 1px 2px rgba(60, 64, 67, 0.3), 0 1px 3px 1px rgba(60, 64, 67, 0.15);\n",
              "    fill: var(--button-hover-fill-color);\n",
              "  }\n",
              "\n",
              "  .colab-df-quickchart-complete:disabled,\n",
              "  .colab-df-quickchart-complete:disabled:hover {\n",
              "    background-color: var(--disabled-bg-color);\n",
              "    fill: var(--disabled-fill-color);\n",
              "    box-shadow: none;\n",
              "  }\n",
              "\n",
              "  .colab-df-spinner {\n",
              "    border: 2px solid var(--fill-color);\n",
              "    border-color: transparent;\n",
              "    border-bottom-color: var(--fill-color);\n",
              "    animation:\n",
              "      spin 1s steps(1) infinite;\n",
              "  }\n",
              "\n",
              "  @keyframes spin {\n",
              "    0% {\n",
              "      border-color: transparent;\n",
              "      border-bottom-color: var(--fill-color);\n",
              "      border-left-color: var(--fill-color);\n",
              "    }\n",
              "    20% {\n",
              "      border-color: transparent;\n",
              "      border-left-color: var(--fill-color);\n",
              "      border-top-color: var(--fill-color);\n",
              "    }\n",
              "    30% {\n",
              "      border-color: transparent;\n",
              "      border-left-color: var(--fill-color);\n",
              "      border-top-color: var(--fill-color);\n",
              "      border-right-color: var(--fill-color);\n",
              "    }\n",
              "    40% {\n",
              "      border-color: transparent;\n",
              "      border-right-color: var(--fill-color);\n",
              "      border-top-color: var(--fill-color);\n",
              "    }\n",
              "    60% {\n",
              "      border-color: transparent;\n",
              "      border-right-color: var(--fill-color);\n",
              "    }\n",
              "    80% {\n",
              "      border-color: transparent;\n",
              "      border-right-color: var(--fill-color);\n",
              "      border-bottom-color: var(--fill-color);\n",
              "    }\n",
              "    90% {\n",
              "      border-color: transparent;\n",
              "      border-bottom-color: var(--fill-color);\n",
              "    }\n",
              "  }\n",
              "</style>\n",
              "\n",
              "  <script>\n",
              "    async function quickchart(key) {\n",
              "      const quickchartButtonEl =\n",
              "        document.querySelector('#' + key + ' button');\n",
              "      quickchartButtonEl.disabled = true;  // To prevent multiple clicks.\n",
              "      quickchartButtonEl.classList.add('colab-df-spinner');\n",
              "      try {\n",
              "        const charts = await google.colab.kernel.invokeFunction(\n",
              "            'suggestCharts', [key], {});\n",
              "      } catch (error) {\n",
              "        console.error('Error during call to suggestCharts:', error);\n",
              "      }\n",
              "      quickchartButtonEl.classList.remove('colab-df-spinner');\n",
              "      quickchartButtonEl.classList.add('colab-df-quickchart-complete');\n",
              "    }\n",
              "    (() => {\n",
              "      let quickchartButtonEl =\n",
              "        document.querySelector('#df-3f3d6999-3c48-450e-9fd0-c4f5a2bb043a button');\n",
              "      quickchartButtonEl.style.display =\n",
              "        google.colab.kernel.accessAllowed ? 'block' : 'none';\n",
              "    })();\n",
              "  </script>\n",
              "</div>\n",
              "    </div>\n",
              "  </div>\n"
            ]
          },
          "metadata": {},
          "execution_count": 8
        }
      ]
    },
    {
      "cell_type": "markdown",
      "source": [
        "#####**Observations:**\n",
        "* In Computer Science, the average score is 84.92, Chemistry exhibits an average of 85.73, Mathematics has an average of 81.73, and Physics shows an average of 82.68.\n",
        "* The median scores closely align with the averages: Computer Science (84.99), Chemistry (85.70), Mathematics (82.12), and Physics (82.92), suggesting a balanced distribution.\n",
        "* Standard deviations provide insights into the spread of scores: Computer Science (9.90), Chemistry (9.77), Mathematics (10.47), and Physics (10.26).\n",
        "* The minimum scores are 55.39 in Computer Science, 58.90 in Chemistry, 40.17 in Mathematics, and 40.71 in Physics, revealing the lowest performance levels.\n",
        "* No student scored below 78.22 in Computer Science, 79.15 in Chemistry, 75.35 in Mathematics, or 75.82 in Physics, indicating a certain threshold of competence.\n",
        "* The highest scores attained are 119.39 in Computer Science, 114.27 in Chemistry, 110.82 in Mathematics, and 111.65 in Physics, showcasing outstanding achievements in each subject."
      ],
      "metadata": {
        "id": "0kDZNWHyuEtz"
      }
    },
    {
      "cell_type": "markdown",
      "source": [
        "## **Exploratory Data Analysis**"
      ],
      "metadata": {
        "id": "eiz5_WQtuKCa"
      }
    },
    {
      "cell_type": "code",
      "source": [
        "# plotting histograms of the distribution of the scores\n",
        "fig, axes = plt.subplots(2, 2, figsize=(10, 6))\n",
        "sns.histplot(df['Computer_Science'], kde=True, ax=axes[0, 0])\n",
        "sns.histplot(df['Chemistry'], kde=True, ax=axes[0, 1])\n",
        "sns.histplot(df['Mathematics'], kde=True, ax=axes[1, 0])\n",
        "sns.histplot(df['Physics'], kde=True, ax=axes[1, 1])\n",
        "plt.tight_layout()\n",
        "plt.show()"
      ],
      "metadata": {
        "colab": {
          "base_uri": "https://localhost:8080/",
          "height": 607
        },
        "id": "fnef27ReyXLS",
        "outputId": "2a882db9-fee7-4cd4-d20a-c82c9a738952"
      },
      "execution_count": null,
      "outputs": [
        {
          "output_type": "display_data",
          "data": {
            "text/plain": [
              "<Figure size 1000x600 with 4 Axes>"
            ],
            "image/png": "[encoded data removed]"
          },
          "metadata": {}
        }
      ]
    },
    {
      "cell_type": "markdown",
      "source": [
        "* For computer science and chemistry, the distribution is approx. normal.\n",
        "* From the distribution of the scores it can be observed that for mathematics and physics the distribution is slightly left-skewed.\n",
        "  * There might be a few outliers at the left tail of the distribution."
      ],
      "metadata": {
        "id": "xkHb6h75uzIS"
      }
    },
    {
      "cell_type": "code",
      "source": [
        "# plotting boxplots to check outliers for scores\n",
        "fig, axes = plt.subplots(2, 2, figsize=(10, 6))\n",
        "sns.boxplot(x =df.Computer_Science, ax=axes[0, 0])\n",
        "sns.boxplot(x =df.Chemistry, ax=axes[0, 1])\n",
        "sns.boxplot(x =df.Mathematics, ax=axes[1, 0])\n",
        "sns.boxplot(x =df.Physics, ax=axes[1, 1])\n",
        "plt.show()"
      ],
      "metadata": {
        "colab": {
          "base_uri": "https://localhost:8080/",
          "height": 542
        },
        "id": "YKbghG8o0mxD",
        "outputId": "c4329938-8fab-4948-f83b-1b440d87914d"
      },
      "execution_count": null,
      "outputs": [
        {
          "output_type": "display_data",
          "data": {
            "text/plain": [
              "<Figure size 1000x600 with 4 Axes>"
            ],
            "image/png": "[encoded data removed]"
          },
          "metadata": {}
        }
      ]
    },
    {
      "cell_type": "markdown",
      "source": [
        "* As observed from the boxplots, there are a few outliers present in each distribution of the subject scores."
      ],
      "metadata": {
        "id": "oVIndUxYyphE"
      }
    },
    {
      "cell_type": "markdown",
      "source": [
        "## **Reliable estimate of the average score using confidence intervals**"
      ],
      "metadata": {
        "id": "Sp8KH9AJy7ap"
      }
    },
    {
      "cell_type": "markdown",
      "source": [
        "To provide a more reliable estimate of the average score using a range of scores instead of a single estimate, we will construct a 95% confidence interval for the mean score that an aspirant has scored after enrolling in the institute’s program."
      ],
      "metadata": {
        "id": "QHftqiznzIP5"
      }
    },
    {
      "cell_type": "markdown",
      "source": [
        "* We saw that the distribution of the scores is not strictly normal\n",
        "* For constructing a confidence interval for the mean score, we need to know the underlying distribution of the mean score, which is not available\n",
        "* The Central Limit Theorem (CLT) can help us with this"
      ],
      "metadata": {
        "id": "fxmsoOBWzKeW"
      }
    },
    {
      "cell_type": "markdown",
      "source": [
        "**What is Central Limit Theorem (CLT)?**\n",
        "\n",
        "The Central Limit Theorem states that the sampling distribution of the sample means will approach a normal distribution as the sample size gets bigger, no matter what the shape of the population distribution is.\n",
        "\n",
        "Mathematically, if we are drawing multiple samples of size $n$ from a population with mean $\\mu$ and standard deviation $\\sigma$ and $\\bar{X}$ is the random variable representing the sample mean, then $\\bar{X}$ tends to follow a normal distribution as $n$ increases.\n",
        "\n",
        "* The mean of $\\bar{X}$ is equal to $\\mu$\n",
        "* The standard deviation of $\\bar{X}$ (also called as the standard error) is equal to $\\sigma/\\sqrt{n}$"
      ],
      "metadata": {
        "id": "8_MeENS6zQgN"
      }
    },
    {
      "cell_type": "markdown",
      "source": [
        "**As the data consists of 600 scores (data points), so $n=600 (>30)$. So, using CLT, we can say that the mean score will be approximately normally distributed.**"
      ],
      "metadata": {
        "id": "_mITasIrzUED"
      }
    },
    {
      "cell_type": "markdown",
      "source": [
        "As the population standard deviation is known, the normal distribution will be used to calculate the confidence interval. The 95% confidence interval for the population mean can be calculated by using the `interval()` function of the `norm` class of `scipy.stats`\n",
        "\n",
        "* The `interval()` function calculates the endpoints within which the specified percentage of values of the distribution lie, where\n",
        "  * `alpha` denotes the confidence level\n",
        "  * `loc` denotes the mean\n",
        "  * `scale` denotes the standard deviation"
      ],
      "metadata": {
        "id": "OXQPITYGzWIL"
      }
    },
    {
      "cell_type": "markdown",
      "source": [
        "It is known that the standard deviation of the scores is 10."
      ],
      "metadata": {
        "id": "ACfqF0uzlYRE"
      }
    },
    {
      "cell_type": "code",
      "source": [
        "# Given population standard deviation\n",
        "sigma = 10"
      ],
      "metadata": {
        "id": "4T-lnE4bks9N"
      },
      "execution_count": null,
      "outputs": []
    },
    {
      "cell_type": "markdown",
      "source": [
        "We have 600 observations (scores) for each subject."
      ],
      "metadata": {
        "id": "93ie1Qi2lJYX"
      }
    },
    {
      "cell_type": "code",
      "source": [
        "# Sample size\n",
        "n = 600"
      ],
      "metadata": {
        "id": "mp3Yju8-kw5g"
      },
      "execution_count": null,
      "outputs": []
    },
    {
      "cell_type": "markdown",
      "source": [
        "We want to build 95\\% confidence intervals."
      ],
      "metadata": {
        "id": "JduVbJxSk68W"
      }
    },
    {
      "cell_type": "code",
      "source": [
        "# Confidence level (alpha) for the confidence interval\n",
        "alpha = 0.95"
      ],
      "metadata": {
        "id": "oRCivhTGk2Sg"
      },
      "execution_count": null,
      "outputs": []
    },
    {
      "cell_type": "markdown",
      "source": [
        "### **Confidence Interval Calculation for '*Computer_Science*' Scores**"
      ],
      "metadata": {
        "id": "NA5nWxTAVbZ4"
      }
    },
    {
      "cell_type": "code",
      "source": [
        "# Calculate the value of the sample mean for the 'Computer_Science' subject\n",
        "score_1 = df['Computer_Science'].mean()"
      ],
      "metadata": {
        "id": "FomBolG5fe3O"
      },
      "execution_count": null,
      "outputs": []
    },
    {
      "cell_type": "code",
      "source": [
        "# Construct the 95% confidence interval for the mean score in 'Computer_Science'\n",
        "confidence_interval = np.round(norm.interval(alpha, loc=score_1, scale=sigma / np.sqrt(n)), 2)\n",
        "\n",
        "# Display the confidence interval\n",
        "print(\"95% Confidence Interval:\", confidence_interval)"
      ],
      "metadata": {
        "id": "Tuhwpdgnvd4_",
        "colab": {
          "base_uri": "https://localhost:8080/"
        },
        "outputId": "5dff71e5-dba1-428c-fc33-286aad126244"
      },
      "execution_count": null,
      "outputs": [
        {
          "output_type": "stream",
          "name": "stdout",
          "text": [
            "95% Confidence Interval: [84.12 85.72]\n"
          ]
        }
      ]
    },
    {
      "cell_type": "markdown",
      "source": [
        "* The 95% confidence interval calculated for the mean score in *Computer Science* is [84.12, 85.72].\n",
        "* **This implies that there is a 95% probability that a student participating in the institute's program for *Computer Science* will achieve, on average, a score falling within the range of 84.12 to 85.72**"
      ],
      "metadata": {
        "id": "eQxiH97SV4D3"
      }
    },
    {
      "cell_type": "markdown",
      "source": [
        "###**Confidence Interval Calculation for '*Chemistry*' Scores**"
      ],
      "metadata": {
        "id": "ByIK9VkfVkn4"
      }
    },
    {
      "cell_type": "code",
      "source": [
        "# Calculate the value of the sample mean for the 'Computer_Science' subject\n",
        "score_2 = df['Chemistry'].mean()"
      ],
      "metadata": {
        "id": "nLS3UhWFFv0S"
      },
      "execution_count": null,
      "outputs": []
    },
    {
      "cell_type": "code",
      "source": [
        "# Construct the 95% confidence interval for the mean score in 'Chemistry'\n",
        "confidence_interval = np.round(norm.interval(alpha, loc=score_2, scale=sigma / np.sqrt(n)), 2)\n",
        "\n",
        "# Display the confidence interval\n",
        "print(\"95% Confidence Interval:\", confidence_interval)"
      ],
      "metadata": {
        "colab": {
          "base_uri": "https://localhost:8080/"
        },
        "id": "xu7EYkDrOJCy",
        "outputId": "6260d071-4911-48d1-bef7-bb10cda03e27"
      },
      "execution_count": null,
      "outputs": [
        {
          "output_type": "stream",
          "name": "stdout",
          "text": [
            "95% Confidence Interval: [84.93 86.53]\n"
          ]
        }
      ]
    },
    {
      "cell_type": "markdown",
      "source": [
        "* The 95% confidence interval calculated for the mean score in *Chemistry* is [84.93 86.53].\n",
        "* **This implies that there is a 95% probability that a student participating in the institute's program for *Chemistry* will achieve, on average, a score falling within the range of 84.93 to 86.53**"
      ],
      "metadata": {
        "id": "-DVjySVqWWFs"
      }
    },
    {
      "cell_type": "markdown",
      "source": [
        "###**Confidence Interval Calculation for '*Mathematics*' Scores**"
      ],
      "metadata": {
        "id": "bBGPAV0wVn3A"
      }
    },
    {
      "cell_type": "code",
      "source": [
        "# Calculate the value of the sample mean for the 'Computer_Science' subject\n",
        "score_3 = df['Mathematics'].mean()"
      ],
      "metadata": {
        "id": "RXTskJbiQhiH"
      },
      "execution_count": null,
      "outputs": []
    },
    {
      "cell_type": "code",
      "source": [
        "# Construct the 95% confidence interval for the mean score in 'Computer_Science'\n",
        "confidence_interval = np.round(norm.interval(alpha, loc=score_3, scale=sigma / np.sqrt(n)), 2)\n",
        "\n",
        "# Display the confidence interval\n",
        "print(\"95% Confidence Interval:\", confidence_interval)"
      ],
      "metadata": {
        "colab": {
          "base_uri": "https://localhost:8080/"
        },
        "id": "Wn_jMldyONfI",
        "outputId": "e7b22212-93eb-4a63-d285-f04dede30314"
      },
      "execution_count": null,
      "outputs": [
        {
          "output_type": "stream",
          "name": "stdout",
          "text": [
            "95% Confidence Interval: [80.93 82.53]\n"
          ]
        }
      ]
    },
    {
      "cell_type": "markdown",
      "source": [
        "* The 95% confidence interval calculated for the mean score in *Mathematics* is [80.93 82.53].\n",
        "* **This implies that there is a 95% probability that a student participating in the institute's program for *Mathematics* will achieve, on average, a score falling within the range of 80.93 to 82.53**"
      ],
      "metadata": {
        "id": "jnfop5Afbl3o"
      }
    },
    {
      "cell_type": "markdown",
      "source": [
        "###**Confidence Interval Calculation for '*Physics*' Scores**"
      ],
      "metadata": {
        "id": "SyXVPjmbVsJ4"
      }
    },
    {
      "cell_type": "code",
      "source": [
        "# Calculate the value of the sample mean for the 'Computer_Science' subject\n",
        "score_4 = df['Physics'].mean()"
      ],
      "metadata": {
        "id": "Zj_RYQ_kQpMg"
      },
      "execution_count": null,
      "outputs": []
    },
    {
      "cell_type": "code",
      "source": [
        "# Construct the 95% confidence interval for the mean score in 'Computer_Science'\n",
        "confidence_interval = np.round(norm.interval(alpha, loc=score_4, scale=sigma / np.sqrt(n)), 2)\n",
        "\n",
        "# Display the confidence interval\n",
        "print(\"95% Confidence Interval:\", confidence_interval)"
      ],
      "metadata": {
        "colab": {
          "base_uri": "https://localhost:8080/"
        },
        "id": "0SX0OthdORJ8",
        "outputId": "69131dd9-5d2c-41a3-8dc0-c2dfb2d320e5"
      },
      "execution_count": null,
      "outputs": [
        {
          "output_type": "stream",
          "name": "stdout",
          "text": [
            "95% Confidence Interval: [81.88 83.48]\n"
          ]
        }
      ]
    },
    {
      "cell_type": "markdown",
      "source": [
        "* The 95% confidence interval calculated for the mean score in *Physics* is [81.88 83.48].\n",
        "* **This implies that there is a 95% probability that a student participating in the institute's program for *Physics* will achieve, on average, a score falling within the range of 81.88 to 83.48**"
      ],
      "metadata": {
        "id": "31jgzhLgb8Jg"
      }
    },
    {
      "cell_type": "markdown",
      "source": [
        "## **Validating the critic's claim using a hypothesis test**"
      ],
      "metadata": {
        "id": "pSXjoex_dUMC"
      }
    },
    {
      "cell_type": "markdown",
      "source": [
        "To test the validity of the critic's claim that the mean score of the students from A2Z institute in subjects like physics and mathematics is less than last year’s cut-off score of 82. we will perform a hypothesis test the level of significance 5%\n",
        "\n"
      ],
      "metadata": {
        "id": "2BXBwKZgdclx"
      }
    },
    {
      "cell_type": "markdown",
      "source": [
        "**Null and alternative hypotheses**\n",
        "\n",
        "Let $\\mu$ be the mean final score of all aspirants who enroll in the institute's program for physics and mathematics.\n",
        "\n",
        "The null hypothesis can be written as\n",
        "\n",
        ">$H_0: \\mu >= 82$\n",
        "\n",
        "against the alternate hypothesis\n",
        "\n",
        ">$H_a: \\mu < 82$"
      ],
      "metadata": {
        "id": "L0PKfczLdeyZ"
      }
    },
    {
      "cell_type": "markdown",
      "source": [
        "**Note**: The above hypotheses are true for both Physics and Mathematics."
      ],
      "metadata": {
        "id": "5UdET2CifxTi"
      }
    },
    {
      "cell_type": "markdown",
      "source": [
        "For comparing a sample mean $\\bar{x}$ with a hypothesized population mean $\\mu$ where the sample size is $n$ and the population standard deviation is known to be $\\sigma$, the one-sample z-test is used. The test statistic of the z-test is given as:\n",
        "\n",
        "$$z = \\frac{(\\bar{x} - \\mu)}{\\sigma/\\sqrt{n}}\\sim N(0,1)$$\n",
        "\n",
        "The test statistic follows a standard normal distribution."
      ],
      "metadata": {
        "id": "HS2beY6PdhGM"
      }
    },
    {
      "cell_type": "markdown",
      "source": [
        "**Are the assumptions of Z-test satisfied?**"
      ],
      "metadata": {
        "id": "DB8YW3x3nGWX"
      }
    },
    {
      "cell_type": "markdown",
      "source": [
        "*   Samples are drawn from a normal distribution - Since the sample size is 600(which is > 30), Central Limit Theorem states that the distribution of sample means will be approximately normal.  \n",
        "*   Observations are from a simple random sample - the institute collected a simple random sample\n",
        "*   Standard deviation is known - Yes\n",
        "\n",
        "\n",
        "Voila! We can use Z-test for this problem."
      ],
      "metadata": {
        "id": "GajVUDjXnIya"
      }
    },
    {
      "cell_type": "markdown",
      "source": [
        "It is known that the standard deviation of the scores is 10."
      ],
      "metadata": {
        "id": "PwNDAjIpnAB2"
      }
    },
    {
      "cell_type": "code",
      "source": [
        "# Given population standard deviation\n",
        "sigma = 10"
      ],
      "metadata": {
        "id": "a2MuxMsNnACE"
      },
      "execution_count": null,
      "outputs": []
    },
    {
      "cell_type": "markdown",
      "source": [
        "###**Mathematics**"
      ],
      "metadata": {
        "id": "DG8qszGkOc3Q"
      }
    },
    {
      "cell_type": "markdown",
      "source": [
        "**Calculate the Z-statistic value**"
      ],
      "metadata": {
        "id": "hiOzXQG3Op0c"
      }
    },
    {
      "cell_type": "code",
      "source": [
        "# set the values of population mean and population standard deviation\n",
        "mu = 82\n",
        "\n",
        "# calculate the value of the sample mean from the data\n",
        "score_3 = df.Mathematics.mean()\n",
        "\n",
        "# calculate the test statistic\n",
        "Mathematics_Score = (score_3 - mu) / (sigma/np.sqrt(600))\n",
        "Mathematics_Score"
      ],
      "metadata": {
        "colab": {
          "base_uri": "https://localhost:8080/"
        },
        "id": "szdE_3nOnvXb",
        "outputId": "2e86d999-1c90-4bbd-8a54-3833ea45ec13"
      },
      "execution_count": null,
      "outputs": [
        {
          "output_type": "execute_result",
          "data": {
            "text/plain": [
              "-0.6520949943579243"
            ]
          },
          "metadata": {},
          "execution_count": 40
        }
      ]
    },
    {
      "cell_type": "markdown",
      "source": [
        "**The Z-test statistic follows a standard normal distribution.**\n",
        "\n",
        "Let's plot the distribution of the Z-test statistic and see where the computed test statistic lies in the plot."
      ],
      "metadata": {
        "id": "CtVFy9M9OszU"
      }
    },
    {
      "cell_type": "code",
      "source": [
        "# plotting the distribution of Z test statistic along with the computed test statistic\n",
        "# We are plotting the distributions here to better visualize the calculations\n",
        "x = np.linspace(-4, 4, 100) # create an array of 100 numbers starting from -4 and ending at 4\n",
        "plt.plot(x, norm.pdf(x, 0, 1)) # plot the pdf of the normal distribution\n",
        "plt.axvline(x = Mathematics_Score, c = 'r') # draw a vertical red line through the mentioned point\n",
        "plt.xlabel('Z Test Statistic - Mathematics')  # specify the x-axis label\n",
        "plt.ylabel('Probability Density Function (PDF)')  # specify the y-axis label\n",
        "plt.show() # display the plot"
      ],
      "metadata": {
        "id": "eT_FDRtPOvy4",
        "colab": {
          "base_uri": "https://localhost:8080/",
          "height": 449
        },
        "outputId": "c0f53355-f074-4dcb-ae74-82b845962f6e"
      },
      "execution_count": null,
      "outputs": [
        {
          "output_type": "display_data",
          "data": {
            "text/plain": [
              "<Figure size 640x480 with 1 Axes>"
            ],
            "image/png": "[encoded data removed]"
          },
          "metadata": {}
        }
      ]
    },
    {
      "cell_type": "markdown",
      "source": [
        "**P-Value**\n",
        "\n",
        "As this is a left-tailed test, the p-value will be the area to the left of the test statistic under the standard normal curve."
      ],
      "metadata": {
        "id": "rn0IzhLfPYSc"
      }
    },
    {
      "cell_type": "code",
      "source": [
        "# calculate the p-value using the cdf() function\n",
        "norm.cdf(Mathematics_Score)"
      ],
      "metadata": {
        "id": "EZUi7aQzPNGU",
        "colab": {
          "base_uri": "https://localhost:8080/"
        },
        "outputId": "743ca445-9cfa-4af1-d94a-9653c199125e"
      },
      "execution_count": null,
      "outputs": [
        {
          "output_type": "execute_result",
          "data": {
            "text/plain": [
              "0.25716994651598596"
            ]
          },
          "metadata": {},
          "execution_count": 42
        }
      ]
    },
    {
      "cell_type": "markdown",
      "source": [
        "**Observation**\n",
        "\n",
        "* As the p-value ~0.26 is greater than the level of significance (0.05), we fail to reject the null hypothesis\n",
        "* We do not have enough statistical evidence to say that the mathematics score of all aspirants who enroll in the institute's program is less than last year's cutoff of 82\n"
      ],
      "metadata": {
        "id": "FAlDPLtflnqk"
      }
    },
    {
      "cell_type": "markdown",
      "source": [
        "###**Physics**"
      ],
      "metadata": {
        "id": "TyZA0UhjOh1E"
      }
    },
    {
      "cell_type": "markdown",
      "source": [
        "**Calculate the Z-statistic value**"
      ],
      "metadata": {
        "id": "PYeNJVrVOzE2"
      }
    },
    {
      "cell_type": "code",
      "source": [
        "# set the values of population mean and population standard deviation\n",
        "mu = 82\n",
        "\n",
        "# calculate the value of the sample mean from the data\n",
        "score_4 = df.Physics.mean()\n",
        "\n",
        "\n",
        "# calculate the test statistic\n",
        "Physics_Score = (score_4 - mu) / (sigma/np.sqrt(600))\n",
        "Physics_Score"
      ],
      "metadata": {
        "id": "yILmDQUVn1iA",
        "colab": {
          "base_uri": "https://localhost:8080/"
        },
        "outputId": "dee443fb-9738-4be0-b3c3-ea3c5793a322"
      },
      "execution_count": null,
      "outputs": [
        {
          "output_type": "execute_result",
          "data": {
            "text/plain": [
              "1.67622665581556"
            ]
          },
          "metadata": {},
          "execution_count": 43
        }
      ]
    },
    {
      "cell_type": "markdown",
      "source": [
        "**The Z-test statistic follows a standard normal distribution.**\n",
        "\n",
        "Let's plot the distribution of the Z-test statistic and see where the computed test statistic lies in the plot."
      ],
      "metadata": {
        "id": "1CluO23uqop7"
      }
    },
    {
      "cell_type": "code",
      "source": [
        "# plotting the distribution of Z test statistic along with the computed test statistic\n",
        "# We are plotting the distributions here to better visualize the calculations\n",
        "x = np.linspace(-4, 4, 100) # create an array of 100 numbers starting from -4 and ending at 4\n",
        "plt.plot(x, norm.pdf(x, 0, 1)) # plot the pdf of the normal distribution\n",
        "plt.axvline(x = Physics_Score, c = 'r') # draw a vertical red line through the mentioned point\n",
        "plt.xlabel('Z Test Statistic - Physics')  # specify the x-axis label\n",
        "plt.ylabel('Probability Density Function (PDF)')  # specify the y-axis label\n",
        "plt.show() # display the plot"
      ],
      "metadata": {
        "id": "VdKWSLKVPFgV",
        "colab": {
          "base_uri": "https://localhost:8080/",
          "height": 449
        },
        "outputId": "466e1fe9-40c4-4224-bdae-ef4ea3f554e9"
      },
      "execution_count": null,
      "outputs": [
        {
          "output_type": "display_data",
          "data": {
            "text/plain": [
              "<Figure size 640x480 with 1 Axes>"
            ],
            "image/png": "[encoded data removed]"
          },
          "metadata": {}
        }
      ]
    },
    {
      "cell_type": "markdown",
      "source": [
        "**P-Value**\n",
        "\n",
        "As this is a left-tailed test, the p-value will be the area to the left of the test statistic under the standard normal curve."
      ],
      "metadata": {
        "id": "nXk1xXYxPWl9"
      }
    },
    {
      "cell_type": "code",
      "source": [
        "# calculate the p-value using the cdf() function\n",
        "norm.cdf(Physics_Score)"
      ],
      "metadata": {
        "id": "uOURMOpLPPuL",
        "colab": {
          "base_uri": "https://localhost:8080/"
        },
        "outputId": "cdeec30c-4339-4642-99b6-7dfab00c5b8e"
      },
      "execution_count": null,
      "outputs": [
        {
          "output_type": "execute_result",
          "data": {
            "text/plain": [
              "0.9531530975653459"
            ]
          },
          "metadata": {},
          "execution_count": 45
        }
      ]
    },
    {
      "cell_type": "markdown",
      "source": [
        "**Observation**\n",
        "\n",
        "* As the p-value ~0.96 is greater than the level of significance (0.05), we fail to reject the null hypothesis\n",
        "* We do not have enough statistical evidence to say that the physics score of all aspirants who enroll in the institute's program is less than last year's cutoff of 82\n"
      ],
      "metadata": {
        "id": "8eNazaVWmTJh"
      }
    },
    {
      "cell_type": "markdown",
      "source": [
        "## **Validating the claim by investor using a hypothesis test**"
      ],
      "metadata": {
        "id": "_RWJmUSpjWYm"
      }
    },
    {
      "cell_type": "markdown",
      "source": [
        "To test the validity of the investor's belief that the mean score of the students from A2Z institute having subjects Computer Science and Chemistry is greater than or equal to the cutoff score of 85. we will perform a hypothesis test we will perform a hypothesis test  the level of significance 5%\n",
        "\n"
      ],
      "metadata": {
        "id": "PrjSgiE0jsPW"
      }
    },
    {
      "cell_type": "markdown",
      "source": [
        "**Null and alternative hypotheses**\n",
        "\n",
        "Let $\\mu$ be the mean final score of all aspirants who enroll in the institute's program with Computer Science and Chemistry.\n",
        "\n",
        "The null hypothesis can be written as\n",
        "\n",
        ">$H_0: \\mu <= 85$\n",
        "\n",
        "against the alternate hypothesis\n",
        "\n",
        ">$H_a: \\mu > 85$"
      ],
      "metadata": {
        "id": "BfJrVrJupSUV"
      }
    },
    {
      "cell_type": "markdown",
      "source": [
        "For comparing a sample mean $\\bar{x}$ with a hypothesized population mean $\\mu$ where the sample size is $n$ and the population standard deviation is known to be $\\sigma$, the one-sample z-test is used. The test statistic of the z-test is given as:\n",
        "\n",
        "$$z = \\frac{(\\bar{x} - \\mu)}{\\sigma/\\sqrt{n}}\\sim N(0,1)$$\n",
        "\n",
        "The test statistic follows a standard normal distribution."
      ],
      "metadata": {
        "id": "LKZoeHATp1Fk"
      }
    },
    {
      "cell_type": "markdown",
      "source": [
        "**Are the assumptions of Z-test satisfied?**"
      ],
      "metadata": {
        "id": "XkSRhB0Cp7NF"
      }
    },
    {
      "cell_type": "markdown",
      "source": [
        "*   Samples are drawn from a normal distribution - Since the sample size is 600(which is > 30), Central Limit Theorem states that the distribution of sample means will be approximately normal.  \n",
        "*   Observations are from a simple random sample - the institute collected a simple random sample\n",
        "*   Standard deviation is known - Yes\n",
        "\n",
        "\n",
        "Voila! We can use Z-test for this problem."
      ],
      "metadata": {
        "id": "03vnpvAkp_C8"
      }
    },
    {
      "cell_type": "markdown",
      "source": [
        "It is known that the standard deviation of the scores is 10."
      ],
      "metadata": {
        "id": "SHYjizd_nsZB"
      }
    },
    {
      "cell_type": "code",
      "source": [
        "# Given population standard deviation\n",
        "sigma = 10"
      ],
      "metadata": {
        "id": "PAih-BKnnsZQ"
      },
      "execution_count": null,
      "outputs": []
    },
    {
      "cell_type": "markdown",
      "source": [
        "###**Computer Science**"
      ],
      "metadata": {
        "id": "O7oO0ztWP-lq"
      }
    },
    {
      "cell_type": "markdown",
      "source": [
        "**Calculate the Z-statistic value**"
      ],
      "metadata": {
        "id": "-vEQiv_OqDT9"
      }
    },
    {
      "cell_type": "code",
      "source": [
        "# set the values of population mean and population standard deviation\n",
        "mu = 85\n",
        "\n",
        "# calculate the value of the sample mean from the data\n",
        "score_1 = df.Computer_Science.mean()\n",
        "\n",
        "# calculate the test statistic\n",
        "Computer_Science_Score = (score_1 - mu) / (sigma/np.sqrt(600))\n",
        "Computer_Science_Score"
      ],
      "metadata": {
        "colab": {
          "base_uri": "https://localhost:8080/"
        },
        "id": "up1SnSxcqLVE",
        "outputId": "7f09fe13-a614-483a-c3d9-0b2b13f7bead"
      },
      "execution_count": null,
      "outputs": [
        {
          "output_type": "execute_result",
          "data": {
            "text/plain": [
              "-0.19481608420934812"
            ]
          },
          "metadata": {},
          "execution_count": 47
        }
      ]
    },
    {
      "cell_type": "markdown",
      "source": [
        "**The Z-test statistic follows a standard normal distribution.**\n",
        "\n",
        "Let's plot the distribution of the Z-test statistic and see where the computed test statistic lies in the plot."
      ],
      "metadata": {
        "id": "SmQNA59uQMB-"
      }
    },
    {
      "cell_type": "code",
      "source": [
        "# Plotting the distribution of Z test statistic along with the computed test statistic\n",
        "x = np.linspace(-4, 4, 100)  # create an array of 100 numbers starting from -4 and ending at 4\n",
        "plt.plot(x, norm.pdf(x, 0, 1) )  # plot the pdf of the normal distribution\n",
        "plt.axvline(x=Computer_Science_Score, c='r')  # draw a vertical red dashed line at Mathematics\n",
        "plt.xlabel('Z Test Statistic - Computer Science')  # specify the x-axis label\n",
        "plt.ylabel('Probability Density Function (PDF)')  # specify the y-axis label\n",
        "plt.show()  # display the plot"
      ],
      "metadata": {
        "colab": {
          "base_uri": "https://localhost:8080/",
          "height": 449
        },
        "id": "ix5veqlvQO1d",
        "outputId": "574884fc-a888-47f5-8a25-870b94e3c933"
      },
      "execution_count": null,
      "outputs": [
        {
          "output_type": "display_data",
          "data": {
            "text/plain": [
              "<Figure size 640x480 with 1 Axes>"
            ],
            "image/png": "[encoded data removed]"
          },
          "metadata": {}
        }
      ]
    },
    {
      "cell_type": "markdown",
      "source": [
        "**P-Value**\n",
        "\n",
        "As this is a right-tailed test, the p-value will be the area to the right of the test statistic under the standard normal curve."
      ],
      "metadata": {
        "id": "Xpe8ATO4QT7G"
      }
    },
    {
      "cell_type": "code",
      "source": [
        "# calculate the p-value using the cdf() function\n",
        "1 - norm.cdf(Computer_Science_Score)"
      ],
      "metadata": {
        "colab": {
          "base_uri": "https://localhost:8080/"
        },
        "id": "Igy8_Mu7QhiK",
        "outputId": "9b5ccda4-3a74-4b5b-ef84-58400b6a6dca"
      },
      "execution_count": null,
      "outputs": [
        {
          "output_type": "execute_result",
          "data": {
            "text/plain": [
              "0.5772315349175678"
            ]
          },
          "metadata": {},
          "execution_count": 49
        }
      ]
    },
    {
      "cell_type": "markdown",
      "source": [
        "**Observation**\n",
        "\n",
        "* As the p-value ~0.58 is greater than the level of significance (0.05), we fail to reject the null hypothesis\n",
        "* We do not have enough statistical evidence to say that the computer science score of all aspirants who enroll in the institute's program is greater than last year's cutoff of 85\n"
      ],
      "metadata": {
        "id": "7USwIe5nmyIp"
      }
    },
    {
      "cell_type": "markdown",
      "source": [
        "###**Chemistry**"
      ],
      "metadata": {
        "id": "BFvKgjwSQHd_"
      }
    },
    {
      "cell_type": "markdown",
      "source": [
        "**Calculate the Z-statistic value**"
      ],
      "metadata": {
        "id": "pdqyqZPJTv5i"
      }
    },
    {
      "cell_type": "code",
      "source": [
        "# set the values of population mean and population standard deviation\n",
        "mu, sigma = 85, 10\n",
        "\n",
        "# calculate the value of the sample mean from the data\n",
        "score_2 = df.Chemistry.mean()\n",
        "\n",
        "# calculate the test statistic\n",
        "Chemistry_Score = (score_2 - mu) / (sigma/np.sqrt(600))\n",
        "Chemistry_Score"
      ],
      "metadata": {
        "colab": {
          "base_uri": "https://localhost:8080/"
        },
        "id": "iNcqx4_DqQet",
        "outputId": "4f68152d-91fa-4c29-bdbc-5f00c3b1125c"
      },
      "execution_count": null,
      "outputs": [
        {
          "output_type": "execute_result",
          "data": {
            "text/plain": [
              "1.7819629630457297"
            ]
          },
          "metadata": {},
          "execution_count": 50
        }
      ]
    },
    {
      "cell_type": "markdown",
      "source": [
        "**The Z-test statistic follows a standard normal distribution.**\n",
        "\n",
        "Let's plot the distribution of the Z-test statistic and see where the computed test statistic lies in the plot."
      ],
      "metadata": {
        "id": "PB1AUslMyQH2"
      }
    },
    {
      "cell_type": "code",
      "source": [
        "# plotting the distribution of Z test statistic along with the computed test statistic\n",
        "# We are plotting the distributions here to better visualize the calculations\n",
        "x = np.linspace(-4, 4, 100) # create an array of 100 numbers starting from -4 and ending at 4\n",
        "plt.plot(x, norm.pdf(x, 0, 1)) # plot the pdf of the normal distribution\n",
        "plt.axvline(x = Chemistry_Score, c = 'r') # draw a vertical red line through the mentioned point\n",
        "plt.xlabel('Z Test Statistic - Chemistry')  # specify the x-axis label\n",
        "plt.ylabel('Probability Density Function (PDF)')  # specify the y-axis label\n",
        "plt.show() # display the plot"
      ],
      "metadata": {
        "colab": {
          "base_uri": "https://localhost:8080/",
          "height": 449
        },
        "id": "gT3szlOPyUwe",
        "outputId": "1600ba9d-aa2b-46bf-8064-f1cc1fa3ec0f"
      },
      "execution_count": null,
      "outputs": [
        {
          "output_type": "display_data",
          "data": {
            "text/plain": [
              "<Figure size 640x480 with 1 Axes>"
            ],
            "image/png": "[encoded data removed]"
          },
          "metadata": {}
        }
      ]
    },
    {
      "cell_type": "markdown",
      "source": [
        "**P-Value**\n",
        "\n",
        "As this is a right-tailed test, the p-value will be the area to the right of the test statistic under the standard normal curve."
      ],
      "metadata": {
        "id": "muoGSdjtybpo"
      }
    },
    {
      "cell_type": "code",
      "source": [
        "# calculate the p-value using the cdf() function\n",
        "1 - norm.cdf(Chemistry_Score)"
      ],
      "metadata": {
        "colab": {
          "base_uri": "https://localhost:8080/"
        },
        "id": "j_rhlOtzyimG",
        "outputId": "56dfda65-6db6-421c-a3f2-975d8a08f85b"
      },
      "execution_count": null,
      "outputs": [
        {
          "output_type": "execute_result",
          "data": {
            "text/plain": [
              "0.037377635842128054"
            ]
          },
          "metadata": {},
          "execution_count": 52
        }
      ]
    },
    {
      "cell_type": "markdown",
      "source": [
        "**Observation**\n",
        "\n",
        "* As the p-value ~0.03 is less than the level of significance (0.05), we have to reject the null hypothesis\n",
        "* We have enough statistical evidence to say that the chemistry score of all aspirants who enroll in the institute's program is greater than last year's cutoff of 85\n"
      ],
      "metadata": {
        "id": "uRqH05_Qn3Qr"
      }
    },
    {
      "cell_type": "markdown",
      "source": [
        "## **Conclusions and Recommendations**"
      ],
      "metadata": {
        "id": "JzXvUoscoK3B"
      }
    },
    {
      "cell_type": "markdown",
      "source": [
        "\n",
        "*  The average scores in Computer Science, Chemistry, Mathematics, and Physics for students enrolled in A2Z institute's program are 84.92, 85.73, 81.73, and 82.68, respectively.\n",
        "\n",
        "\n",
        "*   For each subject, a 95% confidence interval was constructed to provide a range of average scores with a high level of confidence.\n",
        "    - Computer Science: [84.12, 85.72]\n",
        "    - Chemistry: [84.93, 86.53]\n",
        "    - Mathematics: [80.93, 82.53]\n",
        "    - Physics: [81.88, 83.48]\n",
        "\n",
        "* There wasn't enough statistical evidence to support the critic's claim that the score of mathematics and physics for all aspirants who enroll in the institute's program is less than last year's cut-off of 82.\n",
        "\n",
        "* There wasn't enough statistical evidence to support the investor's belief that the score of computer science for all aspirants who enroll in the institute's program is greater than last year's cutoff of 85.\n",
        "\n",
        "* For chemistry, enough statistcal evidence is present to support the investor's belief that the score of chemistry for all aspirants who enroll in the institute's program is greater than 85.\n",
        "\n",
        "* The institute can extend the time frame of the data (check 5-10 years of data) to get more reliable estimates of the effect of the institute's curriculum on the aspirants' performance\n",
        "\n",
        "* Overall the institute demonstrates strong performance in chemistry, physics, and mathematics, where enrolled students excel. However, there is a notable opportunity for improvement in the computer science program.\n",
        "\n",
        "    - To address this, it is recommended to implement targeted interventions and support measures to enhance the academic performance of students in the computer science program.\n",
        "\n",
        "\n",
        "\n",
        "\n"
      ],
      "metadata": {
        "id": "8tBOaLMqoN2K"
      }
    },
    {
      "cell_type": "markdown",
      "source": [
        "___"
      ],
      "metadata": {
        "id": "s4YWav0Ps6Kl"
      }
    }
  ]
}