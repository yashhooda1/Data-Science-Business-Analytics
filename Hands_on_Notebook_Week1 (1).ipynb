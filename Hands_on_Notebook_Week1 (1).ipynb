{
  "cells": [
    {
      "cell_type": "markdown",
      "metadata": {
        "id": "na3XXQqwxk4n"
      },
      "source": [
        "# **Concepts Covered:**\n",
        "\n",
        "- <a href = #link1>Binomial Distribution</a>\n",
        "- <a href = #>Uniform Distribution [*additional content*]</a>\n",
        "- <a href = #link3>Normal Distribution</a>\n",
        "\n",
        "\n",
        "\n"
      ]
    },
    {
      "cell_type": "markdown",
      "source": [
        "**Note** : The 'Uniform Distribution' section is available as additional content. Please refer the hands-on notebook in 'Week 1: Additional Learning Material'."
      ],
      "metadata": {
        "id": "kj1Kch63ESPv"
      }
    },
    {
      "cell_type": "markdown",
      "metadata": {
        "id": "Lc9FElXElv_G"
      },
      "source": [
        "# <a name='link1'>**Binomial Distribution**</a>"
      ]
    },
    {
      "cell_type": "markdown",
      "metadata": {
        "id": "akluEr_i2s6H"
      },
      "source": [
        "## Problem statement \n",
        "80% of all the visitors to Lavista Museum end up buying souvenirs from the souvenir shop at the Museum. On the coming Sunday, if a random sample of 10 visitors is picked:\n",
        "\n",
        " 1. Find the probability that every visitor will end up buying from the souvenir shop\n",
        " 2. Find the probability that a maximum of 7 visitors will buy souvenirs from the souvenir shop\n",
        "\n",
        "Let's check first whether we satisfy the assumptions of the binomial distribution.\n",
        "*  There are only two possible outcomes (success or failure) for each trial – A visitor will buy souvenirs from the souvenir shop or not (yes or no).\n",
        "* Number of trials (n) is fixed - There are 10 visitors in the sample.\n",
        "* Each trial is independent of the other trials - It is reasonable to assume that the buying activity of visitors is independent.\n",
        "* The probability of success (p) is the same for each trial - The probability of success for each visitor is 0.8."
      ]
    },
    {
      "cell_type": "markdown",
      "metadata": {
        "id": "ai6e1N6TF_CH"
      },
      "source": [
        "### Let's import the libraries "
      ]
    },
    {
      "cell_type": "code",
      "execution_count": 1,
      "metadata": {
        "id": "aYQeekfS3tc3"
      },
      "outputs": [],
      "source": [
        "# import the important packages\n",
        "import pandas as pd  # library used for data manipulation and analysis\n",
        "import numpy as np  # library used for working with arrays\n",
        "import matplotlib.pyplot as plt  # library for plots and visualizations\n",
        "import seaborn as sns  # library for visualizations\n",
        "\n",
        "#%matplotlib inline\n",
        "\n",
        "import scipy.stats as stats  # this library contains a large number of probability distributions as well as a growing library of statistical functions"
      ]
    },
    {
      "cell_type": "markdown",
      "metadata": {
        "id": "ShfWrUOZUST6"
      },
      "source": [
        "### Let's estimate the probability distribution of visitors"
      ]
    },
    {
      "cell_type": "code",
      "execution_count": 2,
      "metadata": {
        "id": "Hx9QgtUmCo6X"
      },
      "outputs": [],
      "source": [
        "# declare the sample size in variable n which represents the number of visitors selected randomly\n",
        "n = 10"
      ]
    },
    {
      "cell_type": "code",
      "execution_count": 3,
      "metadata": {
        "id": "KYXCeHT1DNzD"
      },
      "outputs": [],
      "source": [
        "# declare p which represents the probability of success, i.e., the probability that a visitor will end up buying a souvenir\n",
        "p = 0.80"
      ]
    },
    {
      "cell_type": "code",
      "execution_count": 4,
      "metadata": {
        "colab": {
          "base_uri": "https://localhost:8080/"
        },
        "id": "erPch6FYDT5D",
        "outputId": "a3e3a708-2d70-4bc7-9066-0d822378719a"
      },
      "outputs": [
        {
          "output_type": "execute_result",
          "data": {
            "text/plain": [
              "array([ 0,  1,  2,  3,  4,  5,  6,  7,  8,  9, 10])"
            ]
          },
          "metadata": {},
          "execution_count": 4
        }
      ],
      "source": [
        "# declare different possible number of visitors selected in a numpy array\n",
        "k = np.arange(0,11)\n",
        "k"
      ]
    },
    {
      "cell_type": "markdown",
      "metadata": {
        "id": "_SPeCd1AHEY9"
      },
      "source": [
        "The probability function of Binomial Distribution provides the probability for  x  number of successes from n trials where  p is the probability of success   \n",
        "\n",
        ">$P(X=x)= {n\\choose x}p^x(1-p)^{n-x}$\n",
        "\n",
        "\n",
        "Here, we know that:\n",
        "\n",
        "* n ( number of visitors selected randomly ) = 10\n",
        "* p ( probability of success i.e., the probability that a visitor will end up buying a souvenir) = 0.80\n",
        "* q ( probability of failure i.e., the probability that a visitor will not end up buying a souvenir) = 1 - 0.80 = 0.20\n",
        "* x ( number of successes ) = 10\n",
        "\n",
        "\n",
        "We will use binom.pmf() to calculate this probability function which provides the probability for the number of visitors (out of n=10) that will end up buying souvenirs from the souvenir shop."
      ]
    },
    {
      "cell_type": "code",
      "execution_count": 5,
      "metadata": {
        "id": "c9ROgUQTDetd"
      },
      "outputs": [],
      "source": [
        "# import the required function\n",
        "from scipy.stats import binom\n",
        "\n",
        "# use the binom.pmf() function to generate the probability distribution\n",
        "binomial = binom.pmf(k=k, n=n, p=p)"
      ]
    },
    {
      "cell_type": "markdown",
      "source": [
        "Here, [`binom.pmf(k,n,p)`](https://docs.scipy.org/doc/scipy/reference/generated/scipy.stats.binom.html) is used to calculate the probability $P(X=k)$   and generate the probability distribution.\n",
        "\n",
        "* `binom` stands for binomial discrete random variable\n",
        "* `pmf` stands for probability mass function\n",
        "\n",
        "The `binom.pmf()` function takes three parameters:\n",
        "\n",
        "* `k`: Scalar or array of different possible number of visitors\n",
        "* `n`: Sample size\n",
        "* `p`: Probability of success of an event\n",
        "\n",
        "\n",
        "\n"
      ],
      "metadata": {
        "id": "1JCTqShyuFsB"
      }
    },
    {
      "cell_type": "code",
      "execution_count": 6,
      "metadata": {
        "colab": {
          "base_uri": "https://localhost:8080/"
        },
        "id": "to7lvEKCD7Aj",
        "outputId": "94409c53-f265-4ac9-a955-ce5de59303e8"
      },
      "outputs": [
        {
          "output_type": "execute_result",
          "data": {
            "text/plain": [
              "array([1.02400000e-07, 4.09600000e-06, 7.37280000e-05, 7.86432000e-04,\n",
              "       5.50502400e-03, 2.64241152e-02, 8.80803840e-02, 2.01326592e-01,\n",
              "       3.01989888e-01, 2.68435456e-01, 1.07374182e-01])"
            ]
          },
          "metadata": {},
          "execution_count": 6
        }
      ],
      "source": [
        "binomial"
      ]
    },
    {
      "cell_type": "markdown",
      "metadata": {
        "id": "tGF_ynBaISnE"
      },
      "source": [
        "As you can see **binomial** is the array of probabilities for different number of successes. Let us visualize the same in the following plot."
      ]
    },
    {
      "cell_type": "code",
      "execution_count": 7,
      "metadata": {
        "colab": {
          "base_uri": "https://localhost:8080/",
          "height": 297
        },
        "id": "V1ogSei5D7Ik",
        "outputId": "3c494eea-ebc3-4f69-e31b-3c172466271a"
      },
      "outputs": [
        {
          "output_type": "display_data",
          "data": {
            "text/plain": [
              "<Figure size 432x288 with 1 Axes>"
            ],
            "image/png": "[encoded data removed]"
          },
          "metadata": {
            "needs_background": "light"
          }
        }
      ],
      "source": [
        "# plot the distribution\n",
        "plt.bar(k, binomial) # make a bar plot\n",
        "plt.title(\"Binomial: n=%i , p=%.2f\" % (n, p), fontsize=15) # set the title\n",
        "plt.xlabel(\"Number of Successes\") # set the x-axis label\n",
        "plt.ylabel(\"Probability of Successes\") # set the y-axis label\n",
        "plt.show() # display the plot"
      ]
    },
    {
      "cell_type": "markdown",
      "metadata": {
        "id": "_ueGwQYmIrL_"
      },
      "source": [
        "The last element of this **binomial** array represents the probability when the number of successes is 10 (which means that all 10 visitors (out of 10 selected randomly) will buy souvenirs from the souvenir shop)"
      ]
    },
    {
      "cell_type": "code",
      "execution_count": 8,
      "metadata": {
        "colab": {
          "base_uri": "https://localhost:8080/"
        },
        "id": "lvhb5VYoEiDO",
        "outputId": "6db1b520-750a-4db3-fd4a-441d997a1fc1"
      },
      "outputs": [
        {
          "output_type": "execute_result",
          "data": {
            "text/plain": [
              "0.10737418240000006"
            ]
          },
          "metadata": {},
          "execution_count": 8
        }
      ],
      "source": [
        "binomial[10]"
      ]
    },
    {
      "cell_type": "markdown",
      "metadata": {
        "id": "WmjpVsHNIY8L"
      },
      "source": [
        "The above probability shows that the probability of exactly 10 successes is  ~ 0.11.\n",
        "\n",
        "Now, we are interested in knowing the probability of at most 7 successes which means what is the probability that out of 10 randomly selected visitors, a maximum of 7 visitors will buy souvenirs from the souvenir shop.\n",
        "\n",
        "Here, we need to calculate the probability for P(X<=7). CDF is used to calculate the cumulative probability.\n",
        "\n",
        "\n",
        "\n",
        "**CDF:** of a Random variable (X) is the probability that X  will take the value less than or equal to x. It can be represented mathematically as below.\n",
        "\n",
        ">$F_X(x) = P(X\\leq x)$\n",
        "\n",
        "In our case, Random Variable (X) is the number of visitors who will buy souvenirs from the souvenir shop.\n",
        "\n",
        "$P(X\\leq 7)$\n"
      ]
    },
    {
      "cell_type": "code",
      "execution_count": 9,
      "metadata": {
        "colab": {
          "base_uri": "https://localhost:8080/",
          "height": 297
        },
        "id": "5KCXHQNUghBI",
        "outputId": "2f6cff38-b6cf-49c3-a22d-cb9a8d08139c"
      },
      "outputs": [
        {
          "output_type": "display_data",
          "data": {
            "text/plain": [
              "<Figure size 432x288 with 1 Axes>"
            ],
            "image/png": "[encoded data removed]"
          },
          "metadata": {
            "needs_background": "light"
          }
        }
      ],
      "source": [
        "# plot the probability distribution\n",
        "# We are plotting the distributions here to better visualize the calculations.\n",
        "# Of course you do not 'need' to create the following visualization to answer the question above.\n",
        "# You can directly use the cdf function for probability calculations.\n",
        "barl = plt.bar(k, binomial) # make a bar plot\n",
        "plt.title(\"Binomial: n=%i , p=%.2f\" % (n, p), fontsize=15) # set the title\n",
        "plt.xlabel(\"Number of Successes\") # set the x-axis label\n",
        "plt.ylabel(\"Probability of Successes\") # set the y-axis label\n",
        "for i in range(0, 8):\n",
        "    barl[i].set_color(\"r\") # color the bars in red where number of successes is less than 8\n",
        "plt.show() # display the plot"
      ]
    },
    {
      "cell_type": "markdown",
      "metadata": {
        "id": "zmYRVcQsgo7e"
      },
      "source": [
        "In the above graph, the **red** region represents P(X<=7).\n",
        "Let's calculate the probability that out of 10 randomly selected visitors, a maximum of 7 will buy souvenirs from the souvenir shop. We will use binom.cdf() for this."
      ]
    },
    {
      "cell_type": "code",
      "execution_count": 10,
      "metadata": {
        "colab": {
          "base_uri": "https://localhost:8080/"
        },
        "id": "ijlJm_BGJec0",
        "outputId": "10cf4d94-dc46-446f-811f-4d07577729c5"
      },
      "outputs": [
        {
          "output_type": "execute_result",
          "data": {
            "text/plain": [
              "0.32220047359999987"
            ]
          },
          "metadata": {},
          "execution_count": 10
        }
      ],
      "source": [
        "# calculate cdf\n",
        "binom.cdf(k=7, n=n, p=p)"
      ]
    },
    {
      "cell_type": "markdown",
      "source": [
        "Here, [`binom.cdf(k,n,p)`](https://docs.scipy.org/doc/scipy/reference/generated/scipy.stats.binom.html) function is used to calculate the cumulative probability $P(X<=k)$\n",
        "\n",
        "The `binom.cdf()` function also takes three parameters like `binom.pmf()`\n",
        "\n",
        "\n",
        "*   `k` : Scalar or array of different possible number of visitors\n",
        "*   `n` : Sample size\n",
        "*   `p` : Probability of success of an event"
      ],
      "metadata": {
        "id": "DE_iduRe1Wjh"
      }
    },
    {
      "cell_type": "markdown",
      "metadata": {
        "id": "0UlaBxDXEioT"
      },
      "source": [
        "### Conclusion: \n",
        "\n",
        "There is a 10.74% chance that every visitor will end up buying souvenirs from the souvenir shop.\n",
        "\n",
        "There is a 32.22% chance that a maximum of 7 visitors out of 10 will buy souvenirs from the souvenir shop."
      ]
    },
    {
      "cell_type": "markdown",
      "metadata": {
        "id": "3yuNgVeW2tbn"
      },
      "source": [
        "Let's try to change the probability of success (probability that each visitor will buy souvenirs from the souvenir shop) to different values like 60%,70%,90%,95% and visualize how the shape of the distribution changes."
      ]
    },
    {
      "cell_type": "code",
      "execution_count": 11,
      "metadata": {
        "colab": {
          "base_uri": "https://localhost:8080/",
          "height": 297
        },
        "id": "m83o5m7Tleke",
        "outputId": "eade8e01-7378-4453-d0ce-b537df484a28"
      },
      "outputs": [
        {
          "output_type": "display_data",
          "data": {
            "text/plain": [
              "<Figure size 1080x288 with 3 Axes>"
            ],
            "image/png": "[encoded data removed]"
          },
          "metadata": {
            "needs_background": "light"
          }
        }
      ],
      "source": [
        "plt.figure(figsize=(15, 4))\n",
        "\n",
        "plt.subplot(131)\n",
        "binomial_70 = binom.pmf(k, n, p=0.7) # generate the probability distribution\n",
        "\n",
        "# plot the distribution of the same\n",
        "plt.bar(k, binomial_70) # plot the bar plot\n",
        "plt.title(\"p=%.2f\" % (0.7), fontsize=15) # set the plot title\n",
        "plt.xlabel(\"Number of Successes\") # set the x-axis label\n",
        "plt.ylabel(\"Probability of Successes\") # set the y-axis label\n",
        "\n",
        "plt.subplot(132) # add an axes to the current figure\n",
        "binomial_80 = binom.pmf(k, n, p=0.8) # generate the probability distribution\n",
        "\n",
        "# plot the distribution of the same\n",
        "plt.bar(k, binomial_80) \n",
        "plt.title(\"p=%.2f\" % (0.8), fontsize=15)\n",
        "plt.xlabel(\"Number of Successes\")\n",
        "plt.ylabel(\"Probability of Successes\")\n",
        "\n",
        "plt.subplot(133)\n",
        "binomial_90 = binom.pmf(k, n, p=0.9)\n",
        "\n",
        "# plot the distribution of the same\n",
        "plt.bar(k, binomial_90)\n",
        "plt.title(\"p=%.2f\" % (0.9), fontsize=15)\n",
        "plt.xlabel(\"Number of Successes\")\n",
        "plt.ylabel(\"Probability of Successes\")\n",
        "\n",
        "plt.tight_layout(w_pad=5)"
      ]
    },
    {
      "cell_type": "markdown",
      "metadata": {
        "id": "-eqlw5Nspaij"
      },
      "source": [
        "### Conclusion:\n",
        "\n",
        "It is clear from the above plot that the shape of the distribution changes as the value of p (probability of success) changes."
      ]
    },
    {
      "cell_type": "markdown",
      "metadata": {
        "id": "QUnO4uNt6YLO"
      },
      "source": [
        "# <a name='link3'>**Normal Distribution**</a>"
      ]
    },
    {
      "cell_type": "markdown",
      "metadata": {
        "id": "0R8rRXiHOdAm"
      },
      "source": [
        "## Problem statement\n",
        "\n",
        "A testing agency wants to analyze the complexity of SAT Exam 2020. They have collected the SAT scores of 1000 students in \"sat_score.csv\". Let's answer some of the questions that will help to decide the complexity of SAT exam 2020.\n",
        "\n",
        "\n",
        " \n",
        "1. Calculate the probability that a student will score less than 800 in SAT exam\n",
        "2. Calculate the probability that a student will score more than 1300 in SAT exam\n",
        "3. Calculate the minimum marks a student must score in order to secure 90th percentile\n",
        "4. Calculate the minimum marks a student must score in order to be in the top 5%\n",
        "\n"
      ]
    },
    {
      "cell_type": "markdown",
      "metadata": {
        "id": "-4qW1rxRREvT"
      },
      "source": [
        "### Reading the Data into the Dataframe"
      ]
    },
    {
      "cell_type": "code",
      "execution_count": 12,
      "metadata": {
        "colab": {
          "base_uri": "https://localhost:8080/",
          "height": 206
        },
        "id": "v9AABdoqSiP7",
        "outputId": "e1078679-a10e-49d4-c235-12333a9e61ea"
      },
      "outputs": [
        {
          "output_type": "execute_result",
          "data": {
            "text/plain": [
              "   student_id  score\n",
              "0           1   1018\n",
              "1           2   1218\n",
              "2           3    611\n",
              "3           4    723\n",
              "4           5    541"
            ],
            "text/html": [
              "\n",
              "  <div id=\"df-51fad256-b227-4597-8528-00d60a486a70\">\n",
              "    <div class=\"colab-df-container\">\n",
              "      <div>\n",
              "<style scoped>\n",
              "    .dataframe tbody tr th:only-of-type {\n",
              "        vertical-align: middle;\n",
              "    }\n",
              "\n",
              "    .dataframe tbody tr th {\n",
              "        vertical-align: top;\n",
              "    }\n",
              "\n",
              "    .dataframe thead th {\n",
              "        text-align: right;\n",
              "    }\n",
              "</style>\n",
              "<table border=\"1\" class=\"dataframe\">\n",
              "  <thead>\n",
              "    <tr style=\"text-align: right;\">\n",
              "      <th></th>\n",
              "      <th>student_id</th>\n",
              "      <th>score</th>\n",
              "    </tr>\n",
              "  </thead>\n",
              "  <tbody>\n",
              "    <tr>\n",
              "      <th>0</th>\n",
              "      <td>1</td>\n",
              "      <td>1018</td>\n",
              "    </tr>\n",
              "    <tr>\n",
              "      <th>1</th>\n",
              "      <td>2</td>\n",
              "      <td>1218</td>\n",
              "    </tr>\n",
              "    <tr>\n",
              "      <th>2</th>\n",
              "      <td>3</td>\n",
              "      <td>611</td>\n",
              "    </tr>\n",
              "    <tr>\n",
              "      <th>3</th>\n",
              "      <td>4</td>\n",
              "      <td>723</td>\n",
              "    </tr>\n",
              "    <tr>\n",
              "      <th>4</th>\n",
              "      <td>5</td>\n",
              "      <td>541</td>\n",
              "    </tr>\n",
              "  </tbody>\n",
              "</table>\n",
              "</div>\n",
              "      <button class=\"colab-df-convert\" onclick=\"convertToInteractive('df-51fad256-b227-4597-8528-00d60a486a70')\"\n",
              "              title=\"Convert this dataframe to an interactive table.\"\n",
              "              style=\"display:none;\">\n",
              "        \n",
              "  <svg xmlns=\"http://www.w3.org/2000/svg\" height=\"24px\"viewBox=\"0 0 24 24\"\n",
              "       width=\"24px\">\n",
              "    <path d=\"M0 0h24v24H0V0z\" fill=\"none\"/>\n",
              "    <path d=\"M18.56 5.44l.94 2.06.94-2.06 2.06-.94-2.06-.94-.94-2.06-.94 2.06-2.06.94zm-11 1L8.5 8.5l.94-2.06 2.06-.94-2.06-.94L8.5 2.5l-.94 2.06-2.06.94zm10 10l.94 2.06.94-2.06 2.06-.94-2.06-.94-.94-2.06-.94 2.06-2.06.94z\"/><path d=\"M17.41 7.96l-1.37-1.37c-.4-.4-.92-.59-1.43-.59-.52 0-1.04.2-1.43.59L10.3 9.45l-7.72 7.72c-.78.78-.78 2.05 0 2.83L4 21.41c.39.39.9.59 1.41.59.51 0 1.02-.2 1.41-.59l7.78-7.78 2.81-2.81c.8-.78.8-2.07 0-2.86zM5.41 20L4 18.59l7.72-7.72 1.47 1.35L5.41 20z\"/>\n",
              "  </svg>\n",
              "      </button>\n",
              "      \n",
              "  <style>\n",
              "    .colab-df-container {\n",
              "      display:flex;\n",
              "      flex-wrap:wrap;\n",
              "      gap: 12px;\n",
              "    }\n",
              "\n",
              "    .colab-df-convert {\n",
              "      background-color: #E8F0FE;\n",
              "      border: none;\n",
              "      border-radius: 50%;\n",
              "      cursor: pointer;\n",
              "      display: none;\n",
              "      fill: #1967D2;\n",
              "      height: 32px;\n",
              "      padding: 0 0 0 0;\n",
              "      width: 32px;\n",
              "    }\n",
              "\n",
              "    .colab-df-convert:hover {\n",
              "      background-color: #E2EBFA;\n",
              "      box-shadow: 0px 1px 2px rgba(60, 64, 67, 0.3), 0px 1px 3px 1px rgba(60, 64, 67, 0.15);\n",
              "      fill: #174EA6;\n",
              "    }\n",
              "\n",
              "    [theme=dark] .colab-df-convert {\n",
              "      background-color: #3B4455;\n",
              "      fill: #D2E3FC;\n",
              "    }\n",
              "\n",
              "    [theme=dark] .colab-df-convert:hover {\n",
              "      background-color: #434B5C;\n",
              "      box-shadow: 0px 1px 3px 1px rgba(0, 0, 0, 0.15);\n",
              "      filter: drop-shadow(0px 1px 2px rgba(0, 0, 0, 0.3));\n",
              "      fill: #FFFFFF;\n",
              "    }\n",
              "  </style>\n",
              "\n",
              "      <script>\n",
              "        const buttonEl =\n",
              "          document.querySelector('#df-51fad256-b227-4597-8528-00d60a486a70 button.colab-df-convert');\n",
              "        buttonEl.style.display =\n",
              "          google.colab.kernel.accessAllowed ? 'block' : 'none';\n",
              "\n",
              "        async function convertToInteractive(key) {\n",
              "          const element = document.querySelector('#df-51fad256-b227-4597-8528-00d60a486a70');\n",
              "          const dataTable =\n",
              "            await google.colab.kernel.invokeFunction('convertToInteractive',\n",
              "                                                     [key], {});\n",
              "          if (!dataTable) return;\n",
              "\n",
              "          const docLinkHtml = 'Like what you see? Visit the ' +\n",
              "            '<a target=\"_blank\" href=https://colab.research.google.com/notebooks/data_table.ipynb>data table notebook</a>'\n",
              "            + ' to learn more about interactive tables.';\n",
              "          element.innerHTML = '';\n",
              "          dataTable['output_type'] = 'display_data';\n",
              "          await google.colab.output.renderOutput(dataTable, element);\n",
              "          const docLink = document.createElement('div');\n",
              "          docLink.innerHTML = docLinkHtml;\n",
              "          element.appendChild(docLink);\n",
              "        }\n",
              "      </script>\n",
              "    </div>\n",
              "  </div>\n",
              "  "
            ]
          },
          "metadata": {},
          "execution_count": 12
        }
      ],
      "source": [
        "sat_score = pd.read_csv(\"sat_score.csv\") # read the dataset\n",
        "sat_score.head() # see first 5 rows of the dataset"
      ]
    },
    {
      "cell_type": "markdown",
      "metadata": {
        "id": "dQi7JSQgSRAH"
      },
      "source": [
        "### Calculating the mean and standard deviation (parameters) of the SAT score \n",
        "\n"
      ]
    },
    {
      "cell_type": "code",
      "execution_count": 13,
      "metadata": {
        "colab": {
          "base_uri": "https://localhost:8080/"
        },
        "id": "9-SdkGCiSuug",
        "outputId": "b785d7e3-62ea-427f-c4db-8541f85fbbde"
      },
      "outputs": [
        {
          "output_type": "stream",
          "name": "stdout",
          "text": [
            "The estimated mean is 1007.46\n",
            "The estimated standard deviation is 204.43\n"
          ]
        }
      ],
      "source": [
        "# import the required function\n",
        "from scipy.stats import norm\n",
        "\n",
        "# estimate the mean and standard deviation of the SAT scores data\n",
        "mu = sat_score[\"score\"].mean() \n",
        "sigma = sat_score[\"score\"].std()\n",
        "print(\"The estimated mean is\", round(mu, 2))\n",
        "print(\"The estimated standard deviation is\", round(sigma, 2))"
      ]
    },
    {
      "cell_type": "markdown",
      "metadata": {
        "id": "-LfgewK8S_eW"
      },
      "source": [
        "### Plotting the Distribution \n",
        "\n",
        "It  will help us analyze the shape of the data and visualize the PDF of normal distribution using the parameters (mean (mu) and Standard deviation (sigma)) from the data."
      ]
    },
    {
      "cell_type": "markdown",
      "source": [
        "The [`norm.pdf(x, loc, scale)`](https://docs.scipy.org/doc/scipy/reference/generated/scipy.stats.norm.html) function will be used to calculate the probability density.\n",
        "\n",
        "The `norm.pdf()` function takes three parameters\n",
        "\n",
        "*   `x` : Scalar or Array of numbers\n",
        "*   `loc` : Sample mean\n",
        "*   `scale` : standard deviation\n"
      ],
      "metadata": {
        "id": "uFMwiIw8ut2a"
      }
    },
    {
      "cell_type": "code",
      "execution_count": 14,
      "metadata": {
        "colab": {
          "base_uri": "https://localhost:8080/",
          "height": 295
        },
        "id": "vOHuwBtCTF84",
        "outputId": "22fe1725-a0b3-4f13-f7b0-fba1b18c9484"
      },
      "outputs": [
        {
          "output_type": "display_data",
          "data": {
            "text/plain": [
              "<Figure size 432x288 with 1 Axes>"
            ],
            "image/png": "[encoded data removed]"
          },
          "metadata": {
            "needs_background": "light"
          }
        }
      ],
      "source": [
        "# calculate the pdf of SAT scores using norm.pdf()\n",
        "density = pd.DataFrame() # create an empty DataFrame\n",
        "density[\"x\"] = np.linspace(\n",
        "    sat_score[\"score\"].min(), sat_score[\"score\"].max(), 100\n",
        ") # create an array of 100 numbers in between the min and max score range and store it in the first column of the empty DataFrame\n",
        "density[\"pdf\"] = norm.pdf(density[\"x\"], mu, sigma) # calculate the pdf() of the created numbers and store it in another column named 'pdf'\n",
        "\n",
        "fig, ax = plt.subplots() # create the subplot\n",
        "sns.histplot(sat_score[\"score\"], ax=ax, kde=True, stat=\"density\") # plot the distribution of data using histogram\n",
        "ax.plot(density[\"x\"], density[\"pdf\"], color=\"red\") # plot the pdf of the normal distribution\n",
        "plt.title(\"Normal Distribution\") # set the title\n",
        "plt.show() # display the plot"
      ]
    },
    {
      "cell_type": "markdown",
      "metadata": {
        "id": "TaxsnyemW_XO"
      },
      "source": [
        "**Insight:**  As you can see in the above plot, there are two curves red and blue. Blue curve represents the shape of data distribution and the red curve represents the PDF (Probability density function). This data is approximately normal. Thus, we can assume this data distribution to be normal and perform our calculations based on the normality assumption.\n",
        "\n",
        ">$X \\sim N(\\mu, \\sigma^2)$"
      ]
    },
    {
      "cell_type": "markdown",
      "metadata": {
        "id": "QwAnza_V2_zd"
      },
      "source": [
        "**Calculate the probability that a student will score less than 800 in SAT exam.**"
      ]
    },
    {
      "cell_type": "code",
      "execution_count": 15,
      "metadata": {
        "colab": {
          "base_uri": "https://localhost:8080/"
        },
        "id": "q8tpyDpA3ECE",
        "outputId": "d17ef0c1-187b-4714-94cd-91abfdcfe124"
      },
      "outputs": [
        {
          "output_type": "stream",
          "name": "stdout",
          "text": [
            "The probability that a student will score less than 800 is 0.1551\n"
          ]
        }
      ],
      "source": [
        "# find the cumulative probability\n",
        "# norm.cdf() calculates the cumulative probability\n",
        "prob_less_than_800 = norm.cdf(800, mu, sigma)\n",
        "print(\n",
        "    \"The probability that a student will score less than 800 is\",\n",
        "    round(prob_less_than_800, 4),\n",
        ")"
      ]
    },
    {
      "cell_type": "code",
      "execution_count": 16,
      "metadata": {
        "colab": {
          "base_uri": "https://localhost:8080/",
          "height": 295
        },
        "id": "jfCFhTswmyGQ",
        "outputId": "23cee1f0-fe4a-4dea-9b15-a69bdee290ac"
      },
      "outputs": [
        {
          "output_type": "display_data",
          "data": {
            "text/plain": [
              "<Figure size 432x288 with 1 Axes>"
            ],
            "image/png": "[encoded data removed]"
          },
          "metadata": {
            "needs_background": "light"
          }
        }
      ],
      "source": [
        "# plot the probability distribution\n",
        "# We are plotting the distributions here to better visualize the calculations.\n",
        "# Of course you do not 'need' to create the following visualization to answer the question above.\n",
        "# You can directly use the cdf function for probability calculations.\n",
        "plt.plot(density[\"x\"], density[\"pdf\"]) # plot the pdf of the normal distribution\n",
        "plt.axvline(x=800, c=\"r\") # draw a red vertical line at x = 800\n",
        "x1 = np.linspace(density[\"x\"].min(), 800, 50) # create an array of 50 numbers between min SAT score and 800\n",
        "plt.fill_between(x1, norm.pdf(x1, mu, sigma), color=\"r\") # fill the specified region with red color\n",
        "plt.xlabel(\"Score\") # set the x-axis label\n",
        "plt.ylabel(\"Probability\") # set the y-axis label\n",
        "plt.title(\"Normal Distribution\") # set the title\n",
        "plt.show() # display the plot"
      ]
    },
    {
      "cell_type": "markdown",
      "metadata": {
        "id": "6ex638Ds2ZB7"
      },
      "source": [
        "**Calculate the probability that a student will score more than 1300 in SAT exam.**"
      ]
    },
    {
      "cell_type": "code",
      "execution_count": 17,
      "metadata": {
        "colab": {
          "base_uri": "https://localhost:8080/"
        },
        "id": "XKNmeEcitQ5I",
        "outputId": "de70fb85-c56d-46d0-f318-c21ec03f5288"
      },
      "outputs": [
        {
          "output_type": "stream",
          "name": "stdout",
          "text": [
            "The probability that a student will score more than 1300 is 0.0762\n"
          ]
        }
      ],
      "source": [
        "# find the cumulative probability and subtract it from 1 to calculate the probability that a student will score more than 1300\n",
        "prob_greater_than_1300 = 1 - norm.cdf(1300, mu, sigma)\n",
        "print(\n",
        "    \"The probability that a student will score more than 1300 is\",\n",
        "    round(prob_greater_than_1300, 4),\n",
        ")"
      ]
    },
    {
      "cell_type": "markdown",
      "source": [
        "Here, [norm.cdf(x, loc, scale))](https://docs.scipy.org/doc/scipy/reference/generated/scipy.stats.norm.html) function is used to calculate the probability density.\n",
        "\n",
        "The `norm.cdf()` function takes three parameters\n",
        "\n",
        "*   `x` : Scalar or Array of numbers\n",
        "*   `loc` : Sample mean\n",
        "*   `scale` : standard deviation"
      ],
      "metadata": {
        "id": "vHrUZVi9wfjV"
      }
    },
    {
      "cell_type": "code",
      "execution_count": 18,
      "metadata": {
        "colab": {
          "base_uri": "https://localhost:8080/",
          "height": 295
        },
        "id": "OgzxNF6JoUJT",
        "outputId": "2c282215-527d-4f3e-fffd-d0a6608980c9"
      },
      "outputs": [
        {
          "output_type": "display_data",
          "data": {
            "text/plain": [
              "<Figure size 432x288 with 1 Axes>"
            ],
            "image/png": "[encoded data removed]"
          },
          "metadata": {
            "needs_background": "light"
          }
        }
      ],
      "source": [
        "# plot the probability distribution\n",
        "# We are plotting the distributions here to better visualize the calculations.\n",
        "# Of course you do not 'need' to create the following visualization to answer the question above.\n",
        "# You can directly use the cdf function for probability calculations.\n",
        "plt.plot(density[\"x\"], density[\"pdf\"])\n",
        "plt.axvline(x=1300, c=\"r\")\n",
        "x1 = np.linspace(1300, density[\"x\"].max(), 50)\n",
        "plt.fill_between(x1, norm.pdf(x1, mu, sigma), color=\"r\")\n",
        "plt.xlabel(\"Score\")\n",
        "plt.ylabel(\"Probability\")\n",
        "plt.title(\"Normal Distribution\")\n",
        "plt.show()"
      ]
    },
    {
      "cell_type": "markdown",
      "metadata": {
        "id": "CYSTnLmh3e7G"
      },
      "source": [
        "**Calculate the minimum marks a student must score in order to be in the 90th percentile**"
      ]
    },
    {
      "cell_type": "code",
      "execution_count": 19,
      "metadata": {
        "colab": {
          "base_uri": "https://localhost:8080/"
        },
        "id": "1HfqiMVm3sv7",
        "outputId": "0202e3a8-300c-492e-f3ae-e98763365233"
      },
      "outputs": [
        {
          "output_type": "stream",
          "name": "stdout",
          "text": [
            "The 90th percentile score should be 1269\n"
          ]
        }
      ],
      "source": [
        "# calculate the 90th percentile score using ppf() function\n",
        "# norm.ppf() calculates the percentile point\n",
        "score_90th_percentile = norm.ppf(0.90, mu, sigma)\n",
        "print(\"The 90th percentile score should be\", round(score_90th_percentile))"
      ]
    },
    {
      "cell_type": "code",
      "execution_count": 20,
      "metadata": {
        "colab": {
          "base_uri": "https://localhost:8080/",
          "height": 295
        },
        "id": "R_hYER8mpU6S",
        "outputId": "0076f27e-cf05-4888-a71f-51f125cc29d4"
      },
      "outputs": [
        {
          "output_type": "display_data",
          "data": {
            "text/plain": [
              "<Figure size 432x288 with 1 Axes>"
            ],
            "image/png": "[encoded data removed]"
          },
          "metadata": {
            "needs_background": "light"
          }
        }
      ],
      "source": [
        "# plot the probability distribution\n",
        "# We are plotting the distributions here to better visualize the calculations.\n",
        "# Of course you do not 'need' to create the following visualization to answer the question above.\n",
        "# You can directly use the cdf function for probability calculations.\n",
        "plt.plot(density[\"x\"], density[\"pdf\"])\n",
        "plt.axvline(x=score_90th_percentile, c=\"r\")\n",
        "plt.xlabel(\"Score\")\n",
        "plt.ylabel(\"Probability\")\n",
        "plt.title(\"Normal Distribution\")\n",
        "plt.show()"
      ]
    },
    {
      "cell_type": "markdown",
      "metadata": {
        "id": "3_FzvdEO4yau"
      },
      "source": [
        "**Calculate the minimum marks a student must score in order to be in the top 5%**"
      ]
    },
    {
      "cell_type": "code",
      "execution_count": 21,
      "metadata": {
        "colab": {
          "base_uri": "https://localhost:8080/"
        },
        "id": "19O2QuIR4vIC",
        "outputId": "7016afd7-f2f6-4188-f75b-0f356fdc6db9"
      },
      "outputs": [
        {
          "output_type": "stream",
          "name": "stdout",
          "text": [
            "The minimum score to be in top 5% should be 1344\n"
          ]
        }
      ],
      "source": [
        "# calculate the 95th percentile score using ppf() function\n",
        "score_top_five_percent = norm.ppf(0.95, mu, sigma)\n",
        "print(\"The minimum score to be in top 5% should be\", round(score_top_five_percent))"
      ]
    },
    {
      "cell_type": "code",
      "execution_count": 22,
      "metadata": {
        "colab": {
          "base_uri": "https://localhost:8080/",
          "height": 295
        },
        "id": "BWMz44btpquA",
        "outputId": "f5905754-9db2-42f0-e9ca-49c9cc553e0f"
      },
      "outputs": [
        {
          "output_type": "display_data",
          "data": {
            "text/plain": [
              "<Figure size 432x288 with 1 Axes>"
            ],
            "image/png": "[encoded data removed]"
          },
          "metadata": {
            "needs_background": "light"
          }
        }
      ],
      "source": [
        "# plot the probability distribution\n",
        "# We are plotting the distributions here to better visualize the calculations.\n",
        "# Of course you do not 'need' to create the following visualization to answer the question above.\n",
        "# You can directly use the cdf function for probability calculations.\n",
        "plt.plot(density[\"x\"], density[\"pdf\"])\n",
        "plt.axvline(x=score_top_five_percent, c=\"r\")\n",
        "plt.xlabel(\"Score\")\n",
        "plt.ylabel(\"Probability\")\n",
        "plt.title(\"Normal Distribution\")\n",
        "plt.show()"
      ]
    },
    {
      "cell_type": "markdown",
      "metadata": {
        "id": "W91dM6Gwsbzk"
      },
      "source": [
        "**Conclusion:** \n",
        "\n",
        "1) Only 15.51% of students will score below 800 and 7.62% of students will score above 1300. It shows that the 2020 SAT exam's complexity is moderate. \n",
        "\n",
        "2) Students should score at least 1269 to secure the 90th percentile.\n",
        "\n",
        "3) Students should score at least 1344 to be in the top 5%."
      ]
    },
    {
      "cell_type": "markdown",
      "metadata": {
        "id": "KVD4CbVSn1Nh"
      },
      "source": [
        "### Standardization of Normal Variables\n",
        "\n",
        "Suppose we know that the SAT scores are normally distributed with mean 1000 and standard deviation 200 and ACT scores are normally distributed with mean 20 and standard deviation 5. \n",
        "\n",
        "A college provides admission only on the basis of SAT and ACT scores. The college admin decides to give the top performer fellowship to the student who has performed the best among all applicants. The highest score received from applicants who appeared for SAT is 1350 and the highest score received from applicants who appeared for ACT is 30. \n",
        "\n",
        "Help the college to choose the best candidate for the fellowship!"
      ]
    },
    {
      "cell_type": "code",
      "execution_count": 23,
      "metadata": {
        "id": "kdwtNzhXn1Nh",
        "outputId": "1f3802d2-0a72-46bb-e3f1-a7d1fe45a8af",
        "colab": {
          "base_uri": "https://localhost:8080/",
          "height": 295
        }
      },
      "outputs": [
        {
          "output_type": "display_data",
          "data": {
            "text/plain": [
              "<Figure size 864x288 with 2 Axes>"
            ],
            "image/png": "[encoded data removed]"
          },
          "metadata": {
            "needs_background": "light"
          }
        }
      ],
      "source": [
        "# plot the two distribution for SAT and ACT scores\n",
        "from scipy.stats import norm\n",
        "fig, (ax1, ax2) = plt.subplots(1,2, figsize = (12,4)) # set the axes of various plots to draw multiple plots in the same figure\n",
        "\n",
        "# we will first create the distribution plot for SAT scores\n",
        "x = np.linspace(400, 1600, 1000)\n",
        "'''\n",
        "Here, we are creating an array of numbers spaced evenly within the interval specified.\n",
        "As the mean is 1000 and standard deviation (std) 200, the array of numbers\n",
        "are evenly spaced between 400 and 1600 (mean - 3*std and mean + 3*std).\n",
        "This array will be used as the x-axis of the plot.\n",
        "'''\n",
        "ax1.plot(x, norm.pdf(x, loc = 1000, scale = 200), color = 'b')\n",
        "'''\n",
        "plot the probability density function\n",
        "loc keyword specifies the mean\n",
        "scale keyword specifies the standard deviation\n",
        "'''\n",
        "ax1.set_title('Normal Distribution of SAT scores') # set the title of the plot\n",
        "ax1.set_xlabel('SAT scores') # set the label for x-axis\n",
        "ax1.set_ylabel('Probability') # set the label for y-axis\n",
        "ax1.axvline(1350, ymax = 0.23, linestyle = '--', color = 'green') # add a vertical line having green color across the axes to mark the point 1350\n",
        "\n",
        "# we will now create a similar plot as above for the ACT scores\n",
        "x1 = np.linspace(1, 36, 100)\n",
        "ax2.plot(x1, norm.pdf(x1, loc = 20, scale = 5), color = 'r')\n",
        "ax2.set_title('Normal Distribution of ACT scores')\n",
        "ax2.set_xlabel('ACT scores')\n",
        "ax2.set_ylabel('Probability')\n",
        "ax2.axvline(30, ymax = 0.18, linestyle = '--', color = 'green')\n",
        "plt.show()"
      ]
    },
    {
      "cell_type": "markdown",
      "metadata": {
        "id": "dxFZDPU3n1Nh"
      },
      "source": [
        "In the above plot, the blue curve represents the distribution of SAT scores and the red curve represents the distribution of ACT scores. The highest scores of the applicants in SAT and ACT exams are dotted with green lines in the respective distributions. However, it is difficult for us to compare the raw highest scores in the above plot. Thus, we need to standardize the two scores and compare their Z-scores."
      ]
    },
    {
      "cell_type": "code",
      "execution_count": 24,
      "metadata": {
        "id": "QyuYxm1Dn1Nh",
        "outputId": "416913da-8df6-442b-966c-179741d29ce6",
        "colab": {
          "base_uri": "https://localhost:8080/"
        }
      },
      "outputs": [
        {
          "output_type": "stream",
          "name": "stdout",
          "text": [
            "The Z-score of highest scorer in SAT among all the applicants 1.75\n",
            "The Z-score of highest scorer in ACT among all the applicants 2.0\n"
          ]
        }
      ],
      "source": [
        "# find the Z-score of highest scorer in SAT among all the applicants\n",
        "top_sat = (1350 - 1000) / 200\n",
        "print('The Z-score of highest scorer in SAT among all the applicants', top_sat)\n",
        "# find the Z-score of highest scorer in ACT among all the applicants\n",
        "top_act = (30 - 20) / 5\n",
        "print('The Z-score of highest scorer in ACT among all the applicants', top_act)"
      ]
    },
    {
      "cell_type": "markdown",
      "metadata": {
        "id": "MH9AphH5n1Ni"
      },
      "source": [
        "Let's plot the standard normal distribution and visualize the above standardized scores."
      ]
    },
    {
      "cell_type": "code",
      "execution_count": 25,
      "metadata": {
        "id": "PvQgf9Mfn1Ni",
        "outputId": "8ee990e8-68e6-407b-ea13-c99f772631d9",
        "colab": {
          "base_uri": "https://localhost:8080/",
          "height": 295
        }
      },
      "outputs": [
        {
          "output_type": "display_data",
          "data": {
            "text/plain": [
              "<Figure size 432x288 with 1 Axes>"
            ],
            "image/png": "[encoded data removed]"
          },
          "metadata": {
            "needs_background": "light"
          }
        }
      ],
      "source": [
        "# plot the standard normal distribution\n",
        "# and visualize the standardized scores\n",
        "# We are plotting the distributions here to better visualize the calculations.\n",
        "fig, ax = plt.subplots()\n",
        "x = np.linspace(-4,4,50)\n",
        "ax.plot(x, norm.pdf(x, loc = 0, scale = 1), color = 'b')\n",
        "ax.set_title('Standard Normal Distribution')\n",
        "ax.set_xlabel('Z-scores')\n",
        "ax.set_ylabel('Probability')\n",
        "ax.axvline(top_sat, ymax = 0.25, linestyle = '--', color = 'green')\n",
        "ax.axvline(top_act, ymax = 0.16, linestyle = '--', color = 'black')\n",
        "plt.show()"
      ]
    },
    {
      "cell_type": "markdown",
      "metadata": {
        "id": "kyU3G2a-n1Ni"
      },
      "source": [
        "In the above plot, the green line represents the standardized highest SAT score of the applicants which is 1.75 standard deviations above the mean and the black line represents the standardized highest ACT score of the applicants which is 2 standard deviations above the mean.\n",
        "\n",
        "This means that among the applicants, the highest scorer in ACT performed better than the highest scorer in SAT.\n",
        "\n",
        "Thus, the top performer fellowship should be given to the applicant who has scored highest in ACT."
      ]
    }
  ],
  "metadata": {
    "colab": {
      "collapsed_sections": [
        "Lc9FElXElv_G",
        "akluEr_i2s6H",
        "ai6e1N6TF_CH",
        "ShfWrUOZUST6",
        "0UlaBxDXEioT",
        "QUnO4uNt6YLO",
        "0R8rRXiHOdAm",
        "-4qW1rxRREvT",
        "dQi7JSQgSRAH",
        "-LfgewK8S_eW",
        "KVD4CbVSn1Nh"
      ],
      "name": "Hands_on_Notebook_Week1.ipynb",
      "provenance": []
    },
    "kernelspec": {
      "display_name": "Python 3",
      "language": "python",
      "name": "python3"
    },
    "language_info": {
      "codemirror_mode": {
        "name": "ipython",
        "version": 3
      },
      "file_extension": ".py",
      "mimetype": "text/x-python",
      "name": "python",
      "nbconvert_exporter": "python",
      "pygments_lexer": "ipython3",
      "version": "3.8.8"
    }
  },
  "nbformat": 4,
  "nbformat_minor": 0
}