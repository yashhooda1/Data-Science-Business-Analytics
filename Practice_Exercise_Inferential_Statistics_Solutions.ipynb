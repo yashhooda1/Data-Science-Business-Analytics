{
  "cells": [
    {
      "cell_type": "markdown",
      "metadata": {
        "id": "XeV1U7GkVNZY"
      },
      "source": [
        "## **Importing necessary libraries**"
      ]
    },
    {
      "cell_type": "code",
      "execution_count": 1,
      "metadata": {
        "id": "219CEYUFVNZn"
      },
      "outputs": [],
      "source": [
        "# import the important packages\n",
        "import pandas as pd  # library used for data manipulation and analysis\n",
        "\n",
        "import numpy as np  # library used for working with arrays\n",
        "\n",
        "import matplotlib.pyplot as plt  # library for visualization\n",
        "\n",
        "import seaborn as sns  # library for visualization\n",
        "\n",
        "%matplotlib inline\n",
        "\n",
        "import scipy.stats as stats  # this library contains a large number of probability distributions as well as a growing library of statistical functions"
      ]
    },
    {
      "cell_type": "markdown",
      "metadata": {
        "id": "zwbR4fdpVNZp"
      },
      "source": [
        "# Binomial Distribution"
      ]
    },
    {
      "cell_type": "markdown",
      "metadata": {
        "id": "iLvUFh_6VNZp"
      },
      "source": [
        "### Q1. A LED bulb manufacturing company regularly conducts quality checks at specified periods on the products it manufactures.  Historically, the failure rate for LED light bulbs that the company manufactures is 5%. Suppose a random sample of 10 LED light bulbs is selected. Find the probability distribution for the defective bulbs and answer the following questions."
      ]
    },
    {
      "cell_type": "code",
      "execution_count": 2,
      "metadata": {
        "id": "Pnp7Np_VVNZp"
      },
      "outputs": [],
      "source": [
        "p   =  0.05 # failure rate for LED light bulbs that the company manufactures is 5%\n",
        "n   =  10 # sample size\n",
        "k   =  np.arange(0,11) # an array of different possible number of defective bulbs"
      ]
    },
    {
      "cell_type": "code",
      "execution_count": 3,
      "metadata": {
        "id": "7tAFDju8VNZq"
      },
      "outputs": [],
      "source": [
        "binomial = stats.binom.pmf(k,n,p)"
      ]
    },
    {
      "cell_type": "code",
      "execution_count": 4,
      "metadata": {
        "colab": {
          "base_uri": "https://localhost:8080/"
        },
        "id": "D3FonjHuVNZq",
        "outputId": "c9abcf1e-f812-41a0-a032-dbdda282b894"
      },
      "outputs": [
        {
          "output_type": "stream",
          "name": "stdout",
          "text": [
            "[5.98736939e-01 3.15124705e-01 7.46347985e-02 1.04750594e-02\n",
            " 9.64808106e-04 6.09352488e-05 2.67259863e-06 8.03789062e-08\n",
            " 1.58642578e-09 1.85546875e-11 9.76562500e-14]\n"
          ]
        }
      ],
      "source": [
        "print(binomial)"
      ]
    },
    {
      "cell_type": "markdown",
      "metadata": {
        "id": "So2fXK6AZ-Xs"
      },
      "source": [
        "**Plot the binomial distribution**"
      ]
    },
    {
      "cell_type": "code",
      "execution_count": 5,
      "metadata": {
        "colab": {
          "base_uri": "https://localhost:8080/",
          "height": 0
        },
        "id": "EucEco3yZx0y",
        "outputId": "89d86657-13d8-4519-818b-fa8e3fcfe4f5"
      },
      "outputs": [
        {
          "output_type": "display_data",
          "data": {
            "text/plain": [
              "<Figure size 432x288 with 1 Axes>"
            ],
            "image/png": "[encoded data removed]"
          },
          "metadata": {
            "needs_background": "light"
          }
        }
      ],
      "source": [
        "# plot the distribution\n",
        "plt.bar(k,binomial)\n",
        "plt.title('Binomial: n=%i , p=%.2f' % (n,p), fontsize=15)\n",
        "plt.xlabel('Number of Successes')\n",
        "plt.ylabel('Probability of Successes')\n",
        "plt.show()"
      ]
    },
    {
      "cell_type": "markdown",
      "metadata": {
        "id": "U8C34C7HVNZr"
      },
      "source": [
        "**a) What is the probability that none of the LED bulbs are defective?**"
      ]
    },
    {
      "cell_type": "code",
      "execution_count": 6,
      "metadata": {
        "colab": {
          "base_uri": "https://localhost:8080/"
        },
        "id": "DYBa2d2kVNZs",
        "outputId": "2c775803-040e-45f9-804a-c73db8c61c9b"
      },
      "outputs": [
        {
          "output_type": "stream",
          "name": "stdout",
          "text": [
            "The probability that none of the LED bulbs are defective is 0.5987\n"
          ]
        }
      ],
      "source": [
        "print('The probability that none of the LED bulbs are defective is %1.4f' %binomial[0])"
      ]
    },
    {
      "cell_type": "markdown",
      "metadata": {
        "id": "siKk2kFfVNZs"
      },
      "source": [
        "**b) What is the probability that exactly one of the LED bulbs is defective?**"
      ]
    },
    {
      "cell_type": "code",
      "execution_count": 7,
      "metadata": {
        "colab": {
          "base_uri": "https://localhost:8080/"
        },
        "id": "JvlpPRafVNZt",
        "outputId": "2f458c59-5a60-4369-d420-125b38ded518"
      },
      "outputs": [
        {
          "output_type": "stream",
          "name": "stdout",
          "text": [
            "The probability that exactly one of the LED bulbs is defective is 0.3151\n"
          ]
        }
      ],
      "source": [
        "print('The probability that exactly one of the LED bulbs is defective is %1.4f' %binomial[1])"
      ]
    },
    {
      "cell_type": "markdown",
      "metadata": {
        "id": "sTKTp_VbVNZt"
      },
      "source": [
        "**c) What is the probability that two or fewer of the LED bulbs are defective?**"
      ]
    },
    {
      "cell_type": "markdown",
      "metadata": {
        "id": "_ETr7cSsVNZu"
      },
      "source": [
        "Hint: We need to calculate cumulative probability of two or fewer LED bulbs being defective."
      ]
    },
    {
      "cell_type": "code",
      "execution_count": 8,
      "metadata": {
        "id": "4j7cFmgqVNZu"
      },
      "outputs": [],
      "source": [
        "cumulative_binomial = stats.binom.cdf(k,n,p)"
      ]
    },
    {
      "cell_type": "code",
      "execution_count": 9,
      "metadata": {
        "colab": {
          "base_uri": "https://localhost:8080/"
        },
        "id": "ohej5x5tVNZv",
        "outputId": "3d48c98a-e2dd-4f02-8a6b-babca6df913e"
      },
      "outputs": [
        {
          "output_type": "stream",
          "name": "stdout",
          "text": [
            "The probability that two or fewer of the LED bulbs are defective is 0.9885\n"
          ]
        }
      ],
      "source": [
        "print('The probability that two or fewer of the LED bulbs are defective is %1.4f' %cumulative_binomial[2])"
      ]
    },
    {
      "cell_type": "markdown",
      "metadata": {
        "id": "6D3d7vgNVNZv"
      },
      "source": [
        "**d) What is the probability that three or more of the LED bulbs are defective?**"
      ]
    },
    {
      "cell_type": "markdown",
      "metadata": {
        "id": "-EnDIeiTVNZv"
      },
      "source": [
        "Hint: We need to subtract the cumulative probability of up to 2 defective LED bulbs from 1."
      ]
    },
    {
      "cell_type": "code",
      "execution_count": 10,
      "metadata": {
        "colab": {
          "base_uri": "https://localhost:8080/"
        },
        "id": "mvuUJchzVNZw",
        "outputId": "529e5a3d-d40c-4c31-f5a6-26232579babe"
      },
      "outputs": [
        {
          "output_type": "stream",
          "name": "stdout",
          "text": [
            "The probability that three or more of the LED bulbs are defective is 0.0115\n"
          ]
        }
      ],
      "source": [
        "P = 1- cumulative_binomial[2]\n",
        "print('The probability that three or more of the LED bulbs are defective is %1.4f' % P)"
      ]
    },
    {
      "cell_type": "markdown",
      "metadata": {
        "id": "g7pg-lWiVNZx"
      },
      "source": [
        "### Q2. During an NBA game, a basketball player has two foul shots (free throw) and the conversion rate of free-throw shots is 93%. Find the following probabilities."
      ]
    },
    {
      "cell_type": "code",
      "execution_count": 11,
      "metadata": {
        "id": "lxT7-cFZVNZx"
      },
      "outputs": [],
      "source": [
        "success=0.93"
      ]
    },
    {
      "cell_type": "markdown",
      "metadata": {
        "id": "I1yejxesVNZx"
      },
      "source": [
        "**a) What is the probability that the player will convert both the shots?**"
      ]
    },
    {
      "cell_type": "code",
      "execution_count": 12,
      "metadata": {
        "colab": {
          "base_uri": "https://localhost:8080/"
        },
        "id": "SmwMFMOwVNZx",
        "outputId": "43d86b91-bfea-445e-cf2b-675b85d071c3"
      },
      "outputs": [
        {
          "output_type": "stream",
          "name": "stdout",
          "text": [
            "The probability that the player will convert both the shots is 0.8649\n"
          ]
        }
      ],
      "source": [
        "print('The probability that the player will convert both the shots is',round(stats.binom.pmf(2,2,0.93),4))"
      ]
    },
    {
      "cell_type": "markdown",
      "metadata": {
        "id": "0R1FriOVVNZy"
      },
      "source": [
        "**b) What is the probability that the player will convert at least one shot?**"
      ]
    },
    {
      "cell_type": "code",
      "execution_count": 13,
      "metadata": {
        "colab": {
          "base_uri": "https://localhost:8080/"
        },
        "id": "LHvHcZIZVNZy",
        "outputId": "b67e6e7b-36a2-493a-dc08-7a83a1c3bc33"
      },
      "outputs": [
        {
          "output_type": "stream",
          "name": "stdout",
          "text": [
            "The probability that the player will convert at least one shot is 0.9951\n"
          ]
        }
      ],
      "source": [
        "print('The probability that the player will convert at least one shot is',round((1 - stats.binom.cdf(0,2,0.93)),4))"
      ]
    },
    {
      "cell_type": "markdown",
      "metadata": {
        "id": "jeGWrHJhabri"
      },
      "source": [
        "### Q3.\tOver a long period in a large multinomial corporation, 10% of all sales trainees are rated as outstanding, 75% are rated as excellent, 10% are rated as satisfactory and 5% are considered unsatisfactory. Find the following probabilities for a sample of 10 trainees selected at random."
      ]
    },
    {
      "cell_type": "markdown",
      "metadata": {
        "id": "f0-NPUBiVNaG"
      },
      "source": [
        "**a) Two are rated as outstanding**"
      ]
    },
    {
      "cell_type": "code",
      "execution_count": 14,
      "metadata": {
        "id": "nJhIbOHmabrl",
        "outputId": "3ecd7a8b-c780-48dc-9bb2-4cb0234491da",
        "colab": {
          "base_uri": "https://localhost:8080/"
        }
      },
      "outputs": [
        {
          "output_type": "stream",
          "name": "stdout",
          "text": [
            "Probability that two trainees are rated as outstanding is 0.19371\n"
          ]
        }
      ],
      "source": [
        "p=0.1\n",
        "n=10\n",
        "k=2\n",
        "binomial = stats.binom.pmf(k,n,p)\n",
        "print('Probability that two trainees are rated as outstanding is %1.5f' % binomial )"
      ]
    },
    {
      "cell_type": "markdown",
      "metadata": {
        "id": "RZCEMFSrVNaG"
      },
      "source": [
        "**b) Two or more are rated as outstanding**"
      ]
    },
    {
      "cell_type": "code",
      "execution_count": 15,
      "metadata": {
        "id": "KxHPMtooabrw",
        "outputId": "b467644b-1ea0-4fbe-81f1-66fef1537aa8",
        "colab": {
          "base_uri": "https://localhost:8080/"
        }
      },
      "outputs": [
        {
          "output_type": "stream",
          "name": "stdout",
          "text": [
            "Probability that two or more trainees are rated as outstanding is 0.26390\n"
          ]
        }
      ],
      "source": [
        "p=0.1\n",
        "n=10\n",
        "k=1\n",
        "\n",
        "##To  answer this we need to calculate the cumulative probability \n",
        "binomial = stats.binom.cdf(k,n,p)\n",
        "\n",
        "#since we have calculated for 1 or less, for two or more we will subtract this prob from 1\n",
        "print('Probability that two or more trainees are rated as outstanding is %1.5f' % (1-binomial))"
      ]
    },
    {
      "cell_type": "markdown",
      "metadata": {
        "id": "u5_21Ab8VNaH"
      },
      "source": [
        "**c) Eight of the ten are rated either outstanding or excellent**"
      ]
    },
    {
      "cell_type": "code",
      "execution_count": 16,
      "metadata": {
        "id": "hUf08sVQabr3",
        "outputId": "0024de9f-58c8-4c05-f69a-ed9685db4eaf",
        "colab": {
          "base_uri": "https://localhost:8080/"
        }
      },
      "outputs": [
        {
          "output_type": "stream",
          "name": "stdout",
          "text": [
            "Probability that eight out of ten trainees are rated either excellent or outstanding is 0.27590\n"
          ]
        }
      ],
      "source": [
        "#Probability of excellent or outstanding is 0.75 + 0.10\n",
        "\n",
        "p=0.85\n",
        "n=10\n",
        "k=8\n",
        "binomial = stats.binom.pmf(k,n,p)\n",
        "print('Probability that eight out of ten trainees are rated either excellent or outstanding is %1.5f' % binomial)"
      ]
    },
    {
      "cell_type": "markdown",
      "metadata": {
        "id": "by_BuepFVNaH"
      },
      "source": [
        "**d) None of the trainees are rated as unsatisfactory**"
      ]
    },
    {
      "cell_type": "code",
      "execution_count": 17,
      "metadata": {
        "id": "RHtn4WYzabsA",
        "outputId": "0dbefcaf-5023-4282-8389-0ea9786d70c5",
        "colab": {
          "base_uri": "https://localhost:8080/"
        }
      },
      "outputs": [
        {
          "output_type": "stream",
          "name": "stdout",
          "text": [
            "Probability of no trainees are unsatisfactory is 0.59874\n"
          ]
        }
      ],
      "source": [
        "p=0.05\n",
        "n=10\n",
        "k=0\n",
        "binomial = stats.binom.pmf(k,n,p)\n",
        "print('Probability of no trainees are unsatisfactory is %1.5f' % binomial )"
      ]
    },
    {
      "cell_type": "markdown",
      "metadata": {
        "id": "xh7vsKOHVNZ8"
      },
      "source": [
        "# Normal Distribution"
      ]
    },
    {
      "cell_type": "markdown",
      "metadata": {
        "id": "yRiWnS4VabsT"
      },
      "source": [
        "### Q4. According to the Telecommunication Industry, the average monthly cell phone bill is Rs. 850 with a standard deviation of Rs. 150. Assuming that the monthly bill follows a normal distribution, answer the following questions."
      ]
    },
    {
      "cell_type": "markdown",
      "metadata": {
        "id": "MJ7wKYwvVNZ_"
      },
      "source": [
        "**a) What is the probability that a randomly selected cell phone bill is more than Rs 1200?**"
      ]
    },
    {
      "cell_type": "code",
      "execution_count": 18,
      "metadata": {
        "colab": {
          "base_uri": "https://localhost:8080/"
        },
        "id": "jJ1cXSf0absV",
        "outputId": "74d2bb4a-c053-4d7a-d7ba-51d721540541"
      },
      "outputs": [
        {
          "output_type": "execute_result",
          "data": {
            "text/plain": [
              "0.0098"
            ]
          },
          "metadata": {},
          "execution_count": 18
        }
      ],
      "source": [
        "#To calculate this, we will calculate the cumulative probability for less than 1200 and then will subtract from 1.\n",
        "\n",
        "round(1-stats.norm.cdf(1200,loc=850,scale=150), 4)"
      ]
    },
    {
      "cell_type": "markdown",
      "metadata": {
        "id": "1eoJzslRVNZ_"
      },
      "source": [
        "**b) What is the probability that a randomly selected cell phone bill is between Rs 750 and Rs 1200?**"
      ]
    },
    {
      "cell_type": "code",
      "execution_count": 19,
      "metadata": {
        "colab": {
          "base_uri": "https://localhost:8080/"
        },
        "id": "1uU2mRzbabsh",
        "outputId": "6be72d8d-443b-4896-e310-f80f40e398df"
      },
      "outputs": [
        {
          "output_type": "execute_result",
          "data": {
            "text/plain": [
              "0.7377"
            ]
          },
          "metadata": {},
          "execution_count": 19
        }
      ],
      "source": [
        "round(stats.norm.cdf(1200,loc=850,scale=150) - stats.norm.cdf(750,loc=850,scale=150), 4)"
      ]
    },
    {
      "cell_type": "markdown",
      "metadata": {
        "id": "tGxBocT6VNZ_"
      },
      "source": [
        "**c) What is the probability that a randomly selected cell phone bill is no more than Rs 650?**"
      ]
    },
    {
      "cell_type": "code",
      "execution_count": 20,
      "metadata": {
        "colab": {
          "base_uri": "https://localhost:8080/"
        },
        "id": "TqFcIHcUabsp",
        "outputId": "1fa2196b-9b06-4fb1-a014-b3da6d5a1099"
      },
      "outputs": [
        {
          "output_type": "execute_result",
          "data": {
            "text/plain": [
              "0.0912"
            ]
          },
          "metadata": {},
          "execution_count": 20
        }
      ],
      "source": [
        "round(stats.norm.cdf(650,loc=850,scale=150), 4)"
      ]
    },
    {
      "cell_type": "markdown",
      "metadata": {
        "id": "oFmIG_sqVNaA"
      },
      "source": [
        "**d) What is the amount above which lies top 15% of cell phone bills?**"
      ]
    },
    {
      "cell_type": "code",
      "execution_count": 21,
      "metadata": {
        "colab": {
          "base_uri": "https://localhost:8080/"
        },
        "id": "_r55P6SNabs0",
        "outputId": "1d80b7ee-cf80-4351-e29c-a56342a9e62b"
      },
      "outputs": [
        {
          "output_type": "execute_result",
          "data": {
            "text/plain": [
              "1005.4650084240685"
            ]
          },
          "metadata": {},
          "execution_count": 21
        }
      ],
      "source": [
        "#Let the amount be M. P(X ≥ M) = 15% => 1 – P(X < M) = 0.15 => P(X < M) = 0.85 \n",
        "#To calculate this we will use the percent point function i.e ppf.\n",
        "\n",
        "stats.norm.ppf(0.85,loc=850,scale=150)"
      ]
    },
    {
      "cell_type": "markdown",
      "metadata": {
        "id": "_lNAMUvvVNaA"
      },
      "source": [
        "**e) What is the amount below which lies bottom 25% of cell phone bills?**"
      ]
    },
    {
      "cell_type": "code",
      "execution_count": 22,
      "metadata": {
        "colab": {
          "base_uri": "https://localhost:8080/"
        },
        "id": "-7OQk_Ftabs-",
        "outputId": "6e303ebe-13dd-4dc9-9a24-0400ac6ae55e"
      },
      "outputs": [
        {
          "output_type": "execute_result",
          "data": {
            "text/plain": [
              "748.8265"
            ]
          },
          "metadata": {},
          "execution_count": 22
        }
      ],
      "source": [
        "round(stats.norm.ppf(0.25,loc=850,scale=150), 4)"
      ]
    },
    {
      "cell_type": "markdown",
      "metadata": {
        "id": "QmtfulFDVNaH"
      },
      "source": [
        "### Q5. The mean filling capacity for a coke bottle is 500 ml with a standard deviation of 20 ml. Assume that it follows a normal distribution and answer the following questions."
      ]
    },
    {
      "cell_type": "code",
      "execution_count": 23,
      "metadata": {
        "id": "ySnY5DVYVNaI"
      },
      "outputs": [],
      "source": [
        "mu = 500\n",
        "sigma = 20"
      ]
    },
    {
      "cell_type": "markdown",
      "metadata": {
        "id": "ak4RyMGVVNaI"
      },
      "source": [
        "**a) What is the probability that the bottle filled less than 480 ml?**"
      ]
    },
    {
      "cell_type": "code",
      "execution_count": 24,
      "metadata": {
        "colab": {
          "base_uri": "https://localhost:8080/"
        },
        "id": "7HZogLBGVNaI",
        "outputId": "52ad928c-e824-41f6-97f2-41372cd6fe20"
      },
      "outputs": [
        {
          "output_type": "stream",
          "name": "stdout",
          "text": [
            "Probability of bottle filled less than 480 ml is 0.1587\n"
          ]
        }
      ],
      "source": [
        "x1=480\n",
        "z1=(x1-mu)/sigma\n",
        "p=stats.norm.cdf(z1)\n",
        "print ('Probability of bottle filled less than 480 ml is %1.4f' %p)"
      ]
    },
    {
      "cell_type": "markdown",
      "metadata": {
        "id": "ILDdv_5fVNaI"
      },
      "source": [
        "**b) What is the probability that the bottle filled more than 520 ml?**"
      ]
    },
    {
      "cell_type": "code",
      "execution_count": 25,
      "metadata": {
        "colab": {
          "base_uri": "https://localhost:8080/"
        },
        "id": "u42DGuDPVNaJ",
        "outputId": "a0366c7a-6296-4f75-c42a-de8d03059c26"
      },
      "outputs": [
        {
          "output_type": "stream",
          "name": "stdout",
          "text": [
            "probability of bottle filled more than 520 ml is 0.1587\n"
          ]
        }
      ],
      "source": [
        "x2=520\n",
        "z2=(x2-mu)/sigma\n",
        "p1= 1 - stats.norm.cdf(z2)\n",
        "print ('probability of bottle filled more than 520 ml is %1.4f' %p1)"
      ]
    },
    {
      "cell_type": "markdown",
      "metadata": {
        "id": "GDGLNR7dVNaJ"
      },
      "source": [
        "**c) What is the probability that the bottle filled between 470 ml to 525 ml?**"
      ]
    },
    {
      "cell_type": "code",
      "execution_count": 26,
      "metadata": {
        "colab": {
          "base_uri": "https://localhost:8080/"
        },
        "id": "_uPKpbvtVNaK",
        "outputId": "533823d1-0824-4a66-c87b-ea4e1ff4462a"
      },
      "outputs": [
        {
          "output_type": "stream",
          "name": "stdout",
          "text": [
            "probability that the bottle filled between 470 ml to 525 ml is 0.8275\n"
          ]
        }
      ],
      "source": [
        "x3=470\n",
        "z3=(x3-mu)/sigma\n",
        "x4=525\n",
        "z4=(x4-mu)/sigma\n",
        "p2=stats.norm.cdf(z3)\n",
        "p3=stats.norm.cdf(z4)\n",
        "p4=p3-p2\n",
        "\n",
        "print ('probability that the bottle filled between 470 ml to 525 ml is %1.4f' %p4)"
      ]
    },
    {
      "cell_type": "markdown",
      "metadata": {
        "id": "7WFVLPL-VNaM"
      },
      "source": [
        "### Q6. In 2 Liter soft drink bottles, the drink filled is normally distributed, with a mean of 2.0 liters and a standard deviation of 0.05 liter. If bottles contain less than 95% of the listed net content (1.90 liters), the manufacturer may be subject to penalty by the state office of consumer affairs. Bottles that have a net quantity above 2.1 liters may cause excess spillage upon opening. Answer the following questions."
      ]
    },
    {
      "cell_type": "code",
      "execution_count": 27,
      "metadata": {
        "id": "-1PK8VacVNaM"
      },
      "outputs": [],
      "source": [
        "mu     = 2\n",
        "sigma  = 0.05"
      ]
    },
    {
      "cell_type": "markdown",
      "metadata": {
        "id": "KJh8EodMVNaM"
      },
      "source": [
        "**a) What is the probability that the bottle content is between 1.9 and 2.0 liters?**"
      ]
    },
    {
      "cell_type": "code",
      "execution_count": 28,
      "metadata": {
        "colab": {
          "base_uri": "https://localhost:8080/"
        },
        "id": "WfcWl231VNaM",
        "outputId": "c1940a04-d1c0-425a-fb6e-2890f02d024c"
      },
      "outputs": [
        {
          "output_type": "stream",
          "name": "stdout",
          "text": [
            "Probability that the bottle content is between 1.9 and 2 liters is 0.4772\n"
          ]
        }
      ],
      "source": [
        "Prob = stats.norm.cdf(2,loc=mu,scale=sigma) - stats.norm.cdf(1.90,loc=mu,scale=sigma)\n",
        "print(\"Probability that the bottle content is between 1.9 and 2 liters is %3.4f\" % Prob)"
      ]
    },
    {
      "cell_type": "markdown",
      "metadata": {
        "id": "hZhrsYtoVNaN"
      },
      "source": [
        "**b) What is the probability that the bottle content is between 1.9 and 2.1 liters?**"
      ]
    },
    {
      "cell_type": "code",
      "execution_count": 29,
      "metadata": {
        "colab": {
          "base_uri": "https://localhost:8080/"
        },
        "id": "wbnjjf0aVNaN",
        "outputId": "0b26c7bc-17ce-4ced-e891-e82cffcb461a"
      },
      "outputs": [
        {
          "output_type": "stream",
          "name": "stdout",
          "text": [
            "Probability that the bottle content is between 1.9 and 2.1 liters is 0.9545\n"
          ]
        }
      ],
      "source": [
        "Prob = stats.norm.cdf(2.1,loc=mu,scale=sigma) - stats.norm.cdf(1.9,loc=mu,scale=sigma)\n",
        "print(\"Probability that the bottle content is between 1.9 and 2.1 liters is %3.4f\" % Prob)"
      ]
    },
    {
      "cell_type": "markdown",
      "metadata": {
        "id": "H6fG71TVVNaN"
      },
      "source": [
        "**c) What is the probability that the bottle content is below 1.9 liters or above 2.1 liters?**"
      ]
    },
    {
      "cell_type": "code",
      "execution_count": 30,
      "metadata": {
        "colab": {
          "base_uri": "https://localhost:8080/"
        },
        "id": "1Z6O0xxHVNaO",
        "outputId": "e5439f1f-9c5f-41c0-a418-d90ba811c77a"
      },
      "outputs": [
        {
          "output_type": "stream",
          "name": "stdout",
          "text": [
            "Probability that the bottle content is below 1.9 liters or above 2.1 liters is 0.0455\n"
          ]
        }
      ],
      "source": [
        "Prob1  =  stats.norm.cdf(1.9,loc=mu,scale=sigma)\n",
        "Prob2  =  1 - stats.norm.cdf(2.1,loc=mu,scale=sigma)\n",
        "print(\"Probability that the bottle content is below 1.9 liters or above 2.1 liters is %3.4f\" % (Prob1 + Prob2))"
      ]
    },
    {
      "cell_type": "markdown",
      "metadata": {
        "id": "Qc1CMY6PVNaO"
      },
      "source": [
        "**d) 99% of the bottles contains at least what amount of soft drink in them?**"
      ]
    },
    {
      "cell_type": "code",
      "execution_count": 31,
      "metadata": {
        "colab": {
          "base_uri": "https://localhost:8080/"
        },
        "id": "vhoVgTxBVNaO",
        "outputId": "ccf0712f-f9be-4609-ff87-e1255dbea1bb"
      },
      "outputs": [
        {
          "output_type": "stream",
          "name": "stdout",
          "text": [
            "99% of the bottles have at least 1.88 Liters\n"
          ]
        }
      ],
      "source": [
        "Prob = stats.norm.ppf(0.01, loc = mu, scale = sigma)\n",
        "print(\"99% of the bottles have at least\",round(Prob,2),\"Liters\")"
      ]
    }
  ],
  "metadata": {
    "colab": {
      "collapsed_sections": [
        "zwbR4fdpVNZp",
        "g7pg-lWiVNZx",
        "jeGWrHJhabri",
        "yRiWnS4VabsT",
        "QmtfulFDVNaH",
        "7WFVLPL-VNaM"
      ],
      "name": "Practice_Exercise_Inferential_Statistics_Solutions.ipynb",
      "provenance": []
    },
    "kernelspec": {
      "display_name": "Python 3",
      "language": "python",
      "name": "python3"
    },
    "language_info": {
      "codemirror_mode": {
        "name": "ipython",
        "version": 3
      },
      "file_extension": ".py",
      "mimetype": "text/x-python",
      "name": "python",
      "nbconvert_exporter": "python",
      "pygments_lexer": "ipython3",
      "version": "3.8.5"
    }
  },
  "nbformat": 4,
  "nbformat_minor": 0
}